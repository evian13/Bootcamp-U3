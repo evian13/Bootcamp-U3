{
 "cells": [
  {
   "cell_type": "markdown",
   "metadata": {},
   "source": [
    "For each, identify which supervised learning method(s) would be best for addressing that particular problem. \n",
    "\n",
    "Explain your reasoning and discuss your answers with your mentor."
   ]
  },
  {
   "cell_type": "markdown",
   "metadata": {},
   "source": [
    "1. Predict the running times of prospective Olympic sprinters using data from the last 20 Olympics.\n",
    "* You have more features (columns) than rows in your dataset.\n",
    "* Identify the most important characteristic predicting likelihood of being jailed before age 20.\n",
    "* Implement a filter to “highlight” emails that might be important to the recipient\n",
    "* You have 1000+ features.\n",
    "* Predict whether someone who adds items to their cart on a website will purchase the items.\n",
    "* Your dataset dimensions are 982400 x 500\n",
    "* Identify faces in an image.\n",
    "* Predict which of three flavors of ice cream will be most popular with boys vs girls."
   ]
  },
  {
   "cell_type": "markdown",
   "metadata": {},
   "source": [
    "1.Predict the running times of prospective Olympic sprinters using data from the last 20 Olympics.\n",
    "\n",
    "- random forest\n",
    "\n",
    "- SVM regression\n",
    "- Gradient Boosting"
   ]
  },
  {
   "cell_type": "markdown",
   "metadata": {},
   "source": [
    "2.You have more features (columns) than rows in your dataset.\n",
    "- random forest\n",
    "- SVM\n"
   ]
  },
  {
   "cell_type": "markdown",
   "metadata": {},
   "source": [
    "3.Identify the most important characteristic predicting likelihood of being jailed before age 20.\n",
    "\n",
    " - logistic regression for classification\n",
    " - random forest\n",
    " - GB"
   ]
  },
  {
   "cell_type": "markdown",
   "metadata": {},
   "source": [
    "4.Implement a filter to “highlight” emails that might be important to the recipient\n",
    "- Naive Bayes\n",
    "- RF classifier"
   ]
  },
  {
   "cell_type": "markdown",
   "metadata": {},
   "source": [
    "5.You have 1000+ features.\n",
    "- ridge/lasso regression\n"
   ]
  },
  {
   "cell_type": "markdown",
   "metadata": {},
   "source": [
    "6.Predict whether someone who adds items to their cart on a website will purchase the items.\n",
    "\n",
    "- logistic regression for classification\n",
    "- RF\n",
    "- GB"
   ]
  },
  {
   "cell_type": "markdown",
   "metadata": {},
   "source": [
    "7.Your dataset dimensions are 982400 x 500\n",
    "- ridge/lasso regression\n",
    "- PCA with RF/GB/SVM"
   ]
  },
  {
   "cell_type": "markdown",
   "metadata": {},
   "source": [
    "8.Identify faces in an image.\n",
    "- SVM"
   ]
  },
  {
   "cell_type": "markdown",
   "metadata": {},
   "source": [
    "9.Predict which of three flavors of ice cream will be most popular with boys vs girls.\n",
    "- RF\n",
    "- GB\n",
    "- SVM"
   ]
  },
  {
   "cell_type": "code",
   "execution_count": null,
   "metadata": {},
   "outputs": [],
   "source": []
  }
 ],
 "metadata": {
  "anaconda-cloud": {},
  "kernelspec": {
   "display_name": "Python [conda root]",
   "language": "python",
   "name": "conda-root-py"
  },
  "language_info": {
   "codemirror_mode": {
    "name": "ipython",
    "version": 3
   },
   "file_extension": ".py",
   "mimetype": "text/x-python",
   "name": "python",
   "nbconvert_exporter": "python",
   "pygments_lexer": "ipython3",
   "version": "3.5.4"
  },
  "latex_envs": {
   "LaTeX_envs_menu_present": true,
   "autocomplete": true,
   "bibliofile": "biblio.bib",
   "cite_by": "apalike",
   "current_citInitial": 1,
   "eqLabelWithNumbers": true,
   "eqNumInitial": 1,
   "hotkeys": {
    "equation": "Ctrl-E",
    "itemize": "Ctrl-I"
   },
   "labels_anchors": false,
   "latex_user_defs": false,
   "report_style_numbering": false,
   "user_envs_cfg": false
  }
 },
 "nbformat": 4,
 "nbformat_minor": 2
}
