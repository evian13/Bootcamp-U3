{
 "cells": [
  {
   "cell_type": "markdown",
   "metadata": {},
   "source": [
    "### Model Comparison\n",
    "Comparing models is something data scientists do all the time. There's very rarely just one model that would be possible to run for a given situation, so learning to choose the best one is very important.\n",
    "\n",
    "Here let's work on regression. Find a data set and build a KNN Regression and an OLS regression. Compare the two. How similar are they? Do they miss in different ways?\n",
    "\n",
    "Create a Jupyter notebook with your models. At the end in a markdown cell write a few paragraphs to describe the models' behaviors and why you favor one model or the other. Try to determine whether there is a situation where you would change your mind, or whether one is unambiguously better than the other. Lastly, try to note what it is about the data that causes the better model to outperform the weaker model. Submit a link to your notebook below."
   ]
  },
  {
   "cell_type": "code",
   "execution_count": 2,
   "metadata": {},
   "outputs": [],
   "source": [
    "import pandas as pd\n",
    "import numpy as np\n",
    "import scipy\n",
    "import matplotlib.pyplot as plt\n",
    "%matplotlib inline\n",
    "\n",
    "from sklearn import neighbors\n",
    "from sklearn.model_selection import train_test_split\n",
    "from sklearn.preprocessing import StandardScaler  \n",
    "from sklearn.model_selection import cross_val_score\n",
    "\n",
    "from sklearn.neighbors import KNeighborsRegressor\n",
    "\n",
    "from sklearn import linear_model\n",
    "\n",
    "# Suppress annoying harmless error.\n",
    "\n",
    "import warnings\n",
    "warnings.filterwarnings(action=\"ignore\", module=\"scipy\", message=\"^internal gelsd\")\n",
    "\n",
    "from matplotlib.mlab import PCA as mlabPCA\n",
    "from sklearn.decomposition import PCA "
   ]
  },
  {
   "cell_type": "code",
   "execution_count": 3,
   "metadata": {},
   "outputs": [
    {
     "data": {
      "text/html": [
       "<div>\n",
       "<style scoped>\n",
       "    .dataframe tbody tr th:only-of-type {\n",
       "        vertical-align: middle;\n",
       "    }\n",
       "\n",
       "    .dataframe tbody tr th {\n",
       "        vertical-align: top;\n",
       "    }\n",
       "\n",
       "    .dataframe thead th {\n",
       "        text-align: right;\n",
       "    }\n",
       "</style>\n",
       "<table border=\"1\" class=\"dataframe\">\n",
       "  <thead>\n",
       "    <tr style=\"text-align: right;\">\n",
       "      <th></th>\n",
       "      <th>City</th>\n",
       "      <th>Population</th>\n",
       "      <th>Violent\n",
       "crime</th>\n",
       "      <th>Murder and\n",
       "nonnegligent\n",
       "manslaughter</th>\n",
       "      <th>Rape\n",
       "(revised\n",
       "definition)1</th>\n",
       "      <th>Rape\n",
       "(legacy\n",
       "definition)2</th>\n",
       "      <th>Robbery</th>\n",
       "      <th>Aggravated\n",
       "assault</th>\n",
       "      <th>Property\n",
       "crime</th>\n",
       "      <th>Burglary</th>\n",
       "      <th>Larceny-\n",
       "theft</th>\n",
       "      <th>Motor\n",
       "vehicle\n",
       "theft</th>\n",
       "      <th>Arson3</th>\n",
       "    </tr>\n",
       "  </thead>\n",
       "  <tbody>\n",
       "    <tr>\n",
       "      <th>343</th>\n",
       "      <td>Woodbury Town</td>\n",
       "      <td>10,685</td>\n",
       "      <td>3</td>\n",
       "      <td>0</td>\n",
       "      <td>NaN</td>\n",
       "      <td>0</td>\n",
       "      <td>2</td>\n",
       "      <td>1</td>\n",
       "      <td>541</td>\n",
       "      <td>9</td>\n",
       "      <td>529</td>\n",
       "      <td>3</td>\n",
       "      <td>NaN</td>\n",
       "    </tr>\n",
       "    <tr>\n",
       "      <th>344</th>\n",
       "      <td>Woodridge Village</td>\n",
       "      <td>829</td>\n",
       "      <td>7</td>\n",
       "      <td>0</td>\n",
       "      <td>NaN</td>\n",
       "      <td>0</td>\n",
       "      <td>0</td>\n",
       "      <td>7</td>\n",
       "      <td>17</td>\n",
       "      <td>8</td>\n",
       "      <td>9</td>\n",
       "      <td>0</td>\n",
       "      <td>0.0</td>\n",
       "    </tr>\n",
       "    <tr>\n",
       "      <th>345</th>\n",
       "      <td>Woodstock Town</td>\n",
       "      <td>5,931</td>\n",
       "      <td>2</td>\n",
       "      <td>0</td>\n",
       "      <td>NaN</td>\n",
       "      <td>0</td>\n",
       "      <td>0</td>\n",
       "      <td>2</td>\n",
       "      <td>58</td>\n",
       "      <td>13</td>\n",
       "      <td>45</td>\n",
       "      <td>0</td>\n",
       "      <td>NaN</td>\n",
       "    </tr>\n",
       "    <tr>\n",
       "      <th>346</th>\n",
       "      <td>Yonkers</td>\n",
       "      <td>199,134</td>\n",
       "      <td>1,036</td>\n",
       "      <td>6</td>\n",
       "      <td>NaN</td>\n",
       "      <td>25</td>\n",
       "      <td>390</td>\n",
       "      <td>615</td>\n",
       "      <td>2,368</td>\n",
       "      <td>470</td>\n",
       "      <td>1,662</td>\n",
       "      <td>236</td>\n",
       "      <td>10.0</td>\n",
       "    </tr>\n",
       "    <tr>\n",
       "      <th>347</th>\n",
       "      <td>Yorktown Town</td>\n",
       "      <td>36,643</td>\n",
       "      <td>15</td>\n",
       "      <td>0</td>\n",
       "      <td>NaN</td>\n",
       "      <td>0</td>\n",
       "      <td>2</td>\n",
       "      <td>13</td>\n",
       "      <td>334</td>\n",
       "      <td>45</td>\n",
       "      <td>287</td>\n",
       "      <td>2</td>\n",
       "      <td>NaN</td>\n",
       "    </tr>\n",
       "  </tbody>\n",
       "</table>\n",
       "</div>"
      ],
      "text/plain": [
       "                  City Population Violent\\ncrime  \\\n",
       "343      Woodbury Town     10,685              3   \n",
       "344  Woodridge Village        829              7   \n",
       "345     Woodstock Town      5,931              2   \n",
       "346            Yonkers    199,134          1,036   \n",
       "347      Yorktown Town     36,643             15   \n",
       "\n",
       "     Murder and\\nnonnegligent\\nmanslaughter  Rape\\n(revised\\ndefinition)1  \\\n",
       "343                                       0                           NaN   \n",
       "344                                       0                           NaN   \n",
       "345                                       0                           NaN   \n",
       "346                                       6                           NaN   \n",
       "347                                       0                           NaN   \n",
       "\n",
       "    Rape\\n(legacy\\ndefinition)2 Robbery Aggravated\\nassault Property\\ncrime  \\\n",
       "343                           0       2                   1             541   \n",
       "344                           0       0                   7              17   \n",
       "345                           0       0                   2              58   \n",
       "346                          25     390                 615           2,368   \n",
       "347                           0       2                  13             334   \n",
       "\n",
       "    Burglary Larceny-\\ntheft Motor\\nvehicle\\ntheft  Arson3  \n",
       "343        9             529                     3     NaN  \n",
       "344        8               9                     0     0.0  \n",
       "345       13              45                     0     NaN  \n",
       "346      470           1,662                   236    10.0  \n",
       "347       45             287                     2     NaN  "
      ]
     },
     "execution_count": 3,
     "metadata": {},
     "output_type": "execute_result"
    }
   ],
   "source": [
    "link = 'https://raw.githubusercontent.com/Thinkful-Ed/data-201-resources/master/New_York_offenses/NEW_YORK-Offenses_Known_to_Law_Enforcement_by_City_2013%20-%2013tbl8ny.csv'\n",
    "\n",
    "indices_to_skip = np.array([0,1,2,353,354,355])\n",
    "\n",
    "df = pd.read_csv(link,skiprows=indices_to_skip , header=1)\n",
    "\n",
    "df.tail()\n"
   ]
  },
  {
   "cell_type": "code",
   "execution_count": 4,
   "metadata": {},
   "outputs": [
    {
     "data": {
      "text/plain": [
       "Index(['City', 'Population', 'Violent\\ncrime',\n",
       "       'Murder and\\nnonnegligent\\nmanslaughter',\n",
       "       'Rape\\n(revised\\ndefinition)1', 'Rape\\n(legacy\\ndefinition)2',\n",
       "       'Robbery', 'Aggravated\\nassault', 'Property\\ncrime', 'Burglary',\n",
       "       'Larceny-\\ntheft', 'Motor\\nvehicle\\ntheft', 'Arson3'],\n",
       "      dtype='object')"
      ]
     },
     "execution_count": 4,
     "metadata": {},
     "output_type": "execute_result"
    }
   ],
   "source": [
    "df.columns"
   ]
  },
  {
   "cell_type": "code",
   "execution_count": 5,
   "metadata": {},
   "outputs": [
    {
     "data": {
      "text/plain": [
       "(348, 13)"
      ]
     },
     "execution_count": 5,
     "metadata": {},
     "output_type": "execute_result"
    }
   ],
   "source": [
    "df.shape"
   ]
  },
  {
   "cell_type": "code",
   "execution_count": 6,
   "metadata": {},
   "outputs": [
    {
     "data": {
      "text/plain": [
       "City                                       object\n",
       "Population                                 object\n",
       "Violent\\ncrime                             object\n",
       "Murder and\\nnonnegligent\\nmanslaughter      int64\n",
       "Rape\\n(revised\\ndefinition)1              float64\n",
       "Rape\\n(legacy\\ndefinition)2                object\n",
       "Robbery                                    object\n",
       "Aggravated\\nassault                        object\n",
       "Property\\ncrime                            object\n",
       "Burglary                                   object\n",
       "Larceny-\\ntheft                            object\n",
       "Motor\\nvehicle\\ntheft                      object\n",
       "Arson3                                    float64\n",
       "dtype: object"
      ]
     },
     "execution_count": 6,
     "metadata": {},
     "output_type": "execute_result"
    }
   ],
   "source": [
    "df.dtypes"
   ]
  },
  {
   "cell_type": "markdown",
   "metadata": {},
   "source": [
    "### Replace ',' before converting to numeric:"
   ]
  },
  {
   "cell_type": "code",
   "execution_count": 11,
   "metadata": {},
   "outputs": [],
   "source": [
    "cols = df.columns.drop(['City','Murder and\\nnonnegligent\\nmanslaughter','Rape\\n(revised\\ndefinition)1','Arson3'])\n",
    "\n",
    "# Replace ',' before converting to numeric:\n",
    "df[cols]=df[cols].replace(',*','',regex=True)\n",
    "\n",
    "# Convert to numeric\n",
    "df[cols] = df[cols].apply(pd.to_numeric, errors='coerce')"
   ]
  },
  {
   "cell_type": "code",
   "execution_count": 12,
   "metadata": {
    "scrolled": true
   },
   "outputs": [
    {
     "data": {
      "text/html": [
       "<div>\n",
       "<style scoped>\n",
       "    .dataframe tbody tr th:only-of-type {\n",
       "        vertical-align: middle;\n",
       "    }\n",
       "\n",
       "    .dataframe tbody tr th {\n",
       "        vertical-align: top;\n",
       "    }\n",
       "\n",
       "    .dataframe thead th {\n",
       "        text-align: right;\n",
       "    }\n",
       "</style>\n",
       "<table border=\"1\" class=\"dataframe\">\n",
       "  <thead>\n",
       "    <tr style=\"text-align: right;\">\n",
       "      <th></th>\n",
       "      <th>Population</th>\n",
       "      <th>Violent\n",
       "crime</th>\n",
       "      <th>Murder and\n",
       "nonnegligent\n",
       "manslaughter</th>\n",
       "      <th>Rape\n",
       "(revised\n",
       "definition)1</th>\n",
       "      <th>Rape\n",
       "(legacy\n",
       "definition)2</th>\n",
       "      <th>Robbery</th>\n",
       "      <th>Aggravated\n",
       "assault</th>\n",
       "      <th>Property\n",
       "crime</th>\n",
       "      <th>Burglary</th>\n",
       "      <th>Larceny-\n",
       "theft</th>\n",
       "      <th>Motor\n",
       "vehicle\n",
       "theft</th>\n",
       "      <th>Arson3</th>\n",
       "    </tr>\n",
       "  </thead>\n",
       "  <tbody>\n",
       "    <tr>\n",
       "      <th>count</th>\n",
       "      <td>3.480000e+02</td>\n",
       "      <td>348.000000</td>\n",
       "      <td>348.000000</td>\n",
       "      <td>0.0</td>\n",
       "      <td>348.000000</td>\n",
       "      <td>348.000000</td>\n",
       "      <td>348.000000</td>\n",
       "      <td>348.000000</td>\n",
       "      <td>348.000000</td>\n",
       "      <td>348.000000</td>\n",
       "      <td>348.000000</td>\n",
       "      <td>187.000000</td>\n",
       "    </tr>\n",
       "    <tr>\n",
       "      <th>mean</th>\n",
       "      <td>4.003763e+04</td>\n",
       "      <td>201.594828</td>\n",
       "      <td>1.566092</td>\n",
       "      <td>NaN</td>\n",
       "      <td>5.864943</td>\n",
       "      <td>72.902299</td>\n",
       "      <td>121.261494</td>\n",
       "      <td>792.606322</td>\n",
       "      <td>119.683908</td>\n",
       "      <td>637.017241</td>\n",
       "      <td>35.905172</td>\n",
       "      <td>1.871658</td>\n",
       "    </tr>\n",
       "    <tr>\n",
       "      <th>std</th>\n",
       "      <td>4.500374e+05</td>\n",
       "      <td>2815.268504</td>\n",
       "      <td>18.303673</td>\n",
       "      <td>NaN</td>\n",
       "      <td>60.425452</td>\n",
       "      <td>1031.032873</td>\n",
       "      <td>1706.131730</td>\n",
       "      <td>7659.724746</td>\n",
       "      <td>924.948789</td>\n",
       "      <td>6346.054451</td>\n",
       "      <td>403.423826</td>\n",
       "      <td>10.693411</td>\n",
       "    </tr>\n",
       "    <tr>\n",
       "      <th>min</th>\n",
       "      <td>5.260000e+02</td>\n",
       "      <td>0.000000</td>\n",
       "      <td>0.000000</td>\n",
       "      <td>NaN</td>\n",
       "      <td>0.000000</td>\n",
       "      <td>0.000000</td>\n",
       "      <td>0.000000</td>\n",
       "      <td>0.000000</td>\n",
       "      <td>0.000000</td>\n",
       "      <td>0.000000</td>\n",
       "      <td>0.000000</td>\n",
       "      <td>0.000000</td>\n",
       "    </tr>\n",
       "    <tr>\n",
       "      <th>25%</th>\n",
       "      <td>3.003000e+03</td>\n",
       "      <td>2.000000</td>\n",
       "      <td>0.000000</td>\n",
       "      <td>NaN</td>\n",
       "      <td>0.000000</td>\n",
       "      <td>0.000000</td>\n",
       "      <td>1.000000</td>\n",
       "      <td>40.500000</td>\n",
       "      <td>6.000000</td>\n",
       "      <td>31.000000</td>\n",
       "      <td>0.000000</td>\n",
       "      <td>0.000000</td>\n",
       "    </tr>\n",
       "    <tr>\n",
       "      <th>50%</th>\n",
       "      <td>7.233500e+03</td>\n",
       "      <td>6.000000</td>\n",
       "      <td>0.000000</td>\n",
       "      <td>NaN</td>\n",
       "      <td>0.000000</td>\n",
       "      <td>1.000000</td>\n",
       "      <td>4.000000</td>\n",
       "      <td>112.500000</td>\n",
       "      <td>17.500000</td>\n",
       "      <td>94.000000</td>\n",
       "      <td>2.000000</td>\n",
       "      <td>0.000000</td>\n",
       "    </tr>\n",
       "    <tr>\n",
       "      <th>75%</th>\n",
       "      <td>1.842750e+04</td>\n",
       "      <td>22.000000</td>\n",
       "      <td>0.000000</td>\n",
       "      <td>NaN</td>\n",
       "      <td>2.000000</td>\n",
       "      <td>5.000000</td>\n",
       "      <td>14.000000</td>\n",
       "      <td>341.000000</td>\n",
       "      <td>51.250000</td>\n",
       "      <td>287.250000</td>\n",
       "      <td>7.000000</td>\n",
       "      <td>1.000000</td>\n",
       "    </tr>\n",
       "    <tr>\n",
       "      <th>max</th>\n",
       "      <td>8.396126e+06</td>\n",
       "      <td>52384.000000</td>\n",
       "      <td>335.000000</td>\n",
       "      <td>NaN</td>\n",
       "      <td>1112.000000</td>\n",
       "      <td>19170.000000</td>\n",
       "      <td>31767.000000</td>\n",
       "      <td>141971.000000</td>\n",
       "      <td>16606.000000</td>\n",
       "      <td>117931.000000</td>\n",
       "      <td>7434.000000</td>\n",
       "      <td>132.000000</td>\n",
       "    </tr>\n",
       "  </tbody>\n",
       "</table>\n",
       "</div>"
      ],
      "text/plain": [
       "         Population  Violent\\ncrime  Murder and\\nnonnegligent\\nmanslaughter  \\\n",
       "count  3.480000e+02      348.000000                              348.000000   \n",
       "mean   4.003763e+04      201.594828                                1.566092   \n",
       "std    4.500374e+05     2815.268504                               18.303673   \n",
       "min    5.260000e+02        0.000000                                0.000000   \n",
       "25%    3.003000e+03        2.000000                                0.000000   \n",
       "50%    7.233500e+03        6.000000                                0.000000   \n",
       "75%    1.842750e+04       22.000000                                0.000000   \n",
       "max    8.396126e+06    52384.000000                              335.000000   \n",
       "\n",
       "       Rape\\n(revised\\ndefinition)1  Rape\\n(legacy\\ndefinition)2  \\\n",
       "count                           0.0                   348.000000   \n",
       "mean                            NaN                     5.864943   \n",
       "std                             NaN                    60.425452   \n",
       "min                             NaN                     0.000000   \n",
       "25%                             NaN                     0.000000   \n",
       "50%                             NaN                     0.000000   \n",
       "75%                             NaN                     2.000000   \n",
       "max                             NaN                  1112.000000   \n",
       "\n",
       "            Robbery  Aggravated\\nassault  Property\\ncrime      Burglary  \\\n",
       "count    348.000000           348.000000       348.000000    348.000000   \n",
       "mean      72.902299           121.261494       792.606322    119.683908   \n",
       "std     1031.032873          1706.131730      7659.724746    924.948789   \n",
       "min        0.000000             0.000000         0.000000      0.000000   \n",
       "25%        0.000000             1.000000        40.500000      6.000000   \n",
       "50%        1.000000             4.000000       112.500000     17.500000   \n",
       "75%        5.000000            14.000000       341.000000     51.250000   \n",
       "max    19170.000000         31767.000000    141971.000000  16606.000000   \n",
       "\n",
       "       Larceny-\\ntheft  Motor\\nvehicle\\ntheft      Arson3  \n",
       "count       348.000000             348.000000  187.000000  \n",
       "mean        637.017241              35.905172    1.871658  \n",
       "std        6346.054451             403.423826   10.693411  \n",
       "min           0.000000               0.000000    0.000000  \n",
       "25%          31.000000               0.000000    0.000000  \n",
       "50%          94.000000               2.000000    0.000000  \n",
       "75%         287.250000               7.000000    1.000000  \n",
       "max      117931.000000            7434.000000  132.000000  "
      ]
     },
     "execution_count": 12,
     "metadata": {},
     "output_type": "execute_result"
    }
   ],
   "source": [
    "df.describe()"
   ]
  },
  {
   "cell_type": "markdown",
   "metadata": {},
   "source": [
    "### >>> std in `Population` is huge, this is an outlier that kills the analysis!\n",
    "\n",
    "Drop values in \"Population\" that are outliers (more than 3 stdev from the mean):"
   ]
  },
  {
   "cell_type": "code",
   "execution_count": 13,
   "metadata": {},
   "outputs": [],
   "source": [
    "q = df[\"Population\"].quantile(0.99)\n",
    "df2=df[df[\"Population\"] < q].sort_values('Population', ascending=False)"
   ]
  },
  {
   "cell_type": "code",
   "execution_count": 14,
   "metadata": {
    "scrolled": true
   },
   "outputs": [
    {
     "data": {
      "text/html": [
       "<div>\n",
       "<style scoped>\n",
       "    .dataframe tbody tr th:only-of-type {\n",
       "        vertical-align: middle;\n",
       "    }\n",
       "\n",
       "    .dataframe tbody tr th {\n",
       "        vertical-align: top;\n",
       "    }\n",
       "\n",
       "    .dataframe thead th {\n",
       "        text-align: right;\n",
       "    }\n",
       "</style>\n",
       "<table border=\"1\" class=\"dataframe\">\n",
       "  <thead>\n",
       "    <tr style=\"text-align: right;\">\n",
       "      <th></th>\n",
       "      <th>Population</th>\n",
       "      <th>Violent\n",
       "crime</th>\n",
       "      <th>Murder and\n",
       "nonnegligent\n",
       "manslaughter</th>\n",
       "      <th>Rape\n",
       "(revised\n",
       "definition)1</th>\n",
       "      <th>Rape\n",
       "(legacy\n",
       "definition)2</th>\n",
       "      <th>Robbery</th>\n",
       "      <th>Aggravated\n",
       "assault</th>\n",
       "      <th>Property\n",
       "crime</th>\n",
       "      <th>Burglary</th>\n",
       "      <th>Larceny-\n",
       "theft</th>\n",
       "      <th>Motor\n",
       "vehicle\n",
       "theft</th>\n",
       "      <th>Arson3</th>\n",
       "    </tr>\n",
       "  </thead>\n",
       "  <tbody>\n",
       "    <tr>\n",
       "      <th>count</th>\n",
       "      <td>344.000000</td>\n",
       "      <td>344.000000</td>\n",
       "      <td>344.000000</td>\n",
       "      <td>0.0</td>\n",
       "      <td>344.000000</td>\n",
       "      <td>344.000000</td>\n",
       "      <td>344.000000</td>\n",
       "      <td>344.000000</td>\n",
       "      <td>344.000000</td>\n",
       "      <td>344.000000</td>\n",
       "      <td>344.000000</td>\n",
       "      <td>185.000000</td>\n",
       "    </tr>\n",
       "    <tr>\n",
       "      <th>mean</th>\n",
       "      <td>14152.572674</td>\n",
       "      <td>33.078488</td>\n",
       "      <td>0.334302</td>\n",
       "      <td>NaN</td>\n",
       "      <td>1.938953</td>\n",
       "      <td>10.377907</td>\n",
       "      <td>20.427326</td>\n",
       "      <td>316.703488</td>\n",
       "      <td>53.863372</td>\n",
       "      <td>253.366279</td>\n",
       "      <td>9.473837</td>\n",
       "      <td>1.124324</td>\n",
       "    </tr>\n",
       "    <tr>\n",
       "      <th>std</th>\n",
       "      <td>18876.820762</td>\n",
       "      <td>105.875978</td>\n",
       "      <td>1.559842</td>\n",
       "      <td>NaN</td>\n",
       "      <td>5.662448</td>\n",
       "      <td>36.303823</td>\n",
       "      <td>64.048728</td>\n",
       "      <td>602.880988</td>\n",
       "      <td>134.720665</td>\n",
       "      <td>454.846951</td>\n",
       "      <td>28.850664</td>\n",
       "      <td>4.758368</td>\n",
       "    </tr>\n",
       "    <tr>\n",
       "      <th>min</th>\n",
       "      <td>526.000000</td>\n",
       "      <td>0.000000</td>\n",
       "      <td>0.000000</td>\n",
       "      <td>NaN</td>\n",
       "      <td>0.000000</td>\n",
       "      <td>0.000000</td>\n",
       "      <td>0.000000</td>\n",
       "      <td>0.000000</td>\n",
       "      <td>0.000000</td>\n",
       "      <td>0.000000</td>\n",
       "      <td>0.000000</td>\n",
       "      <td>0.000000</td>\n",
       "    </tr>\n",
       "    <tr>\n",
       "      <th>25%</th>\n",
       "      <td>2983.250000</td>\n",
       "      <td>2.000000</td>\n",
       "      <td>0.000000</td>\n",
       "      <td>NaN</td>\n",
       "      <td>0.000000</td>\n",
       "      <td>0.000000</td>\n",
       "      <td>1.000000</td>\n",
       "      <td>39.000000</td>\n",
       "      <td>6.000000</td>\n",
       "      <td>31.000000</td>\n",
       "      <td>0.000000</td>\n",
       "      <td>0.000000</td>\n",
       "    </tr>\n",
       "    <tr>\n",
       "      <th>50%</th>\n",
       "      <td>7106.000000</td>\n",
       "      <td>6.000000</td>\n",
       "      <td>0.000000</td>\n",
       "      <td>NaN</td>\n",
       "      <td>0.000000</td>\n",
       "      <td>1.000000</td>\n",
       "      <td>4.000000</td>\n",
       "      <td>111.500000</td>\n",
       "      <td>17.000000</td>\n",
       "      <td>93.500000</td>\n",
       "      <td>2.000000</td>\n",
       "      <td>0.000000</td>\n",
       "    </tr>\n",
       "    <tr>\n",
       "      <th>75%</th>\n",
       "      <td>17889.250000</td>\n",
       "      <td>21.000000</td>\n",
       "      <td>0.000000</td>\n",
       "      <td>NaN</td>\n",
       "      <td>2.000000</td>\n",
       "      <td>5.000000</td>\n",
       "      <td>13.250000</td>\n",
       "      <td>334.750000</td>\n",
       "      <td>50.000000</td>\n",
       "      <td>275.500000</td>\n",
       "      <td>7.000000</td>\n",
       "      <td>1.000000</td>\n",
       "    </tr>\n",
       "    <tr>\n",
       "      <th>max</th>\n",
       "      <td>143834.000000</td>\n",
       "      <td>1192.000000</td>\n",
       "      <td>21.000000</td>\n",
       "      <td>NaN</td>\n",
       "      <td>75.000000</td>\n",
       "      <td>400.000000</td>\n",
       "      <td>696.000000</td>\n",
       "      <td>6473.000000</td>\n",
       "      <td>1781.000000</td>\n",
       "      <td>4298.000000</td>\n",
       "      <td>394.000000</td>\n",
       "      <td>57.000000</td>\n",
       "    </tr>\n",
       "  </tbody>\n",
       "</table>\n",
       "</div>"
      ],
      "text/plain": [
       "          Population  Violent\\ncrime  Murder and\\nnonnegligent\\nmanslaughter  \\\n",
       "count     344.000000      344.000000                              344.000000   \n",
       "mean    14152.572674       33.078488                                0.334302   \n",
       "std     18876.820762      105.875978                                1.559842   \n",
       "min       526.000000        0.000000                                0.000000   \n",
       "25%      2983.250000        2.000000                                0.000000   \n",
       "50%      7106.000000        6.000000                                0.000000   \n",
       "75%     17889.250000       21.000000                                0.000000   \n",
       "max    143834.000000     1192.000000                               21.000000   \n",
       "\n",
       "       Rape\\n(revised\\ndefinition)1  Rape\\n(legacy\\ndefinition)2     Robbery  \\\n",
       "count                           0.0                   344.000000  344.000000   \n",
       "mean                            NaN                     1.938953   10.377907   \n",
       "std                             NaN                     5.662448   36.303823   \n",
       "min                             NaN                     0.000000    0.000000   \n",
       "25%                             NaN                     0.000000    0.000000   \n",
       "50%                             NaN                     0.000000    1.000000   \n",
       "75%                             NaN                     2.000000    5.000000   \n",
       "max                             NaN                    75.000000  400.000000   \n",
       "\n",
       "       Aggravated\\nassault  Property\\ncrime     Burglary  Larceny-\\ntheft  \\\n",
       "count           344.000000       344.000000   344.000000       344.000000   \n",
       "mean             20.427326       316.703488    53.863372       253.366279   \n",
       "std              64.048728       602.880988   134.720665       454.846951   \n",
       "min               0.000000         0.000000     0.000000         0.000000   \n",
       "25%               1.000000        39.000000     6.000000        31.000000   \n",
       "50%               4.000000       111.500000    17.000000        93.500000   \n",
       "75%              13.250000       334.750000    50.000000       275.500000   \n",
       "max             696.000000      6473.000000  1781.000000      4298.000000   \n",
       "\n",
       "       Motor\\nvehicle\\ntheft      Arson3  \n",
       "count             344.000000  185.000000  \n",
       "mean                9.473837    1.124324  \n",
       "std                28.850664    4.758368  \n",
       "min                 0.000000    0.000000  \n",
       "25%                 0.000000    0.000000  \n",
       "50%                 2.000000    0.000000  \n",
       "75%                 7.000000    1.000000  \n",
       "max               394.000000   57.000000  "
      ]
     },
     "execution_count": 14,
     "metadata": {},
     "output_type": "execute_result"
    }
   ],
   "source": [
    "df2.describe()"
   ]
  },
  {
   "cell_type": "code",
   "execution_count": 15,
   "metadata": {
    "scrolled": true
   },
   "outputs": [
    {
     "data": {
      "text/plain": [
       "0      139\n",
       "1       56\n",
       "2       25\n",
       "3       23\n",
       "4       14\n",
       "5       10\n",
       "16       7\n",
       "6        6\n",
       "13       5\n",
       "11       5\n",
       "8        5\n",
       "12       4\n",
       "9        3\n",
       "10       3\n",
       "7        3\n",
       "17       2\n",
       "19       2\n",
       "31       2\n",
       "26       2\n",
       "23       1\n",
       "15       1\n",
       "20       1\n",
       "21       1\n",
       "22       1\n",
       "400      1\n",
       "24       1\n",
       "228      1\n",
       "227      1\n",
       "204      1\n",
       "203      1\n",
       "166      1\n",
       "150      1\n",
       "145      1\n",
       "102      1\n",
       "101      1\n",
       "100      1\n",
       "81       1\n",
       "76       1\n",
       "60       1\n",
       "51       1\n",
       "48       1\n",
       "47       1\n",
       "39       1\n",
       "34       1\n",
       "29       1\n",
       "28       1\n",
       "25       1\n",
       "Name: Robbery, dtype: int64"
      ]
     },
     "execution_count": 15,
     "metadata": {},
     "output_type": "execute_result"
    }
   ],
   "source": [
    "df2['Robbery'].value_counts()#.head(10)"
   ]
  },
  {
   "cell_type": "markdown",
   "metadata": {},
   "source": [
    "From `robbery` we noticed that there are many low values and only a few cities with higher values. We can level off these values to 1 or 0. If there are 3 robberies we can reduce it to zero as it is not so relevant.\n",
    "### Create a new column from `Robbery` that has binary data based on condition:"
   ]
  },
  {
   "cell_type": "code",
   "execution_count": 16,
   "metadata": {},
   "outputs": [
    {
     "name": "stdout",
     "output_type": "stream",
     "text": [
      "          count       mean        std  min   25%   50%   75%    max\n",
      "Robbery2                                                           \n",
      "0         267.0   1.052434   1.426476  0.0   0.0   0.0   2.0    5.0\n",
      "1          77.0  42.714286  67.647277  6.0  10.0  16.0  31.0  400.0\n"
     ]
    }
   ],
   "source": [
    "df2['Robbery2'] = np.where(df2['Robbery']>5, 1, 0)\n",
    "\n",
    "# Check to make sure it worked.\n",
    "print(df2['Robbery'].groupby(df2['Robbery2']).describe())"
   ]
  },
  {
   "cell_type": "markdown",
   "metadata": {},
   "source": [
    "### Do the same with 'Murder and\\nnonnegligent\\nmanslaughter' which has fewer values and rename that column:"
   ]
  },
  {
   "cell_type": "code",
   "execution_count": 20,
   "metadata": {},
   "outputs": [
    {
     "data": {
      "text/plain": [
       "0     299\n",
       "1      31\n",
       "2       4\n",
       "8       2\n",
       "7       2\n",
       "3       2\n",
       "21      1\n",
       "10      1\n",
       "5       1\n",
       "4       1\n",
       "Name: Murder and\\nnonnegligent\\nmanslaughter, dtype: int64"
      ]
     },
     "execution_count": 20,
     "metadata": {},
     "output_type": "execute_result"
    }
   ],
   "source": [
    "df2['Murder and\\nnonnegligent\\nmanslaughter'].value_counts()"
   ]
  },
  {
   "cell_type": "code",
   "execution_count": 17,
   "metadata": {},
   "outputs": [],
   "source": [
    "df2.loc[df['Murder and\\nnonnegligent\\nmanslaughter']>0,'Murder']=1\n",
    "df2.loc[df['Murder and\\nnonnegligent\\nmanslaughter']==0,'Murder']=0"
   ]
  },
  {
   "cell_type": "code",
   "execution_count": 27,
   "metadata": {
    "collapsed": true
   },
   "outputs": [
    {
     "data": {
      "text/plain": [
       "0     204\n",
       "1      46\n",
       "2      25\n",
       "3      23\n",
       "4      11\n",
       "5       7\n",
       "6       5\n",
       "9       4\n",
       "7       3\n",
       "19      2\n",
       "12      2\n",
       "8       2\n",
       "75      1\n",
       "31      1\n",
       "13      1\n",
       "14      1\n",
       "16      1\n",
       "20      1\n",
       "21      1\n",
       "27      1\n",
       "30      1\n",
       "11      1\n",
       "Name: Rape\\n(legacy\\ndefinition)2, dtype: int64"
      ]
     },
     "execution_count": 27,
     "metadata": {},
     "output_type": "execute_result"
    }
   ],
   "source": [
    "df2['Rape\\n(legacy\\ndefinition)2'].value_counts()"
   ]
  },
  {
   "cell_type": "code",
   "execution_count": 28,
   "metadata": {},
   "outputs": [],
   "source": [
    "df2.loc[df['Rape\\n(legacy\\ndefinition)2']>0,'Rape2']=1\n",
    "df2.loc[df['Rape\\n(legacy\\ndefinition)2']==0,'Rape2']=0"
   ]
  },
  {
   "cell_type": "code",
   "execution_count": 29,
   "metadata": {},
   "outputs": [
    {
     "data": {
      "text/plain": [
       "Index(['City', 'Population', 'Violent\\ncrime',\n",
       "       'Murder and\\nnonnegligent\\nmanslaughter',\n",
       "       'Rape\\n(revised\\ndefinition)1', 'Rape\\n(legacy\\ndefinition)2',\n",
       "       'Robbery', 'Aggravated\\nassault', 'Property\\ncrime', 'Burglary',\n",
       "       'Larceny-\\ntheft', 'Motor\\nvehicle\\ntheft', 'Arson3', 'Robbery2',\n",
       "       'Murder', 'Rape2'],\n",
       "      dtype='object')"
      ]
     },
     "execution_count": 29,
     "metadata": {},
     "output_type": "execute_result"
    }
   ],
   "source": [
    "df2.columns"
   ]
  },
  {
   "cell_type": "code",
   "execution_count": 33,
   "metadata": {},
   "outputs": [],
   "source": [
    "df2=df2.drop(['City',\n",
    "       'Murder and\\nnonnegligent\\nmanslaughter',\n",
    "       'Rape\\n(revised\\ndefinition)1', 'Rape\\n(legacy\\ndefinition)2',\n",
    "        'Robbery',\n",
    "       'Motor\\nvehicle\\ntheft', 'Arson3'],axis=1)"
   ]
  },
  {
   "cell_type": "code",
   "execution_count": 34,
   "metadata": {},
   "outputs": [
    {
     "data": {
      "text/html": [
       "<div>\n",
       "<style scoped>\n",
       "    .dataframe tbody tr th:only-of-type {\n",
       "        vertical-align: middle;\n",
       "    }\n",
       "\n",
       "    .dataframe tbody tr th {\n",
       "        vertical-align: top;\n",
       "    }\n",
       "\n",
       "    .dataframe thead th {\n",
       "        text-align: right;\n",
       "    }\n",
       "</style>\n",
       "<table border=\"1\" class=\"dataframe\">\n",
       "  <thead>\n",
       "    <tr style=\"text-align: right;\">\n",
       "      <th></th>\n",
       "      <th>Population</th>\n",
       "      <th>Violent\n",
       "crime</th>\n",
       "      <th>Aggravated\n",
       "assault</th>\n",
       "      <th>Property\n",
       "crime</th>\n",
       "      <th>Burglary</th>\n",
       "      <th>Larceny-\n",
       "theft</th>\n",
       "      <th>Robbery2</th>\n",
       "      <th>Murder</th>\n",
       "      <th>Rape2</th>\n",
       "    </tr>\n",
       "  </thead>\n",
       "  <tbody>\n",
       "    <tr>\n",
       "      <th>count</th>\n",
       "      <td>344.000000</td>\n",
       "      <td>344.000000</td>\n",
       "      <td>344.000000</td>\n",
       "      <td>344.000000</td>\n",
       "      <td>344.000000</td>\n",
       "      <td>344.000000</td>\n",
       "      <td>344.000000</td>\n",
       "      <td>344.000000</td>\n",
       "      <td>344.000000</td>\n",
       "    </tr>\n",
       "    <tr>\n",
       "      <th>mean</th>\n",
       "      <td>14152.572674</td>\n",
       "      <td>33.078488</td>\n",
       "      <td>20.427326</td>\n",
       "      <td>316.703488</td>\n",
       "      <td>53.863372</td>\n",
       "      <td>253.366279</td>\n",
       "      <td>0.223837</td>\n",
       "      <td>0.130814</td>\n",
       "      <td>0.406977</td>\n",
       "    </tr>\n",
       "    <tr>\n",
       "      <th>std</th>\n",
       "      <td>18876.820762</td>\n",
       "      <td>105.875978</td>\n",
       "      <td>64.048728</td>\n",
       "      <td>602.880988</td>\n",
       "      <td>134.720665</td>\n",
       "      <td>454.846951</td>\n",
       "      <td>0.417421</td>\n",
       "      <td>0.337688</td>\n",
       "      <td>0.491986</td>\n",
       "    </tr>\n",
       "    <tr>\n",
       "      <th>min</th>\n",
       "      <td>526.000000</td>\n",
       "      <td>0.000000</td>\n",
       "      <td>0.000000</td>\n",
       "      <td>0.000000</td>\n",
       "      <td>0.000000</td>\n",
       "      <td>0.000000</td>\n",
       "      <td>0.000000</td>\n",
       "      <td>0.000000</td>\n",
       "      <td>0.000000</td>\n",
       "    </tr>\n",
       "    <tr>\n",
       "      <th>25%</th>\n",
       "      <td>2983.250000</td>\n",
       "      <td>2.000000</td>\n",
       "      <td>1.000000</td>\n",
       "      <td>39.000000</td>\n",
       "      <td>6.000000</td>\n",
       "      <td>31.000000</td>\n",
       "      <td>0.000000</td>\n",
       "      <td>0.000000</td>\n",
       "      <td>0.000000</td>\n",
       "    </tr>\n",
       "    <tr>\n",
       "      <th>50%</th>\n",
       "      <td>7106.000000</td>\n",
       "      <td>6.000000</td>\n",
       "      <td>4.000000</td>\n",
       "      <td>111.500000</td>\n",
       "      <td>17.000000</td>\n",
       "      <td>93.500000</td>\n",
       "      <td>0.000000</td>\n",
       "      <td>0.000000</td>\n",
       "      <td>0.000000</td>\n",
       "    </tr>\n",
       "    <tr>\n",
       "      <th>75%</th>\n",
       "      <td>17889.250000</td>\n",
       "      <td>21.000000</td>\n",
       "      <td>13.250000</td>\n",
       "      <td>334.750000</td>\n",
       "      <td>50.000000</td>\n",
       "      <td>275.500000</td>\n",
       "      <td>0.000000</td>\n",
       "      <td>0.000000</td>\n",
       "      <td>1.000000</td>\n",
       "    </tr>\n",
       "    <tr>\n",
       "      <th>max</th>\n",
       "      <td>143834.000000</td>\n",
       "      <td>1192.000000</td>\n",
       "      <td>696.000000</td>\n",
       "      <td>6473.000000</td>\n",
       "      <td>1781.000000</td>\n",
       "      <td>4298.000000</td>\n",
       "      <td>1.000000</td>\n",
       "      <td>1.000000</td>\n",
       "      <td>1.000000</td>\n",
       "    </tr>\n",
       "  </tbody>\n",
       "</table>\n",
       "</div>"
      ],
      "text/plain": [
       "          Population  Violent\\ncrime  Aggravated\\nassault  Property\\ncrime  \\\n",
       "count     344.000000      344.000000           344.000000       344.000000   \n",
       "mean    14152.572674       33.078488            20.427326       316.703488   \n",
       "std     18876.820762      105.875978            64.048728       602.880988   \n",
       "min       526.000000        0.000000             0.000000         0.000000   \n",
       "25%      2983.250000        2.000000             1.000000        39.000000   \n",
       "50%      7106.000000        6.000000             4.000000       111.500000   \n",
       "75%     17889.250000       21.000000            13.250000       334.750000   \n",
       "max    143834.000000     1192.000000           696.000000      6473.000000   \n",
       "\n",
       "          Burglary  Larceny-\\ntheft    Robbery2      Murder       Rape2  \n",
       "count   344.000000       344.000000  344.000000  344.000000  344.000000  \n",
       "mean     53.863372       253.366279    0.223837    0.130814    0.406977  \n",
       "std     134.720665       454.846951    0.417421    0.337688    0.491986  \n",
       "min       0.000000         0.000000    0.000000    0.000000    0.000000  \n",
       "25%       6.000000        31.000000    0.000000    0.000000    0.000000  \n",
       "50%      17.000000        93.500000    0.000000    0.000000    0.000000  \n",
       "75%      50.000000       275.500000    0.000000    0.000000    1.000000  \n",
       "max    1781.000000      4298.000000    1.000000    1.000000    1.000000  "
      ]
     },
     "execution_count": 34,
     "metadata": {},
     "output_type": "execute_result"
    }
   ],
   "source": [
    "df2.describe()"
   ]
  },
  {
   "cell_type": "code",
   "execution_count": 35,
   "metadata": {},
   "outputs": [
    {
     "data": {
      "text/plain": [
       "Population               int64\n",
       "Violent\\ncrime           int64\n",
       "Aggravated\\nassault      int64\n",
       "Property\\ncrime          int64\n",
       "Burglary                 int64\n",
       "Larceny-\\ntheft          int64\n",
       "Robbery2                 int32\n",
       "Murder                 float64\n",
       "Rape2                  float64\n",
       "dtype: object"
      ]
     },
     "execution_count": 35,
     "metadata": {},
     "output_type": "execute_result"
    }
   ],
   "source": [
    "df2.dtypes"
   ]
  },
  {
   "cell_type": "markdown",
   "metadata": {},
   "source": [
    "### The two categorical columns, Robbery2,Rape2 and Murder, can be transformed into numeric representations with `getdummies`"
   ]
  },
  {
   "cell_type": "code",
   "execution_count": 37,
   "metadata": {},
   "outputs": [
    {
     "data": {
      "text/html": [
       "<div>\n",
       "<style scoped>\n",
       "    .dataframe tbody tr th:only-of-type {\n",
       "        vertical-align: middle;\n",
       "    }\n",
       "\n",
       "    .dataframe tbody tr th {\n",
       "        vertical-align: top;\n",
       "    }\n",
       "\n",
       "    .dataframe thead th {\n",
       "        text-align: right;\n",
       "    }\n",
       "</style>\n",
       "<table border=\"1\" class=\"dataframe\">\n",
       "  <thead>\n",
       "    <tr style=\"text-align: right;\">\n",
       "      <th></th>\n",
       "      <th>Murder_False</th>\n",
       "      <th>Murder_True</th>\n",
       "      <th>Robbery_False</th>\n",
       "      <th>Robbery_True</th>\n",
       "      <th>Rape2_False</th>\n",
       "      <th>Rape2_True</th>\n",
       "    </tr>\n",
       "  </thead>\n",
       "  <tbody>\n",
       "    <tr>\n",
       "      <th>310</th>\n",
       "      <td>0</td>\n",
       "      <td>1</td>\n",
       "      <td>0</td>\n",
       "      <td>1</td>\n",
       "      <td>0</td>\n",
       "      <td>1</td>\n",
       "    </tr>\n",
       "    <tr>\n",
       "      <th>7</th>\n",
       "      <td>0</td>\n",
       "      <td>1</td>\n",
       "      <td>0</td>\n",
       "      <td>1</td>\n",
       "      <td>0</td>\n",
       "      <td>1</td>\n",
       "    </tr>\n",
       "    <tr>\n",
       "      <th>3</th>\n",
       "      <td>0</td>\n",
       "      <td>1</td>\n",
       "      <td>0</td>\n",
       "      <td>1</td>\n",
       "      <td>0</td>\n",
       "      <td>1</td>\n",
       "    </tr>\n",
       "    <tr>\n",
       "      <th>126</th>\n",
       "      <td>1</td>\n",
       "      <td>0</td>\n",
       "      <td>0</td>\n",
       "      <td>1</td>\n",
       "      <td>0</td>\n",
       "      <td>1</td>\n",
       "    </tr>\n",
       "    <tr>\n",
       "      <th>267</th>\n",
       "      <td>0</td>\n",
       "      <td>1</td>\n",
       "      <td>0</td>\n",
       "      <td>1</td>\n",
       "      <td>0</td>\n",
       "      <td>1</td>\n",
       "    </tr>\n",
       "  </tbody>\n",
       "</table>\n",
       "</div>"
      ],
      "text/plain": [
       "     Murder_False  Murder_True  Robbery_False  Robbery_True  Rape2_False  \\\n",
       "310             0            1              0             1            0   \n",
       "7               0            1              0             1            0   \n",
       "3               0            1              0             1            0   \n",
       "126             1            0              0             1            0   \n",
       "267             0            1              0             1            0   \n",
       "\n",
       "     Rape2_True  \n",
       "310           1  \n",
       "7             1  \n",
       "3             1  \n",
       "126           1  \n",
       "267           1  "
      ]
     },
     "execution_count": 37,
     "metadata": {},
     "output_type": "execute_result"
    }
   ],
   "source": [
    "# Making dummies.\n",
    "# Also creating a data frame to hold our features.\n",
    "features1 = pd.get_dummies(df2['Murder'])\n",
    "features1.columns=['Murder_False','Murder_True']\n",
    "\n",
    "features2 = pd.get_dummies(df2['Robbery2'])\n",
    "features2.columns=['Robbery_False','Robbery_True']\n",
    "\n",
    "features3 = pd.get_dummies(df2['Rape2'])\n",
    "features3.columns=['Rape2_False','Rape2_True']\n",
    "\n",
    "\n",
    "features = pd.concat((features1 , features2,features3),axis=1)\n",
    "features.head()"
   ]
  },
  {
   "cell_type": "code",
   "execution_count": 41,
   "metadata": {},
   "outputs": [
    {
     "name": "stdout",
     "output_type": "stream",
     "text": [
      "              count  mean  std  min  25%  50%  75%  max\n",
      "Murder_False                                           \n",
      "0              45.0   0.0  0.0  0.0  0.0  0.0  0.0  0.0\n",
      "1             299.0   1.0  0.0  1.0  1.0  1.0  1.0  1.0\n",
      "               count  mean  std  min  25%  50%  75%  max\n",
      "Robbery_False                                           \n",
      "0               77.0   0.0  0.0  0.0  0.0  0.0  0.0  0.0\n",
      "1              267.0   1.0  0.0  1.0  1.0  1.0  1.0  1.0\n",
      "             count  mean  std  min  25%  50%  75%  max\n",
      "Rape2_False                                           \n",
      "0            140.0   0.0  0.0  0.0  0.0  0.0  0.0  0.0\n",
      "1            204.0   1.0  0.0  1.0  1.0  1.0  1.0  1.0\n"
     ]
    }
   ],
   "source": [
    "# Check summary:\n",
    "print(features['Murder_False'].groupby(features['Murder_False']).describe())\n",
    "print(features['Robbery_False'].groupby(features['Robbery_False']).describe())\n",
    "print(features['Rape2_False'].groupby(features['Rape2_False']).describe())\n"
   ]
  },
  {
   "cell_type": "code",
   "execution_count": 45,
   "metadata": {},
   "outputs": [],
   "source": [
    "prop_crime =  pd.concat((df2 , features),axis=1)\n",
    "\n",
    "# Drop 3 categorical columns: 'Murder','Robbery2' and 'Rape2':\n",
    "prop_crime = prop_crime.drop(['Murder','Robbery2','Rape2'],axis=1)"
   ]
  },
  {
   "cell_type": "code",
   "execution_count": 47,
   "metadata": {
    "scrolled": true
   },
   "outputs": [
    {
     "data": {
      "text/html": [
       "<div>\n",
       "<style scoped>\n",
       "    .dataframe tbody tr th:only-of-type {\n",
       "        vertical-align: middle;\n",
       "    }\n",
       "\n",
       "    .dataframe tbody tr th {\n",
       "        vertical-align: top;\n",
       "    }\n",
       "\n",
       "    .dataframe thead th {\n",
       "        text-align: right;\n",
       "    }\n",
       "</style>\n",
       "<table border=\"1\" class=\"dataframe\">\n",
       "  <thead>\n",
       "    <tr style=\"text-align: right;\">\n",
       "      <th></th>\n",
       "      <th>Population</th>\n",
       "      <th>Violent\n",
       "crime</th>\n",
       "      <th>Aggravated\n",
       "assault</th>\n",
       "      <th>Property\n",
       "crime</th>\n",
       "      <th>Burglary</th>\n",
       "      <th>Larceny-\n",
       "theft</th>\n",
       "      <th>Murder_False</th>\n",
       "      <th>Murder_True</th>\n",
       "      <th>Robbery_False</th>\n",
       "      <th>Robbery_True</th>\n",
       "      <th>Rape2_False</th>\n",
       "      <th>Rape2_True</th>\n",
       "    </tr>\n",
       "  </thead>\n",
       "  <tbody>\n",
       "    <tr>\n",
       "      <th>310</th>\n",
       "      <td>143834</td>\n",
       "      <td>1192</td>\n",
       "      <td>696</td>\n",
       "      <td>6473</td>\n",
       "      <td>1781</td>\n",
       "      <td>4298</td>\n",
       "      <td>0</td>\n",
       "      <td>1</td>\n",
       "      <td>0</td>\n",
       "      <td>1</td>\n",
       "      <td>0</td>\n",
       "      <td>1</td>\n",
       "    </tr>\n",
       "    <tr>\n",
       "      <th>7</th>\n",
       "      <td>118296</td>\n",
       "      <td>107</td>\n",
       "      <td>68</td>\n",
       "      <td>2118</td>\n",
       "      <td>204</td>\n",
       "      <td>1882</td>\n",
       "      <td>0</td>\n",
       "      <td>1</td>\n",
       "      <td>0</td>\n",
       "      <td>1</td>\n",
       "      <td>0</td>\n",
       "      <td>1</td>\n",
       "    </tr>\n",
       "    <tr>\n",
       "      <th>3</th>\n",
       "      <td>97956</td>\n",
       "      <td>791</td>\n",
       "      <td>526</td>\n",
       "      <td>4090</td>\n",
       "      <td>705</td>\n",
       "      <td>3243</td>\n",
       "      <td>0</td>\n",
       "      <td>1</td>\n",
       "      <td>0</td>\n",
       "      <td>1</td>\n",
       "      <td>0</td>\n",
       "      <td>1</td>\n",
       "    </tr>\n",
       "    <tr>\n",
       "      <th>126</th>\n",
       "      <td>96667</td>\n",
       "      <td>151</td>\n",
       "      <td>82</td>\n",
       "      <td>2303</td>\n",
       "      <td>332</td>\n",
       "      <td>1925</td>\n",
       "      <td>1</td>\n",
       "      <td>0</td>\n",
       "      <td>0</td>\n",
       "      <td>1</td>\n",
       "      <td>0</td>\n",
       "      <td>1</td>\n",
       "    </tr>\n",
       "    <tr>\n",
       "      <th>267</th>\n",
       "      <td>87204</td>\n",
       "      <td>57</td>\n",
       "      <td>41</td>\n",
       "      <td>567</td>\n",
       "      <td>88</td>\n",
       "      <td>466</td>\n",
       "      <td>0</td>\n",
       "      <td>1</td>\n",
       "      <td>0</td>\n",
       "      <td>1</td>\n",
       "      <td>0</td>\n",
       "      <td>1</td>\n",
       "    </tr>\n",
       "  </tbody>\n",
       "</table>\n",
       "</div>"
      ],
      "text/plain": [
       "     Population  Violent\\ncrime  Aggravated\\nassault  Property\\ncrime  \\\n",
       "310      143834            1192                  696             6473   \n",
       "7        118296             107                   68             2118   \n",
       "3         97956             791                  526             4090   \n",
       "126       96667             151                   82             2303   \n",
       "267       87204              57                   41              567   \n",
       "\n",
       "     Burglary  Larceny-\\ntheft  Murder_False  Murder_True  Robbery_False  \\\n",
       "310      1781             4298             0            1              0   \n",
       "7         204             1882             0            1              0   \n",
       "3         705             3243             0            1              0   \n",
       "126       332             1925             1            0              0   \n",
       "267        88              466             0            1              0   \n",
       "\n",
       "     Robbery_True  Rape2_False  Rape2_True  \n",
       "310             1            0           1  \n",
       "7               1            0           1  \n",
       "3               1            0           1  \n",
       "126             1            0           1  \n",
       "267             1            0           1  "
      ]
     },
     "execution_count": 47,
     "metadata": {},
     "output_type": "execute_result"
    }
   ],
   "source": [
    "prop_crime.head()"
   ]
  },
  {
   "cell_type": "code",
   "execution_count": 66,
   "metadata": {},
   "outputs": [
    {
     "data": {
      "image/png": "[encoded data removed]",
      "text/plain": [
       "<matplotlib.figure.Figure at 0x19747c14ba8>"
      ]
     },
     "metadata": {},
     "output_type": "display_data"
    }
   ],
   "source": [
    "import seaborn as sns\n",
    "sns.boxplot( data = prop_crime.drop(['Population'], axis=1 ))\n",
    "plt.show()"
   ]
  },
  {
   "cell_type": "code",
   "execution_count": 67,
   "metadata": {},
   "outputs": [
    {
     "data": {
      "image/png": "[encoded data removed]",
      "text/plain": [
       "<matplotlib.figure.Figure at 0x19747e089b0>"
      ]
     },
     "metadata": {},
     "output_type": "display_data"
    }
   ],
   "source": [
    "sns.boxplot( data = prop_crime['Population'])\n",
    "plt.show()"
   ]
  },
  {
   "cell_type": "code",
   "execution_count": 69,
   "metadata": {},
   "outputs": [
    {
     "data": {
      "image/png": "[encoded data removed]",
      "text/plain": [
       "<matplotlib.figure.Figure at 0x19747e0cc50>"
      ]
     },
     "metadata": {},
     "output_type": "display_data"
    }
   ],
   "source": [
    "# Plot histograms to see what kind of distribution there is in each column:\n",
    "\n",
    "fig = prop_crime.drop(['Murder_False','Murder_True','Robbery_False','Robbery_True','Rape2_False','Rape2_True']\n",
    "                      ,axis=1).hist(bins=10,\n",
    "                 color='steelblue',\n",
    "                 edgecolor='black', linewidth=1.0,\n",
    "                 xlabelsize=10, ylabelsize=10,\n",
    "                 xrot=45, yrot=0,\n",
    "                 figsize=(5,5),\n",
    "                 grid=False)\n",
    "\n",
    "plt.tight_layout(rect=(0, 0, 1.5, 1.5))  "
   ]
  },
  {
   "cell_type": "markdown",
   "metadata": {},
   "source": [
    "All of the histograms are skewed to the right. There are a lot of small values and a few big ones. It seems that the bigger the city, the bigger property crimes. We also have a small number of big cities. In a future analysis we should compare big cities between them."
   ]
  },
  {
   "cell_type": "code",
   "execution_count": null,
   "metadata": {},
   "outputs": [],
   "source": []
  },
  {
   "cell_type": "code",
   "execution_count": 73,
   "metadata": {},
   "outputs": [
    {
     "data": {
      "text/html": [
       "<div>\n",
       "<style scoped>\n",
       "    .dataframe tbody tr th:only-of-type {\n",
       "        vertical-align: middle;\n",
       "    }\n",
       "\n",
       "    .dataframe tbody tr th {\n",
       "        vertical-align: top;\n",
       "    }\n",
       "\n",
       "    .dataframe thead th {\n",
       "        text-align: right;\n",
       "    }\n",
       "</style>\n",
       "<table border=\"1\" class=\"dataframe\">\n",
       "  <thead>\n",
       "    <tr style=\"text-align: right;\">\n",
       "      <th></th>\n",
       "      <th>Population</th>\n",
       "      <th>Violent\n",
       "crime</th>\n",
       "      <th>Aggravated\n",
       "assault</th>\n",
       "      <th>Property\n",
       "crime</th>\n",
       "      <th>Burglary</th>\n",
       "      <th>Larceny-\n",
       "theft</th>\n",
       "      <th>Murder_False</th>\n",
       "      <th>Murder_True</th>\n",
       "      <th>Robbery_False</th>\n",
       "      <th>Robbery_True</th>\n",
       "      <th>Rape2_False</th>\n",
       "      <th>Rape2_True</th>\n",
       "    </tr>\n",
       "  </thead>\n",
       "  <tbody>\n",
       "    <tr>\n",
       "      <th>310</th>\n",
       "      <td>143834</td>\n",
       "      <td>1192</td>\n",
       "      <td>696</td>\n",
       "      <td>6473</td>\n",
       "      <td>1781</td>\n",
       "      <td>4298</td>\n",
       "      <td>0</td>\n",
       "      <td>1</td>\n",
       "      <td>0</td>\n",
       "      <td>1</td>\n",
       "      <td>0</td>\n",
       "      <td>1</td>\n",
       "    </tr>\n",
       "    <tr>\n",
       "      <th>7</th>\n",
       "      <td>118296</td>\n",
       "      <td>107</td>\n",
       "      <td>68</td>\n",
       "      <td>2118</td>\n",
       "      <td>204</td>\n",
       "      <td>1882</td>\n",
       "      <td>0</td>\n",
       "      <td>1</td>\n",
       "      <td>0</td>\n",
       "      <td>1</td>\n",
       "      <td>0</td>\n",
       "      <td>1</td>\n",
       "    </tr>\n",
       "    <tr>\n",
       "      <th>3</th>\n",
       "      <td>97956</td>\n",
       "      <td>791</td>\n",
       "      <td>526</td>\n",
       "      <td>4090</td>\n",
       "      <td>705</td>\n",
       "      <td>3243</td>\n",
       "      <td>0</td>\n",
       "      <td>1</td>\n",
       "      <td>0</td>\n",
       "      <td>1</td>\n",
       "      <td>0</td>\n",
       "      <td>1</td>\n",
       "    </tr>\n",
       "    <tr>\n",
       "      <th>126</th>\n",
       "      <td>96667</td>\n",
       "      <td>151</td>\n",
       "      <td>82</td>\n",
       "      <td>2303</td>\n",
       "      <td>332</td>\n",
       "      <td>1925</td>\n",
       "      <td>1</td>\n",
       "      <td>0</td>\n",
       "      <td>0</td>\n",
       "      <td>1</td>\n",
       "      <td>0</td>\n",
       "      <td>1</td>\n",
       "    </tr>\n",
       "    <tr>\n",
       "      <th>267</th>\n",
       "      <td>87204</td>\n",
       "      <td>57</td>\n",
       "      <td>41</td>\n",
       "      <td>567</td>\n",
       "      <td>88</td>\n",
       "      <td>466</td>\n",
       "      <td>0</td>\n",
       "      <td>1</td>\n",
       "      <td>0</td>\n",
       "      <td>1</td>\n",
       "      <td>0</td>\n",
       "      <td>1</td>\n",
       "    </tr>\n",
       "  </tbody>\n",
       "</table>\n",
       "</div>"
      ],
      "text/plain": [
       "     Population  Violent\\ncrime  Aggravated\\nassault  Property\\ncrime  \\\n",
       "310      143834            1192                  696             6473   \n",
       "7        118296             107                   68             2118   \n",
       "3         97956             791                  526             4090   \n",
       "126       96667             151                   82             2303   \n",
       "267       87204              57                   41              567   \n",
       "\n",
       "     Burglary  Larceny-\\ntheft  Murder_False  Murder_True  Robbery_False  \\\n",
       "310      1781             4298             0            1              0   \n",
       "7         204             1882             0            1              0   \n",
       "3         705             3243             0            1              0   \n",
       "126       332             1925             1            0              0   \n",
       "267        88              466             0            1              0   \n",
       "\n",
       "     Robbery_True  Rape2_False  Rape2_True  \n",
       "310             1            0           1  \n",
       "7               1            0           1  \n",
       "3               1            0           1  \n",
       "126             1            0           1  \n",
       "267             1            0           1  "
      ]
     },
     "execution_count": 73,
     "metadata": {},
     "output_type": "execute_result"
    }
   ],
   "source": [
    "prop_crime.sort_values( by= 'Population', ascending=False ).head()"
   ]
  },
  {
   "cell_type": "markdown",
   "metadata": {},
   "source": [
    "### How much correlation is between the data:"
   ]
  },
  {
   "cell_type": "code",
   "execution_count": 160,
   "metadata": {},
   "outputs": [
    {
     "name": "stdout",
     "output_type": "stream",
     "text": [
      "                     Population  Violent\\ncrime  Aggravated\\nassault  \\\n",
      "Population             1.000000        0.687220             0.676598   \n",
      "Violent\\ncrime         0.687220        1.000000             0.995721   \n",
      "Aggravated\\nassault    0.676598        0.995721             1.000000   \n",
      "Property\\ncrime        0.864014        0.868978             0.866891   \n",
      "Burglary               0.732518        0.932024             0.926448   \n",
      "Larceny-\\ntheft        0.881787        0.816051             0.816099   \n",
      "Murder_False          -0.498124       -0.494685            -0.487664   \n",
      "Murder_True            0.498124        0.494685             0.487664   \n",
      "Robbery_False         -0.653992       -0.469162            -0.454853   \n",
      "Robbery_True           0.653992        0.469162             0.454853   \n",
      "Rape2_False           -0.454019       -0.322556            -0.319955   \n",
      "Rape2_True             0.454019        0.322556             0.319955   \n",
      "\n",
      "                     Property\\ncrime  Burglary  Larceny-\\ntheft  Murder_False  \\\n",
      "Population                  0.864014  0.732518         0.881787     -0.498124   \n",
      "Violent\\ncrime              0.868978  0.932024         0.816051     -0.494685   \n",
      "Aggravated\\nassault         0.866891  0.926448         0.816099     -0.487664   \n",
      "Property\\ncrime             1.000000  0.936375         0.992038     -0.490182   \n",
      "Burglary                    0.936375  1.000000         0.885382     -0.465266   \n",
      "Larceny-\\ntheft             0.992038  0.885382         1.000000     -0.484393   \n",
      "Murder_False               -0.490182 -0.465266        -0.484393      1.000000   \n",
      "Murder_True                 0.490182  0.465266         0.484393     -1.000000   \n",
      "Robbery_False              -0.602666 -0.500475        -0.620761      0.515574   \n",
      "Robbery_True                0.602666  0.500475         0.620761     -0.515574   \n",
      "Rape2_False                -0.427962 -0.352161        -0.443701      0.363007   \n",
      "Rape2_True                  0.427962  0.352161         0.443701     -0.363007   \n",
      "\n",
      "                     Murder_True  Robbery_False  Robbery_True  Rape2_False  \\\n",
      "Population              0.498124      -0.653992      0.653992    -0.454019   \n",
      "Violent\\ncrime          0.494685      -0.469162      0.469162    -0.322556   \n",
      "Aggravated\\nassault     0.487664      -0.454853      0.454853    -0.319955   \n",
      "Property\\ncrime         0.490182      -0.602666      0.602666    -0.427962   \n",
      "Burglary                0.465266      -0.500475      0.500475    -0.352161   \n",
      "Larceny-\\ntheft         0.484393      -0.620761      0.620761    -0.443701   \n",
      "Murder_False           -1.000000       0.515574     -0.515574     0.363007   \n",
      "Murder_True             1.000000      -0.515574      0.515574    -0.363007   \n",
      "Robbery_False          -0.515574       1.000000     -1.000000     0.506283   \n",
      "Robbery_True            0.515574      -1.000000      1.000000    -0.506283   \n",
      "Rape2_False            -0.363007       0.506283     -0.506283     1.000000   \n",
      "Rape2_True              0.363007      -0.506283      0.506283    -1.000000   \n",
      "\n",
      "                     Rape2_True  \n",
      "Population             0.454019  \n",
      "Violent\\ncrime         0.322556  \n",
      "Aggravated\\nassault    0.319955  \n",
      "Property\\ncrime        0.427962  \n",
      "Burglary               0.352161  \n",
      "Larceny-\\ntheft        0.443701  \n",
      "Murder_False          -0.363007  \n",
      "Murder_True            0.363007  \n",
      "Robbery_False         -0.506283  \n",
      "Robbery_True           0.506283  \n",
      "Rape2_False           -1.000000  \n",
      "Rape2_True             1.000000  \n"
     ]
    },
    {
     "data": {
      "image/png": "[encoded data removed]",
      "text/plain": [
       "<matplotlib.figure.Figure at 0x1974c889748>"
      ]
     },
     "metadata": {},
     "output_type": "display_data"
    }
   ],
   "source": [
    "corrmat = prop_crime.corr()\n",
    "print(corrmat)\n",
    "\n",
    "# Set up the matplotlib figure.\n",
    "f, ax = plt.subplots(figsize=(12, 9))\n",
    "\n",
    "# Draw the heatmap using seaborn\n",
    "sns.heatmap(corrmat, vmax=.8, square=True)\n",
    "plt.show()"
   ]
  },
  {
   "cell_type": "markdown",
   "metadata": {},
   "source": [
    "There is a high correlation among the continous values."
   ]
  },
  {
   "cell_type": "markdown",
   "metadata": {},
   "source": [
    "## We will try to predict the `PROPERTY CRIME`"
   ]
  },
  {
   "cell_type": "code",
   "execution_count": null,
   "metadata": {},
   "outputs": [],
   "source": [
    "\n",
    "KNN regression\n",
    "# Prepare the data:\n",
    "X = prop_crime.drop(['Property\\ncrime'] , axis=1 )\n",
    "y = prop_crime['Property\\ncrime']\n",
    "\n",
    "---------------------\n",
    "\n",
    "\n",
    "# split into train and test\n",
    "X_train, X_test, y_train, y_test = train_test_split(X, y, test_size=0.2, random_state=20)\n",
    "\n",
    "print (X_train.shape, y_train.shape)\n",
    "print (X_test.shape, y_test.shape)\n",
    "---------------------\n",
    "from scipy.stats import zscore\n",
    "\n",
    "X_train = X_train.apply(zscore)\n",
    "X_test = X_test.apply(zscore)\n",
    "\n",
    "---------------------\n",
    "\n",
    "# Build our model.\n",
    "knn = neighbors.KNeighborsRegressor(n_neighbors=10 , weights='distance' )\n",
    "---------------------\n",
    "# fitting the model\n",
    "knn.fit(X_train, y_train)\n",
    "\n",
    "# predict the response\n",
    "y_pred =  knn.predict(X_test)\n",
    "---------------------\n",
    "y_pred[0:5]\n",
    "---------------------\n",
    "## The line / model\n",
    "plt.scatter(y_test, y_pred)\n",
    "plt.xlabel('True Values')\n",
    "plt.ylabel('Predictions')\n",
    "---------------------\n",
    "CROSS VALIDATION:\n",
    "from sklearn.model_selection import cross_val_score\n",
    "cross_val_score(knn, X_train , y_train , cv=10)\n",
    "---------------------\n",
    "score_w = cross_val_score(knn, X_train, y_train , cv=10)\n",
    "print(\"Weighted Accuracy: %0.2f (+/- %0.2f)\" % (score_w.mean(), score_w.std() * 2))\n",
    "---------------------\n"
   ]
  },
  {
   "cell_type": "code",
   "execution_count": null,
   "metadata": {},
   "outputs": [],
   "source": []
  },
  {
   "cell_type": "markdown",
   "metadata": {},
   "source": [
    "### KNN regression\n"
   ]
  },
  {
   "cell_type": "code",
   "execution_count": 48,
   "metadata": {},
   "outputs": [],
   "source": [
    "# Prepare the data:\n",
    "X = prop_crime.drop(['Property\\ncrime'] , axis=1 )\n",
    "y = prop_crime['Property\\ncrime']\n"
   ]
  },
  {
   "cell_type": "markdown",
   "metadata": {},
   "source": [
    "We can use the train_test_split function in order to make the split. \n",
    "\n",
    "The <b>test_size=0.2</b> inside the function indicates the percentage of the data that should be held over for testing. It’s usually around 80/20 or 70/30:"
   ]
  },
  {
   "cell_type": "code",
   "execution_count": 49,
   "metadata": {},
   "outputs": [
    {
     "name": "stdout",
     "output_type": "stream",
     "text": [
      "(275, 11) (275,)\n",
      "(69, 11) (69,)\n"
     ]
    }
   ],
   "source": [
    "\n",
    "# split into train and test\n",
    "X_train, X_test, y_train, y_test = train_test_split(X, y, test_size=0.2, random_state=20)\n",
    "\n",
    "print (X_train.shape, y_train.shape)\n",
    "print (X_test.shape, y_test.shape)"
   ]
  },
  {
   "cell_type": "markdown",
   "metadata": {},
   "source": [
    "** Feature Scaling**\n",
    "\n",
    "Since the range of values of raw data varies widely, in some machine learning algorithms, objective functions will not work properly without normalization. For example, the majority of classifiers calculate the distance between two points by the Euclidean distance. If one of the features has a broad range of values, the distance will be governed by this particular feature. Therefore, the range of all features should be normalized so that each feature contributes approximately proportionately to the final distance.\n",
    "\n"
   ]
  },
  {
   "cell_type": "code",
   "execution_count": 11,
   "metadata": {},
   "outputs": [],
   "source": [
    "#scaler = StandardScaler()  \n",
    "#scaler.fit(X_train)\n",
    "#\n",
    "#X_train = scaler.transform(X_train)  \n",
    "#X_test = scaler.transform(X_test)  \n"
   ]
  },
  {
   "cell_type": "markdown",
   "metadata": {},
   "source": [
    "#### OR:"
   ]
  },
  {
   "cell_type": "code",
   "execution_count": 50,
   "metadata": {},
   "outputs": [],
   "source": [
    "from scipy.stats import zscore\n",
    "\n",
    "X_train = X_train.apply(zscore)\n",
    "X_test = X_test.apply(zscore)"
   ]
  },
  {
   "cell_type": "code",
   "execution_count": null,
   "metadata": {},
   "outputs": [],
   "source": [
    "# Note that `select_dtypes` returns a data frame. We are selecting only the columns\n",
    "#numeric_cols = df.select_dtypes(include=[np.number]).columns\n",
    "#df[numeric_cols].apply(zscore)"
   ]
  },
  {
   "cell_type": "markdown",
   "metadata": {},
   "source": [
    "### Build our model.\n",
    "* with `weigths`"
   ]
  },
  {
   "cell_type": "code",
   "execution_count": 87,
   "metadata": {},
   "outputs": [],
   "source": [
    "# Build our model.\n",
    "knn = neighbors.KNeighborsRegressor(n_neighbors=10 , weights='distance' )"
   ]
  },
  {
   "cell_type": "code",
   "execution_count": 88,
   "metadata": {},
   "outputs": [],
   "source": [
    "# fitting the model\n",
    "knn.fit(X_train, y_train)\n",
    "\n",
    "# predict the response\n",
    "y_pred =  knn.predict(X_test)\n"
   ]
  },
  {
   "cell_type": "code",
   "execution_count": 89,
   "metadata": {},
   "outputs": [
    {
     "data": {
      "text/plain": [
       "array([526.04184255, 111.3200135 , 301.81552155, 677.81906763,\n",
       "       113.60846537])"
      ]
     },
     "execution_count": 89,
     "metadata": {},
     "output_type": "execute_result"
    }
   ],
   "source": [
    "y_pred[0:5]"
   ]
  },
  {
   "cell_type": "code",
   "execution_count": 90,
   "metadata": {},
   "outputs": [
    {
     "data": {
      "text/plain": [
       "Text(0,0.5,'Predictions')"
      ]
     },
     "execution_count": 90,
     "metadata": {},
     "output_type": "execute_result"
    },
    {
     "data": {
      "image/png": "[encoded data removed]",
      "text/plain": [
       "<matplotlib.figure.Figure at 0x19747fe7278>"
      ]
     },
     "metadata": {},
     "output_type": "display_data"
    }
   ],
   "source": [
    "## The line / model\n",
    "plt.scatter(y_test, y_pred)\n",
    "plt.xlabel('True Values')\n",
    "plt.ylabel('Predictions')"
   ]
  },
  {
   "cell_type": "markdown",
   "metadata": {},
   "source": [
    "** Hold Out validation: **"
   ]
  },
  {
   "cell_type": "code",
   "execution_count": 91,
   "metadata": {},
   "outputs": [
    {
     "name": "stdout",
     "output_type": "stream",
     "text": [
      "With 20% Holdout: 0.6613193913723834\n",
      "Testing on Sample: 1.0\n"
     ]
    }
   ],
   "source": [
    "print('With 20% Holdout: ' + str(knn.fit(X_train, y_train).score(X_test, y_test)))\n",
    "print('Testing on Sample: ' + str(knn.fit(X, y).score(X, y)))"
   ]
  },
  {
   "cell_type": "markdown",
   "metadata": {},
   "source": [
    "**Cross Validation:**"
   ]
  },
  {
   "cell_type": "code",
   "execution_count": 92,
   "metadata": {},
   "outputs": [
    {
     "data": {
      "text/plain": [
       "array([0.86935796, 0.93755418, 0.87520756, 0.83708417, 0.75342296,\n",
       "       0.85200519, 0.93972972, 0.88554321, 0.79956892, 0.99221631])"
      ]
     },
     "execution_count": 92,
     "metadata": {},
     "output_type": "execute_result"
    }
   ],
   "source": [
    "from sklearn.model_selection import cross_val_score\n",
    "cross_val_score(knn, X_train , y_train , cv=10)"
   ]
  },
  {
   "cell_type": "code",
   "execution_count": 93,
   "metadata": {},
   "outputs": [
    {
     "name": "stdout",
     "output_type": "stream",
     "text": [
      "Weighted Accuracy: 0.87 (+/- 0.13)\n"
     ]
    }
   ],
   "source": [
    "score_w = cross_val_score(knn, X_train, y_train , cv=10)\n",
    "print(\"Weighted Accuracy: %0.2f (+/- %0.2f)\" % (score_w.mean(), score_w.std() * 2))"
   ]
  },
  {
   "cell_type": "markdown",
   "metadata": {},
   "source": [
    "### What is the optimal number of $k$'s?"
   ]
  },
  {
   "cell_type": "code",
   "execution_count": 75,
   "metadata": {},
   "outputs": [],
   "source": [
    "# creating odd list of K for KNN\n",
    "myList = list(range(1,50))\n",
    "\n",
    "# subsetting just the odd ones\n",
    "neighbors_ = list(filter(lambda x: x % 2 != 0, myList))\n",
    "\n"
   ]
  },
  {
   "cell_type": "code",
   "execution_count": 76,
   "metadata": {},
   "outputs": [],
   "source": [
    "# loading library\n",
    "from sklearn.neighbors import KNeighborsRegressor\n",
    "\n",
    "# empty list that will hold cv scores\n",
    "cv_scores = []\n",
    "\n",
    "# perform 10-fold cross validation\n",
    "for k in neighbors_:\n",
    "    knn = KNeighborsRegressor(n_neighbors=k)\n",
    "    scores = cross_val_score(knn, X_train, y_train, cv=10  \n",
    "                             #, scoring='accuracy'  \n",
    "                            )\n",
    "    cv_scores.append(scores.mean())"
   ]
  },
  {
   "cell_type": "code",
   "execution_count": 79,
   "metadata": {
    "scrolled": true
   },
   "outputs": [
    {
     "data": {
      "text/plain": [
       "[0.9031102793495067,\n",
       " 0.8893161396982642,\n",
       " 0.8762318275439286,\n",
       " 0.8650384279464671,\n",
       " 0.8487024871041324]"
      ]
     },
     "execution_count": 79,
     "metadata": {},
     "output_type": "execute_result"
    }
   ],
   "source": [
    "cv_scores[0:5]"
   ]
  },
  {
   "cell_type": "code",
   "execution_count": 80,
   "metadata": {
    "scrolled": true
   },
   "outputs": [
    {
     "name": "stdout",
     "output_type": "stream",
     "text": [
      "The optimal number of neighbors is 1\n"
     ]
    },
    {
     "data": {
      "image/png": "[encoded data removed]",
      "text/plain": [
       "<matplotlib.figure.Figure at 0x19747ca8198>"
      ]
     },
     "metadata": {},
     "output_type": "display_data"
    }
   ],
   "source": [
    "# changing to misclassification error\n",
    "MSE = [1 - x for x in cv_scores]\n",
    "\n",
    "# determining best k\n",
    "optimal_k = neighbors_[MSE.index(min(MSE))]\n",
    "print (\"The optimal number of neighbors is %d\" % optimal_k)\n",
    "\n",
    "# plot misclassification error vs k\n",
    "plt.plot(neighbors_, MSE)\n",
    "plt.xlabel('Number of Neighbors K')\n",
    "plt.ylabel('Misclassification Error')\n",
    "plt.show()"
   ]
  },
  {
   "cell_type": "markdown",
   "metadata": {},
   "source": [
    "### Linear regression:"
   ]
  },
  {
   "cell_type": "code",
   "execution_count": 101,
   "metadata": {},
   "outputs": [
    {
     "name": "stdout",
     "output_type": "stream",
     "text": [
      "\n",
      "Coefficients: \n",
      " [ 2.12136111e-04  5.69703298e-01 -7.01602917e-01  1.08836610e+00\n",
      "  9.98220329e-01  2.50758323e+00 -2.50758323e+00  1.30382232e+00\n",
      " -1.30382232e+00  8.26309486e-01 -8.26309486e-01]\n",
      "\n",
      "Intercept: \n",
      " -5.07567032740576\n",
      "\n",
      "R-squared:\n",
      "0.999872576556937\n"
     ]
    }
   ],
   "source": [
    "# Instantiate and fit our model.\n",
    "regr = linear_model.LinearRegression()\n",
    "X_ols = prop_crime.drop(['Property\\ncrime'] , axis=1 )#.values.reshape(-1, 1)\n",
    "y_ols = prop_crime['Property\\ncrime']\n",
    "regr.fit(X_ols, y_ols)\n",
    "\n",
    "# Inspect the results.\n",
    "print('\\nCoefficients: \\n', regr.coef_)\n",
    "print('\\nIntercept: \\n', regr.intercept_)\n",
    "print('\\nR-squared:')\n",
    "print(regr.score(X_ols, y_ols ))"
   ]
  },
  {
   "cell_type": "markdown",
   "metadata": {},
   "source": [
    "### Assumption two: multivariate normality\n",
    "\n",
    "The error from the model (calculated by subtracting the model-predicted values from the real outcome values) should be normally distributed. Since ordinary least squares regression models are fitted by choosing the parameters that best minimize error, skewness or outliers in the error can result in serious miss-estimations.\n",
    "\n",
    "Outliers or skewness in error can often be traced back to outliers or skewness in data.\n"
   ]
  },
  {
   "cell_type": "code",
   "execution_count": 102,
   "metadata": {
    "scrolled": false
   },
   "outputs": [
    {
     "data": {
      "image/png": "[encoded data removed]",
      "text/plain": [
       "<matplotlib.figure.Figure at 0x1974809a2e8>"
      ]
     },
     "metadata": {},
     "output_type": "display_data"
    }
   ],
   "source": [
    "# Extract predicted values.\n",
    "predicted = regr.predict(X_ols).ravel()\n",
    "actual = prop_crime['Property\\ncrime']\n",
    "\n",
    "# Calculate the error, also called the residual.\n",
    "residual = actual - predicted\n",
    "\n",
    "# This looks a bit concerning.\n",
    "plt.hist(residual)\n",
    "plt.title('Residual counts')\n",
    "plt.xlabel('Residual')\n",
    "plt.ylabel('Count')\n",
    "plt.show()"
   ]
  },
  {
   "cell_type": "markdown",
   "metadata": {},
   "source": [
    "### Assumption three: homoscedasticity\n",
    "\n",
    "The distribution of your error terms (its \"scedasticity\"), should be consistent for all predicted values, or homoscedastic.\n",
    "\n",
    "For example, if your error terms aren't consistently distributed and you have more variance in the error for large outcome values than for small ones, then the confidence interval for large predicted values will be too small because it will be based on the average error variance. This leads to overconfidence in the accuracy of your model's predictions.\n",
    "\n",
    "Some fixes to heteroscedasticity include transforming the dependent variable and adding features that target the poorly-estimated areas. For example, if a model tracks data over time and model error variance jumps in the September to November period, a binary feature indicating season may be enough to resolve the problem.\n"
   ]
  },
  {
   "cell_type": "code",
   "execution_count": 103,
   "metadata": {},
   "outputs": [
    {
     "data": {
      "image/png": "[encoded data removed]",
      "text/plain": [
       "<matplotlib.figure.Figure at 0x1974808dda0>"
      ]
     },
     "metadata": {},
     "output_type": "display_data"
    }
   ],
   "source": [
    "plt.scatter(predicted, residual)\n",
    "plt.xlabel('Predicted')\n",
    "plt.ylabel('Residual')\n",
    "plt.axhline(y=0)\n",
    "plt.title('Residual vs. Predicted')\n",
    "plt.show()\n",
    "\n",
    "# Hm... looks a bit concerning."
   ]
  },
  {
   "cell_type": "markdown",
   "metadata": {},
   "source": [
    "### Assumption one: linear relationship\n",
    "\n",
    "As mentioned earlier, features in a regression need to have a linear relationship with the outcome. If the relationship is non-linear, the regression model will try to find any hint of a linear relationship, and only explain that – with predictable consequences for the validity of the model.\n",
    "\n",
    "Sometimes this can be fixed by applying a non-linear transformation function to a feature. For example, if the relationship between feature and outcome is quadratic and all feature scores are > 0, we can take the square root of the features, resulting in a linear relationship between the outcome and sqrt(feature). "
   ]
  },
  {
   "cell_type": "code",
   "execution_count": 104,
   "metadata": {},
   "outputs": [
    {
     "data": {
      "text/plain": [
       "Population             int64\n",
       "Violent\\ncrime         int64\n",
       "Aggravated\\nassault    int64\n",
       "Property\\ncrime        int64\n",
       "Burglary               int64\n",
       "Larceny-\\ntheft        int64\n",
       "Murder_False           uint8\n",
       "Murder_True            uint8\n",
       "Robbery_False          uint8\n",
       "Robbery_True           uint8\n",
       "Rape2_False            uint8\n",
       "Rape2_True             uint8\n",
       "dtype: object"
      ]
     },
     "execution_count": 104,
     "metadata": {},
     "output_type": "execute_result"
    }
   ],
   "source": [
    "prop_crime.dtypes"
   ]
  },
  {
   "cell_type": "code",
   "execution_count": 105,
   "metadata": {
    "scrolled": true
   },
   "outputs": [
    {
     "data": {
      "text/html": [
       "<div>\n",
       "<style scoped>\n",
       "    .dataframe tbody tr th:only-of-type {\n",
       "        vertical-align: middle;\n",
       "    }\n",
       "\n",
       "    .dataframe tbody tr th {\n",
       "        vertical-align: top;\n",
       "    }\n",
       "\n",
       "    .dataframe thead th {\n",
       "        text-align: right;\n",
       "    }\n",
       "</style>\n",
       "<table border=\"1\" class=\"dataframe\">\n",
       "  <thead>\n",
       "    <tr style=\"text-align: right;\">\n",
       "      <th></th>\n",
       "      <th>Population</th>\n",
       "      <th>Violent\n",
       "crime</th>\n",
       "      <th>Aggravated\n",
       "assault</th>\n",
       "      <th>Property\n",
       "crime</th>\n",
       "      <th>Burglary</th>\n",
       "      <th>Larceny-\n",
       "theft</th>\n",
       "      <th>Murder_False</th>\n",
       "      <th>Murder_True</th>\n",
       "      <th>Robbery_False</th>\n",
       "      <th>Robbery_True</th>\n",
       "      <th>Rape2_False</th>\n",
       "      <th>Rape2_True</th>\n",
       "    </tr>\n",
       "  </thead>\n",
       "  <tbody>\n",
       "    <tr>\n",
       "      <th>count</th>\n",
       "      <td>344.000000</td>\n",
       "      <td>344.000000</td>\n",
       "      <td>344.000000</td>\n",
       "      <td>344.000000</td>\n",
       "      <td>344.000000</td>\n",
       "      <td>344.000000</td>\n",
       "      <td>344.000000</td>\n",
       "      <td>344.000000</td>\n",
       "      <td>344.000000</td>\n",
       "      <td>344.000000</td>\n",
       "      <td>344.000000</td>\n",
       "      <td>344.000000</td>\n",
       "    </tr>\n",
       "    <tr>\n",
       "      <th>mean</th>\n",
       "      <td>14152.572674</td>\n",
       "      <td>33.078488</td>\n",
       "      <td>20.427326</td>\n",
       "      <td>316.703488</td>\n",
       "      <td>53.863372</td>\n",
       "      <td>253.366279</td>\n",
       "      <td>0.869186</td>\n",
       "      <td>0.130814</td>\n",
       "      <td>0.776163</td>\n",
       "      <td>0.223837</td>\n",
       "      <td>0.593023</td>\n",
       "      <td>0.406977</td>\n",
       "    </tr>\n",
       "    <tr>\n",
       "      <th>std</th>\n",
       "      <td>18876.820762</td>\n",
       "      <td>105.875978</td>\n",
       "      <td>64.048728</td>\n",
       "      <td>602.880988</td>\n",
       "      <td>134.720665</td>\n",
       "      <td>454.846951</td>\n",
       "      <td>0.337688</td>\n",
       "      <td>0.337688</td>\n",
       "      <td>0.417421</td>\n",
       "      <td>0.417421</td>\n",
       "      <td>0.491986</td>\n",
       "      <td>0.491986</td>\n",
       "    </tr>\n",
       "    <tr>\n",
       "      <th>min</th>\n",
       "      <td>526.000000</td>\n",
       "      <td>0.000000</td>\n",
       "      <td>0.000000</td>\n",
       "      <td>0.000000</td>\n",
       "      <td>0.000000</td>\n",
       "      <td>0.000000</td>\n",
       "      <td>0.000000</td>\n",
       "      <td>0.000000</td>\n",
       "      <td>0.000000</td>\n",
       "      <td>0.000000</td>\n",
       "      <td>0.000000</td>\n",
       "      <td>0.000000</td>\n",
       "    </tr>\n",
       "    <tr>\n",
       "      <th>25%</th>\n",
       "      <td>2983.250000</td>\n",
       "      <td>2.000000</td>\n",
       "      <td>1.000000</td>\n",
       "      <td>39.000000</td>\n",
       "      <td>6.000000</td>\n",
       "      <td>31.000000</td>\n",
       "      <td>1.000000</td>\n",
       "      <td>0.000000</td>\n",
       "      <td>1.000000</td>\n",
       "      <td>0.000000</td>\n",
       "      <td>0.000000</td>\n",
       "      <td>0.000000</td>\n",
       "    </tr>\n",
       "    <tr>\n",
       "      <th>50%</th>\n",
       "      <td>7106.000000</td>\n",
       "      <td>6.000000</td>\n",
       "      <td>4.000000</td>\n",
       "      <td>111.500000</td>\n",
       "      <td>17.000000</td>\n",
       "      <td>93.500000</td>\n",
       "      <td>1.000000</td>\n",
       "      <td>0.000000</td>\n",
       "      <td>1.000000</td>\n",
       "      <td>0.000000</td>\n",
       "      <td>1.000000</td>\n",
       "      <td>0.000000</td>\n",
       "    </tr>\n",
       "    <tr>\n",
       "      <th>75%</th>\n",
       "      <td>17889.250000</td>\n",
       "      <td>21.000000</td>\n",
       "      <td>13.250000</td>\n",
       "      <td>334.750000</td>\n",
       "      <td>50.000000</td>\n",
       "      <td>275.500000</td>\n",
       "      <td>1.000000</td>\n",
       "      <td>0.000000</td>\n",
       "      <td>1.000000</td>\n",
       "      <td>0.000000</td>\n",
       "      <td>1.000000</td>\n",
       "      <td>1.000000</td>\n",
       "    </tr>\n",
       "    <tr>\n",
       "      <th>max</th>\n",
       "      <td>143834.000000</td>\n",
       "      <td>1192.000000</td>\n",
       "      <td>696.000000</td>\n",
       "      <td>6473.000000</td>\n",
       "      <td>1781.000000</td>\n",
       "      <td>4298.000000</td>\n",
       "      <td>1.000000</td>\n",
       "      <td>1.000000</td>\n",
       "      <td>1.000000</td>\n",
       "      <td>1.000000</td>\n",
       "      <td>1.000000</td>\n",
       "      <td>1.000000</td>\n",
       "    </tr>\n",
       "  </tbody>\n",
       "</table>\n",
       "</div>"
      ],
      "text/plain": [
       "          Population  Violent\\ncrime  Aggravated\\nassault  Property\\ncrime  \\\n",
       "count     344.000000      344.000000           344.000000       344.000000   \n",
       "mean    14152.572674       33.078488            20.427326       316.703488   \n",
       "std     18876.820762      105.875978            64.048728       602.880988   \n",
       "min       526.000000        0.000000             0.000000         0.000000   \n",
       "25%      2983.250000        2.000000             1.000000        39.000000   \n",
       "50%      7106.000000        6.000000             4.000000       111.500000   \n",
       "75%     17889.250000       21.000000            13.250000       334.750000   \n",
       "max    143834.000000     1192.000000           696.000000      6473.000000   \n",
       "\n",
       "          Burglary  Larceny-\\ntheft  Murder_False  Murder_True  Robbery_False  \\\n",
       "count   344.000000       344.000000    344.000000   344.000000     344.000000   \n",
       "mean     53.863372       253.366279      0.869186     0.130814       0.776163   \n",
       "std     134.720665       454.846951      0.337688     0.337688       0.417421   \n",
       "min       0.000000         0.000000      0.000000     0.000000       0.000000   \n",
       "25%       6.000000        31.000000      1.000000     0.000000       1.000000   \n",
       "50%      17.000000        93.500000      1.000000     0.000000       1.000000   \n",
       "75%      50.000000       275.500000      1.000000     0.000000       1.000000   \n",
       "max    1781.000000      4298.000000      1.000000     1.000000       1.000000   \n",
       "\n",
       "       Robbery_True  Rape2_False  Rape2_True  \n",
       "count    344.000000   344.000000  344.000000  \n",
       "mean       0.223837     0.593023    0.406977  \n",
       "std        0.417421     0.491986    0.491986  \n",
       "min        0.000000     0.000000    0.000000  \n",
       "25%        0.000000     0.000000    0.000000  \n",
       "50%        0.000000     1.000000    0.000000  \n",
       "75%        0.000000     1.000000    1.000000  \n",
       "max        1.000000     1.000000    1.000000  "
      ]
     },
     "execution_count": 105,
     "metadata": {},
     "output_type": "execute_result"
    }
   ],
   "source": [
    "prop_crime.describe()"
   ]
  },
  {
   "cell_type": "code",
   "execution_count": 107,
   "metadata": {
    "scrolled": false
   },
   "outputs": [
    {
     "data": {
      "image/png": "[encoded data removed]",
      "text/plain": [
       "<matplotlib.figure.Figure at 0x1974823b198>"
      ]
     },
     "metadata": {},
     "output_type": "display_data"
    }
   ],
   "source": [
    "import seaborn as sns\n",
    "plt.figure(figsize=(20,5))\n",
    "sns.boxplot(data = prop_crime.drop(['Population'],axis=1) , palette=\"Set3\"   )\n",
    "plt.show()"
   ]
  },
  {
   "cell_type": "markdown",
   "metadata": {},
   "source": [
    "It seems there are many outliers for each feature. We have already dropped the biggest outliers."
   ]
  },
  {
   "cell_type": "markdown",
   "metadata": {},
   "source": [
    "### Create the default pairplot for numerical columns to better see how data is groupping:"
   ]
  },
  {
   "cell_type": "code",
   "execution_count": 112,
   "metadata": {},
   "outputs": [
    {
     "data": {
      "image/png": "[encoded data removed]",
      "text/plain": [
       "<matplotlib.figure.Figure at 0x197489af240>"
      ]
     },
     "metadata": {},
     "output_type": "display_data"
    }
   ],
   "source": [
    "g=sns.pairplot(prop_crime.drop(['Murder_False','Murder_True','Robbery_False','Robbery_True','Rape2_False','Rape2_True']\n",
    "                      ,axis=1).fillna(0) , diag_kind='hist' , kind='reg' )\n",
    "plt.show()"
   ]
  },
  {
   "cell_type": "markdown",
   "metadata": {},
   "source": [
    "### Logarithm:\n",
    "\n",
    "Log of a variable is a common transformation method used to change the shape of distribution of the variable on a distribution plot. It is generally used for reducing right skewness of variables. Though, It can’t be applied to zero or negative values as well.\n"
   ]
  },
  {
   "cell_type": "code",
   "execution_count": 113,
   "metadata": {},
   "outputs": [
    {
     "data": {
      "text/plain": [
       "Index(['Population', 'Violent\\ncrime', 'Aggravated\\nassault',\n",
       "       'Property\\ncrime', 'Burglary', 'Larceny-\\ntheft'],\n",
       "      dtype='object')"
      ]
     },
     "execution_count": 113,
     "metadata": {},
     "output_type": "execute_result"
    }
   ],
   "source": [
    "prop_crime.drop(['Murder_False','Murder_True','Robbery_False','Robbery_True','Rape2_False','Rape2_True']\n",
    "                      ,axis=1).columns"
   ]
  },
  {
   "cell_type": "code",
   "execution_count": 114,
   "metadata": {},
   "outputs": [
    {
     "data": {
      "text/html": [
       "<div>\n",
       "<style scoped>\n",
       "    .dataframe tbody tr th:only-of-type {\n",
       "        vertical-align: middle;\n",
       "    }\n",
       "\n",
       "    .dataframe tbody tr th {\n",
       "        vertical-align: top;\n",
       "    }\n",
       "\n",
       "    .dataframe thead th {\n",
       "        text-align: right;\n",
       "    }\n",
       "</style>\n",
       "<table border=\"1\" class=\"dataframe\">\n",
       "  <thead>\n",
       "    <tr style=\"text-align: right;\">\n",
       "      <th></th>\n",
       "      <th>Population</th>\n",
       "      <th>Violent\n",
       "crime</th>\n",
       "      <th>Aggravated\n",
       "assault</th>\n",
       "      <th>Property\n",
       "crime</th>\n",
       "      <th>Burglary</th>\n",
       "      <th>Larceny-\n",
       "theft</th>\n",
       "      <th>Murder_False</th>\n",
       "      <th>Murder_True</th>\n",
       "      <th>Robbery_False</th>\n",
       "      <th>Robbery_True</th>\n",
       "      <th>Rape2_False</th>\n",
       "      <th>Rape2_True</th>\n",
       "    </tr>\n",
       "  </thead>\n",
       "  <tbody>\n",
       "  </tbody>\n",
       "</table>\n",
       "</div>"
      ],
      "text/plain": [
       "Empty DataFrame\n",
       "Columns: [Population, Violent\n",
       "crime, Aggravated\n",
       "assault, Property\n",
       "crime, Burglary, Larceny-\n",
       "theft, Murder_False, Murder_True, Robbery_False, Robbery_True, Rape2_False, Rape2_True]\n",
       "Index: []"
      ]
     },
     "execution_count": 114,
     "metadata": {},
     "output_type": "execute_result"
    }
   ],
   "source": [
    "# Display if there are any below zero values:\n",
    "prop_crime[(prop_crime < 0).any(axis=1)]"
   ]
  },
  {
   "cell_type": "markdown",
   "metadata": {},
   "source": [
    "### Apply transformation to 3 columns that seem to not have a normal distribution:"
   ]
  },
  {
   "cell_type": "code",
   "execution_count": 115,
   "metadata": {},
   "outputs": [],
   "source": [
    "prop_crime_log = prop_crime.drop(['Murder_False','Murder_True','Robbery_False','Robbery_True','Rape2_False','Rape2_True']\n",
    "                      ,axis=1\n",
    "                               ).apply(np.log)"
   ]
  },
  {
   "cell_type": "code",
   "execution_count": 116,
   "metadata": {},
   "outputs": [
    {
     "name": "stderr",
     "output_type": "stream",
     "text": [
      "C:\\Anaconda3\\lib\\site-packages\\numpy\\core\\_methods.py:26: RuntimeWarning: invalid value encountered in reduce\n",
      "  return umr_maximum(a, axis, None, out, keepdims)\n",
      "C:\\Anaconda3\\lib\\site-packages\\numpy\\linalg\\linalg.py:1728: RuntimeWarning: invalid value encountered in greater\n",
      "  large = s > cutoff\n"
     ]
    },
    {
     "data": {
      "image/png": "[encoded data removed]",
      "text/plain": [
       "<matplotlib.figure.Figure at 0x1974a14f208>"
      ]
     },
     "metadata": {},
     "output_type": "display_data"
    }
   ],
   "source": [
    "g=sns.pairplot(prop_crime_log, diag_kind='kde' , kind='reg'\n",
    "               #, plot_kws=dict(edgecolor=\"k\", linewidth=0.5)\n",
    "               , diag_kws=dict(shade=True)\n",
    "              )\n",
    "plt.show()"
   ]
  },
  {
   "cell_type": "code",
   "execution_count": 117,
   "metadata": {
    "scrolled": true
   },
   "outputs": [
    {
     "data": {
      "text/html": [
       "<div>\n",
       "<style scoped>\n",
       "    .dataframe tbody tr th:only-of-type {\n",
       "        vertical-align: middle;\n",
       "    }\n",
       "\n",
       "    .dataframe tbody tr th {\n",
       "        vertical-align: top;\n",
       "    }\n",
       "\n",
       "    .dataframe thead th {\n",
       "        text-align: right;\n",
       "    }\n",
       "</style>\n",
       "<table border=\"1\" class=\"dataframe\">\n",
       "  <thead>\n",
       "    <tr style=\"text-align: right;\">\n",
       "      <th></th>\n",
       "      <th>Population</th>\n",
       "      <th>Violent\n",
       "crime</th>\n",
       "      <th>Aggravated\n",
       "assault</th>\n",
       "      <th>Property\n",
       "crime</th>\n",
       "      <th>Burglary</th>\n",
       "      <th>Larceny-\n",
       "theft</th>\n",
       "    </tr>\n",
       "  </thead>\n",
       "  <tbody>\n",
       "    <tr>\n",
       "      <th>310</th>\n",
       "      <td>11.876415</td>\n",
       "      <td>7.083388</td>\n",
       "      <td>6.545350</td>\n",
       "      <td>8.775395</td>\n",
       "      <td>7.484930</td>\n",
       "      <td>8.365905</td>\n",
       "    </tr>\n",
       "    <tr>\n",
       "      <th>7</th>\n",
       "      <td>11.680945</td>\n",
       "      <td>4.672829</td>\n",
       "      <td>4.219508</td>\n",
       "      <td>7.658228</td>\n",
       "      <td>5.318120</td>\n",
       "      <td>7.540090</td>\n",
       "    </tr>\n",
       "    <tr>\n",
       "      <th>3</th>\n",
       "      <td>11.492274</td>\n",
       "      <td>6.673298</td>\n",
       "      <td>6.265301</td>\n",
       "      <td>8.316300</td>\n",
       "      <td>6.558198</td>\n",
       "      <td>8.084254</td>\n",
       "    </tr>\n",
       "    <tr>\n",
       "      <th>126</th>\n",
       "      <td>11.479027</td>\n",
       "      <td>5.017280</td>\n",
       "      <td>4.406719</td>\n",
       "      <td>7.741968</td>\n",
       "      <td>5.805135</td>\n",
       "      <td>7.562681</td>\n",
       "    </tr>\n",
       "    <tr>\n",
       "      <th>267</th>\n",
       "      <td>11.376005</td>\n",
       "      <td>4.043051</td>\n",
       "      <td>3.713572</td>\n",
       "      <td>6.340359</td>\n",
       "      <td>4.477337</td>\n",
       "      <td>6.144186</td>\n",
       "    </tr>\n",
       "    <tr>\n",
       "      <th>57</th>\n",
       "      <td>11.298556</td>\n",
       "      <td>4.174387</td>\n",
       "      <td>3.688879</td>\n",
       "      <td>7.323171</td>\n",
       "      <td>4.595120</td>\n",
       "      <td>7.235619</td>\n",
       "    </tr>\n",
       "    <tr>\n",
       "      <th>214</th>\n",
       "      <td>11.274668</td>\n",
       "      <td>5.164786</td>\n",
       "      <td>4.488636</td>\n",
       "      <td>7.237778</td>\n",
       "      <td>5.010635</td>\n",
       "      <td>7.066467</td>\n",
       "    </tr>\n",
       "    <tr>\n",
       "      <th>53</th>\n",
       "      <td>11.269082</td>\n",
       "      <td>5.062595</td>\n",
       "      <td>4.595120</td>\n",
       "      <td>7.896925</td>\n",
       "      <td>5.843544</td>\n",
       "      <td>7.727976</td>\n",
       "    </tr>\n",
       "    <tr>\n",
       "      <th>62</th>\n",
       "      <td>11.267217</td>\n",
       "      <td>4.143135</td>\n",
       "      <td>3.465736</td>\n",
       "      <td>7.595890</td>\n",
       "      <td>5.225747</td>\n",
       "      <td>7.469084</td>\n",
       "    </tr>\n",
       "    <tr>\n",
       "      <th>206</th>\n",
       "      <td>11.128307</td>\n",
       "      <td>6.317165</td>\n",
       "      <td>5.758902</td>\n",
       "      <td>7.269617</td>\n",
       "      <td>5.758902</td>\n",
       "      <td>6.879356</td>\n",
       "    </tr>\n",
       "    <tr>\n",
       "      <th>285</th>\n",
       "      <td>11.098031</td>\n",
       "      <td>6.408529</td>\n",
       "      <td>5.899897</td>\n",
       "      <td>7.937375</td>\n",
       "      <td>6.645091</td>\n",
       "      <td>7.537963</td>\n",
       "    </tr>\n",
       "    <tr>\n",
       "      <th>321</th>\n",
       "      <td>11.029812</td>\n",
       "      <td>5.888878</td>\n",
       "      <td>5.416100</td>\n",
       "      <td>7.835184</td>\n",
       "      <td>6.107023</td>\n",
       "      <td>7.599401</td>\n",
       "    </tr>\n",
       "    <tr>\n",
       "      <th>314</th>\n",
       "      <td>10.969611</td>\n",
       "      <td>4.770685</td>\n",
       "      <td>4.454347</td>\n",
       "      <td>7.002156</td>\n",
       "      <td>5.247024</td>\n",
       "      <td>6.782192</td>\n",
       "    </tr>\n",
       "    <tr>\n",
       "      <th>340</th>\n",
       "      <td>10.960566</td>\n",
       "      <td>4.356709</td>\n",
       "      <td>3.828641</td>\n",
       "      <td>7.116394</td>\n",
       "      <td>4.343805</td>\n",
       "      <td>7.033506</td>\n",
       "    </tr>\n",
       "    <tr>\n",
       "      <th>140</th>\n",
       "      <td>10.918682</td>\n",
       "      <td>6.070738</td>\n",
       "      <td>5.375278</td>\n",
       "      <td>6.864848</td>\n",
       "      <td>5.327876</td>\n",
       "      <td>6.445720</td>\n",
       "    </tr>\n",
       "    <tr>\n",
       "      <th>152</th>\n",
       "      <td>10.849454</td>\n",
       "      <td>4.532599</td>\n",
       "      <td>3.555348</td>\n",
       "      <td>7.210080</td>\n",
       "      <td>5.602119</td>\n",
       "      <td>6.955593</td>\n",
       "    </tr>\n",
       "    <tr>\n",
       "      <th>301</th>\n",
       "      <td>10.831766</td>\n",
       "      <td>3.784190</td>\n",
       "      <td>3.091042</td>\n",
       "      <td>6.927558</td>\n",
       "      <td>5.389072</td>\n",
       "      <td>6.622736</td>\n",
       "    </tr>\n",
       "    <tr>\n",
       "      <th>315</th>\n",
       "      <td>10.817736</td>\n",
       "      <td>5.916202</td>\n",
       "      <td>5.351858</td>\n",
       "      <td>7.593374</td>\n",
       "      <td>6.385194</td>\n",
       "      <td>7.173958</td>\n",
       "    </tr>\n",
       "    <tr>\n",
       "      <th>218</th>\n",
       "      <td>10.811222</td>\n",
       "      <td>6.369901</td>\n",
       "      <td>5.998937</td>\n",
       "      <td>7.939872</td>\n",
       "      <td>6.614726</td>\n",
       "      <td>7.575072</td>\n",
       "    </tr>\n",
       "    <tr>\n",
       "      <th>22</th>\n",
       "      <td>10.742984</td>\n",
       "      <td>5.648974</td>\n",
       "      <td>5.081404</td>\n",
       "      <td>7.761745</td>\n",
       "      <td>6.263398</td>\n",
       "      <td>7.477038</td>\n",
       "    </tr>\n",
       "    <tr>\n",
       "      <th>134</th>\n",
       "      <td>10.726237</td>\n",
       "      <td>3.637586</td>\n",
       "      <td>3.178054</td>\n",
       "      <td>7.062192</td>\n",
       "      <td>4.897840</td>\n",
       "      <td>6.919684</td>\n",
       "    </tr>\n",
       "    <tr>\n",
       "      <th>338</th>\n",
       "      <td>10.710432</td>\n",
       "      <td>3.555348</td>\n",
       "      <td>3.178054</td>\n",
       "      <td>6.797940</td>\n",
       "      <td>5.111988</td>\n",
       "      <td>6.565265</td>\n",
       "    </tr>\n",
       "    <tr>\n",
       "      <th>127</th>\n",
       "      <td>10.709673</td>\n",
       "      <td>3.871201</td>\n",
       "      <td>3.258097</td>\n",
       "      <td>6.359574</td>\n",
       "      <td>4.007333</td>\n",
       "      <td>6.216606</td>\n",
       "    </tr>\n",
       "    <tr>\n",
       "      <th>263</th>\n",
       "      <td>10.688895</td>\n",
       "      <td>3.663562</td>\n",
       "      <td>3.218876</td>\n",
       "      <td>7.199678</td>\n",
       "      <td>4.828314</td>\n",
       "      <td>7.092574</td>\n",
       "    </tr>\n",
       "    <tr>\n",
       "      <th>334</th>\n",
       "      <td>10.686864</td>\n",
       "      <td>3.044522</td>\n",
       "      <td>2.772589</td>\n",
       "      <td>6.150603</td>\n",
       "      <td>4.615121</td>\n",
       "      <td>5.888878</td>\n",
       "    </tr>\n",
       "    <tr>\n",
       "      <th>108</th>\n",
       "      <td>10.673920</td>\n",
       "      <td>5.023881</td>\n",
       "      <td>4.304065</td>\n",
       "      <td>6.838405</td>\n",
       "      <td>5.123964</td>\n",
       "      <td>6.548219</td>\n",
       "    </tr>\n",
       "    <tr>\n",
       "      <th>236</th>\n",
       "      <td>10.530442</td>\n",
       "      <td>3.610918</td>\n",
       "      <td>3.135494</td>\n",
       "      <td>5.758902</td>\n",
       "      <td>3.713572</td>\n",
       "      <td>5.568345</td>\n",
       "    </tr>\n",
       "    <tr>\n",
       "      <th>139</th>\n",
       "      <td>10.523957</td>\n",
       "      <td>4.158883</td>\n",
       "      <td>3.806662</td>\n",
       "      <td>5.828946</td>\n",
       "      <td>4.418841</td>\n",
       "      <td>5.497168</td>\n",
       "    </tr>\n",
       "    <tr>\n",
       "      <th>31</th>\n",
       "      <td>10.510232</td>\n",
       "      <td>3.258097</td>\n",
       "      <td>2.564949</td>\n",
       "      <td>6.675823</td>\n",
       "      <td>4.955827</td>\n",
       "      <td>6.434547</td>\n",
       "    </tr>\n",
       "    <tr>\n",
       "      <th>347</th>\n",
       "      <td>10.508978</td>\n",
       "      <td>2.708050</td>\n",
       "      <td>2.564949</td>\n",
       "      <td>5.811141</td>\n",
       "      <td>3.806662</td>\n",
       "      <td>5.659482</td>\n",
       "    </tr>\n",
       "    <tr>\n",
       "      <th>...</th>\n",
       "      <td>...</td>\n",
       "      <td>...</td>\n",
       "      <td>...</td>\n",
       "      <td>...</td>\n",
       "      <td>...</td>\n",
       "      <td>...</td>\n",
       "    </tr>\n",
       "    <tr>\n",
       "      <th>307</th>\n",
       "      <td>7.433075</td>\n",
       "      <td>1.098612</td>\n",
       "      <td>1.098612</td>\n",
       "      <td>3.850148</td>\n",
       "      <td>2.079442</td>\n",
       "      <td>3.663562</td>\n",
       "    </tr>\n",
       "    <tr>\n",
       "      <th>186</th>\n",
       "      <td>7.431300</td>\n",
       "      <td>-inf</td>\n",
       "      <td>-inf</td>\n",
       "      <td>-inf</td>\n",
       "      <td>-inf</td>\n",
       "      <td>-inf</td>\n",
       "    </tr>\n",
       "    <tr>\n",
       "      <th>75</th>\n",
       "      <td>7.395108</td>\n",
       "      <td>-inf</td>\n",
       "      <td>-inf</td>\n",
       "      <td>2.639057</td>\n",
       "      <td>1.791759</td>\n",
       "      <td>2.079442</td>\n",
       "    </tr>\n",
       "    <tr>\n",
       "      <th>208</th>\n",
       "      <td>7.391415</td>\n",
       "      <td>-inf</td>\n",
       "      <td>-inf</td>\n",
       "      <td>-inf</td>\n",
       "      <td>-inf</td>\n",
       "      <td>-inf</td>\n",
       "    </tr>\n",
       "    <tr>\n",
       "      <th>258</th>\n",
       "      <td>7.379008</td>\n",
       "      <td>-inf</td>\n",
       "      <td>-inf</td>\n",
       "      <td>3.433987</td>\n",
       "      <td>-inf</td>\n",
       "      <td>3.433987</td>\n",
       "    </tr>\n",
       "    <tr>\n",
       "      <th>128</th>\n",
       "      <td>7.347944</td>\n",
       "      <td>-inf</td>\n",
       "      <td>-inf</td>\n",
       "      <td>0.000000</td>\n",
       "      <td>0.000000</td>\n",
       "      <td>-inf</td>\n",
       "    </tr>\n",
       "    <tr>\n",
       "      <th>295</th>\n",
       "      <td>7.270313</td>\n",
       "      <td>-inf</td>\n",
       "      <td>-inf</td>\n",
       "      <td>-inf</td>\n",
       "      <td>-inf</td>\n",
       "      <td>-inf</td>\n",
       "    </tr>\n",
       "    <tr>\n",
       "      <th>242</th>\n",
       "      <td>7.267525</td>\n",
       "      <td>0.693147</td>\n",
       "      <td>0.000000</td>\n",
       "      <td>2.564949</td>\n",
       "      <td>0.000000</td>\n",
       "      <td>2.484907</td>\n",
       "    </tr>\n",
       "    <tr>\n",
       "      <th>149</th>\n",
       "      <td>7.264030</td>\n",
       "      <td>0.000000</td>\n",
       "      <td>0.000000</td>\n",
       "      <td>2.484907</td>\n",
       "      <td>-inf</td>\n",
       "      <td>2.397895</td>\n",
       "    </tr>\n",
       "    <tr>\n",
       "      <th>23</th>\n",
       "      <td>7.251345</td>\n",
       "      <td>-inf</td>\n",
       "      <td>-inf</td>\n",
       "      <td>2.639057</td>\n",
       "      <td>0.693147</td>\n",
       "      <td>2.484907</td>\n",
       "    </tr>\n",
       "    <tr>\n",
       "      <th>238</th>\n",
       "      <td>7.233455</td>\n",
       "      <td>-inf</td>\n",
       "      <td>-inf</td>\n",
       "      <td>2.302585</td>\n",
       "      <td>0.693147</td>\n",
       "      <td>2.079442</td>\n",
       "    </tr>\n",
       "    <tr>\n",
       "      <th>293</th>\n",
       "      <td>7.208600</td>\n",
       "      <td>0.000000</td>\n",
       "      <td>0.000000</td>\n",
       "      <td>2.708050</td>\n",
       "      <td>1.945910</td>\n",
       "      <td>2.079442</td>\n",
       "    </tr>\n",
       "    <tr>\n",
       "      <th>157</th>\n",
       "      <td>7.207860</td>\n",
       "      <td>0.000000</td>\n",
       "      <td>0.000000</td>\n",
       "      <td>0.693147</td>\n",
       "      <td>-inf</td>\n",
       "      <td>0.693147</td>\n",
       "    </tr>\n",
       "    <tr>\n",
       "      <th>256</th>\n",
       "      <td>7.149917</td>\n",
       "      <td>-inf</td>\n",
       "      <td>-inf</td>\n",
       "      <td>-inf</td>\n",
       "      <td>-inf</td>\n",
       "      <td>-inf</td>\n",
       "    </tr>\n",
       "    <tr>\n",
       "      <th>200</th>\n",
       "      <td>7.141245</td>\n",
       "      <td>1.098612</td>\n",
       "      <td>1.098612</td>\n",
       "      <td>2.708050</td>\n",
       "      <td>-inf</td>\n",
       "      <td>2.708050</td>\n",
       "    </tr>\n",
       "    <tr>\n",
       "      <th>34</th>\n",
       "      <td>7.068172</td>\n",
       "      <td>-inf</td>\n",
       "      <td>-inf</td>\n",
       "      <td>2.302585</td>\n",
       "      <td>-inf</td>\n",
       "      <td>2.302585</td>\n",
       "    </tr>\n",
       "    <tr>\n",
       "      <th>77</th>\n",
       "      <td>7.022868</td>\n",
       "      <td>-inf</td>\n",
       "      <td>-inf</td>\n",
       "      <td>2.079442</td>\n",
       "      <td>0.693147</td>\n",
       "      <td>1.791759</td>\n",
       "    </tr>\n",
       "    <tr>\n",
       "      <th>87</th>\n",
       "      <td>7.006695</td>\n",
       "      <td>-inf</td>\n",
       "      <td>-inf</td>\n",
       "      <td>4.189655</td>\n",
       "      <td>1.386294</td>\n",
       "      <td>4.094345</td>\n",
       "    </tr>\n",
       "    <tr>\n",
       "      <th>227</th>\n",
       "      <td>7.000334</td>\n",
       "      <td>-inf</td>\n",
       "      <td>-inf</td>\n",
       "      <td>0.000000</td>\n",
       "      <td>-inf</td>\n",
       "      <td>0.000000</td>\n",
       "    </tr>\n",
       "    <tr>\n",
       "      <th>25</th>\n",
       "      <td>6.929517</td>\n",
       "      <td>0.000000</td>\n",
       "      <td>0.000000</td>\n",
       "      <td>1.386294</td>\n",
       "      <td>0.693147</td>\n",
       "      <td>0.693147</td>\n",
       "    </tr>\n",
       "    <tr>\n",
       "      <th>260</th>\n",
       "      <td>6.904751</td>\n",
       "      <td>-inf</td>\n",
       "      <td>-inf</td>\n",
       "      <td>2.079442</td>\n",
       "      <td>0.000000</td>\n",
       "      <td>1.945910</td>\n",
       "    </tr>\n",
       "    <tr>\n",
       "      <th>48</th>\n",
       "      <td>6.887553</td>\n",
       "      <td>-inf</td>\n",
       "      <td>-inf</td>\n",
       "      <td>1.386294</td>\n",
       "      <td>-inf</td>\n",
       "      <td>1.386294</td>\n",
       "    </tr>\n",
       "    <tr>\n",
       "      <th>266</th>\n",
       "      <td>6.884487</td>\n",
       "      <td>-inf</td>\n",
       "      <td>-inf</td>\n",
       "      <td>3.713572</td>\n",
       "      <td>2.564949</td>\n",
       "      <td>3.295837</td>\n",
       "    </tr>\n",
       "    <tr>\n",
       "      <th>287</th>\n",
       "      <td>6.770789</td>\n",
       "      <td>-inf</td>\n",
       "      <td>-inf</td>\n",
       "      <td>-inf</td>\n",
       "      <td>-inf</td>\n",
       "      <td>-inf</td>\n",
       "    </tr>\n",
       "    <tr>\n",
       "      <th>344</th>\n",
       "      <td>6.720220</td>\n",
       "      <td>1.945910</td>\n",
       "      <td>1.945910</td>\n",
       "      <td>2.833213</td>\n",
       "      <td>2.079442</td>\n",
       "      <td>2.197225</td>\n",
       "    </tr>\n",
       "    <tr>\n",
       "      <th>44</th>\n",
       "      <td>6.635947</td>\n",
       "      <td>-inf</td>\n",
       "      <td>-inf</td>\n",
       "      <td>0.693147</td>\n",
       "      <td>-inf</td>\n",
       "      <td>0.693147</td>\n",
       "    </tr>\n",
       "    <tr>\n",
       "      <th>12</th>\n",
       "      <td>6.489205</td>\n",
       "      <td>-inf</td>\n",
       "      <td>-inf</td>\n",
       "      <td>0.693147</td>\n",
       "      <td>-inf</td>\n",
       "      <td>0.693147</td>\n",
       "    </tr>\n",
       "    <tr>\n",
       "      <th>136</th>\n",
       "      <td>6.486161</td>\n",
       "      <td>-inf</td>\n",
       "      <td>-inf</td>\n",
       "      <td>2.302585</td>\n",
       "      <td>0.000000</td>\n",
       "      <td>2.197225</td>\n",
       "    </tr>\n",
       "    <tr>\n",
       "      <th>319</th>\n",
       "      <td>6.421622</td>\n",
       "      <td>-inf</td>\n",
       "      <td>-inf</td>\n",
       "      <td>-inf</td>\n",
       "      <td>-inf</td>\n",
       "      <td>-inf</td>\n",
       "    </tr>\n",
       "    <tr>\n",
       "      <th>118</th>\n",
       "      <td>6.265301</td>\n",
       "      <td>-inf</td>\n",
       "      <td>-inf</td>\n",
       "      <td>1.609438</td>\n",
       "      <td>-inf</td>\n",
       "      <td>1.609438</td>\n",
       "    </tr>\n",
       "  </tbody>\n",
       "</table>\n",
       "<p>344 rows × 6 columns</p>\n",
       "</div>"
      ],
      "text/plain": [
       "     Population  Violent\\ncrime  Aggravated\\nassault  Property\\ncrime  \\\n",
       "310   11.876415        7.083388             6.545350         8.775395   \n",
       "7     11.680945        4.672829             4.219508         7.658228   \n",
       "3     11.492274        6.673298             6.265301         8.316300   \n",
       "126   11.479027        5.017280             4.406719         7.741968   \n",
       "267   11.376005        4.043051             3.713572         6.340359   \n",
       "57    11.298556        4.174387             3.688879         7.323171   \n",
       "214   11.274668        5.164786             4.488636         7.237778   \n",
       "53    11.269082        5.062595             4.595120         7.896925   \n",
       "62    11.267217        4.143135             3.465736         7.595890   \n",
       "206   11.128307        6.317165             5.758902         7.269617   \n",
       "285   11.098031        6.408529             5.899897         7.937375   \n",
       "321   11.029812        5.888878             5.416100         7.835184   \n",
       "314   10.969611        4.770685             4.454347         7.002156   \n",
       "340   10.960566        4.356709             3.828641         7.116394   \n",
       "140   10.918682        6.070738             5.375278         6.864848   \n",
       "152   10.849454        4.532599             3.555348         7.210080   \n",
       "301   10.831766        3.784190             3.091042         6.927558   \n",
       "315   10.817736        5.916202             5.351858         7.593374   \n",
       "218   10.811222        6.369901             5.998937         7.939872   \n",
       "22    10.742984        5.648974             5.081404         7.761745   \n",
       "134   10.726237        3.637586             3.178054         7.062192   \n",
       "338   10.710432        3.555348             3.178054         6.797940   \n",
       "127   10.709673        3.871201             3.258097         6.359574   \n",
       "263   10.688895        3.663562             3.218876         7.199678   \n",
       "334   10.686864        3.044522             2.772589         6.150603   \n",
       "108   10.673920        5.023881             4.304065         6.838405   \n",
       "236   10.530442        3.610918             3.135494         5.758902   \n",
       "139   10.523957        4.158883             3.806662         5.828946   \n",
       "31    10.510232        3.258097             2.564949         6.675823   \n",
       "347   10.508978        2.708050             2.564949         5.811141   \n",
       "..          ...             ...                  ...              ...   \n",
       "307    7.433075        1.098612             1.098612         3.850148   \n",
       "186    7.431300            -inf                 -inf             -inf   \n",
       "75     7.395108            -inf                 -inf         2.639057   \n",
       "208    7.391415            -inf                 -inf             -inf   \n",
       "258    7.379008            -inf                 -inf         3.433987   \n",
       "128    7.347944            -inf                 -inf         0.000000   \n",
       "295    7.270313            -inf                 -inf             -inf   \n",
       "242    7.267525        0.693147             0.000000         2.564949   \n",
       "149    7.264030        0.000000             0.000000         2.484907   \n",
       "23     7.251345            -inf                 -inf         2.639057   \n",
       "238    7.233455            -inf                 -inf         2.302585   \n",
       "293    7.208600        0.000000             0.000000         2.708050   \n",
       "157    7.207860        0.000000             0.000000         0.693147   \n",
       "256    7.149917            -inf                 -inf             -inf   \n",
       "200    7.141245        1.098612             1.098612         2.708050   \n",
       "34     7.068172            -inf                 -inf         2.302585   \n",
       "77     7.022868            -inf                 -inf         2.079442   \n",
       "87     7.006695            -inf                 -inf         4.189655   \n",
       "227    7.000334            -inf                 -inf         0.000000   \n",
       "25     6.929517        0.000000             0.000000         1.386294   \n",
       "260    6.904751            -inf                 -inf         2.079442   \n",
       "48     6.887553            -inf                 -inf         1.386294   \n",
       "266    6.884487            -inf                 -inf         3.713572   \n",
       "287    6.770789            -inf                 -inf             -inf   \n",
       "344    6.720220        1.945910             1.945910         2.833213   \n",
       "44     6.635947            -inf                 -inf         0.693147   \n",
       "12     6.489205            -inf                 -inf         0.693147   \n",
       "136    6.486161            -inf                 -inf         2.302585   \n",
       "319    6.421622            -inf                 -inf             -inf   \n",
       "118    6.265301            -inf                 -inf         1.609438   \n",
       "\n",
       "     Burglary  Larceny-\\ntheft  \n",
       "310  7.484930         8.365905  \n",
       "7    5.318120         7.540090  \n",
       "3    6.558198         8.084254  \n",
       "126  5.805135         7.562681  \n",
       "267  4.477337         6.144186  \n",
       "57   4.595120         7.235619  \n",
       "214  5.010635         7.066467  \n",
       "53   5.843544         7.727976  \n",
       "62   5.225747         7.469084  \n",
       "206  5.758902         6.879356  \n",
       "285  6.645091         7.537963  \n",
       "321  6.107023         7.599401  \n",
       "314  5.247024         6.782192  \n",
       "340  4.343805         7.033506  \n",
       "140  5.327876         6.445720  \n",
       "152  5.602119         6.955593  \n",
       "301  5.389072         6.622736  \n",
       "315  6.385194         7.173958  \n",
       "218  6.614726         7.575072  \n",
       "22   6.263398         7.477038  \n",
       "134  4.897840         6.919684  \n",
       "338  5.111988         6.565265  \n",
       "127  4.007333         6.216606  \n",
       "263  4.828314         7.092574  \n",
       "334  4.615121         5.888878  \n",
       "108  5.123964         6.548219  \n",
       "236  3.713572         5.568345  \n",
       "139  4.418841         5.497168  \n",
       "31   4.955827         6.434547  \n",
       "347  3.806662         5.659482  \n",
       "..        ...              ...  \n",
       "307  2.079442         3.663562  \n",
       "186      -inf             -inf  \n",
       "75   1.791759         2.079442  \n",
       "208      -inf             -inf  \n",
       "258      -inf         3.433987  \n",
       "128  0.000000             -inf  \n",
       "295      -inf             -inf  \n",
       "242  0.000000         2.484907  \n",
       "149      -inf         2.397895  \n",
       "23   0.693147         2.484907  \n",
       "238  0.693147         2.079442  \n",
       "293  1.945910         2.079442  \n",
       "157      -inf         0.693147  \n",
       "256      -inf             -inf  \n",
       "200      -inf         2.708050  \n",
       "34       -inf         2.302585  \n",
       "77   0.693147         1.791759  \n",
       "87   1.386294         4.094345  \n",
       "227      -inf         0.000000  \n",
       "25   0.693147         0.693147  \n",
       "260  0.000000         1.945910  \n",
       "48       -inf         1.386294  \n",
       "266  2.564949         3.295837  \n",
       "287      -inf             -inf  \n",
       "344  2.079442         2.197225  \n",
       "44       -inf         0.693147  \n",
       "12       -inf         0.693147  \n",
       "136  0.000000         2.197225  \n",
       "319      -inf             -inf  \n",
       "118      -inf         1.609438  \n",
       "\n",
       "[344 rows x 6 columns]"
      ]
     },
     "execution_count": 117,
     "metadata": {},
     "output_type": "execute_result"
    }
   ],
   "source": [
    "prop_crime_log"
   ]
  },
  {
   "cell_type": "code",
   "execution_count": null,
   "metadata": {},
   "outputs": [],
   "source": []
  },
  {
   "cell_type": "code",
   "execution_count": 172,
   "metadata": {},
   "outputs": [
    {
     "name": "stdout",
     "output_type": "stream",
     "text": [
      "\n",
      "Coefficients: \n",
      " [ 89.4458054  -25.3825153  203.75845739  51.08994371  14.35125834]\n",
      "\n",
      "Intercept: \n",
      " -970.4573396710089\n",
      "\n",
      "R-squared:\n",
      "0.528888614602234\n"
     ]
    }
   ],
   "source": [
    "# Instantiate and fit our model.\n",
    "# Replace '-inf' with 'nan' and 'nan' with zero:\n",
    "regr_tran = linear_model.LinearRegression()\n",
    "X_ols = prop_crime_log.drop(['Property\\ncrime'],axis=1).replace([np.inf, -np.inf], np.nan).fillna(0)\n",
    "y_ols = prop_crime['Property\\ncrime']#.replace([np.inf, -np.inf], np.nan).fillna(0).values.reshape(-1, 1)\n",
    "\n",
    "regr_tran.fit(X_ols, y_ols)\n",
    "\n",
    "# Inspect the results.\n",
    "print('\\nCoefficients: \\n', regr_tran.coef_)\n",
    "print('\\nIntercept: \\n', regr_tran.intercept_)\n",
    "print('\\nR-squared:')\n",
    "print(regr_tran.score(X_ols, y_ols ))"
   ]
  },
  {
   "cell_type": "code",
   "execution_count": null,
   "metadata": {},
   "outputs": [],
   "source": []
  },
  {
   "cell_type": "markdown",
   "metadata": {},
   "source": [
    "### What is Principal Components Analysis (PCA)?\n",
    "PCA is a complexity-reduction technique that tries to reduce a set of variables down to a smaller set of components that represent most of the information in the variables. At a conceptual level, PCA works by identifying sets of variables that share variance, and creating a component to represent that variance.\n",
    "\n",
    "### PCA works best for normally-distributed data \n",
    "PCA works best for normally-distributed data and assumes the relationships among variables are linear. \n",
    "\n",
    "PCA also works best when the variables involved range from weakly correlated to moderately strongly correlated. Correlations of 0, or correlations greater than .7 or .8, create problems. Correlations near 0 mean there is no shared information. \n",
    "\n",
    "### Correlations that are too high can result in components that are unstable \n",
    "and change a lot in response to very small changes in the data, or components that are made up of variance from only one or two variables. \n",
    "* <i>A few very high or very low correlations are fine.</i>"
   ]
  },
  {
   "cell_type": "markdown",
   "metadata": {},
   "source": [
    "### Eigenvalues\n",
    "Eigenvalues represent the length of the Eigenvectors – each eigenvector has an eigenvalue. \n",
    "\n",
    ">The length of the eigenvector encodes the proportion of total variance explained by a component. \n",
    "\n",
    "The total variance is equal to the number of variables in the PCA. Thus, an Eigenvalue of 1 means that the component explains the same amount of variance as one variable. An eigenvalue greater than 1 is desirable, since a component with an eigenvalue of 1 adds no value beyond the information contained in any individual variable, and an eigenvalue of less than 1 is actually less efficient at conveying information than a variable by itself. An eigenvalue of 2 means that the component contains an amount of information equal to that of two variables. Of course, it doesn’t mean that only two variables load on that component."
   ]
  },
  {
   "cell_type": "code",
   "execution_count": 129,
   "metadata": {},
   "outputs": [],
   "source": [
    "# Take a subset of the data for PCA and drop missing values because PCA cannot\n",
    "# handle them. We could also impute, but missingness is quite low so dropping\n",
    "# missing rows is unlikely to create bias.\n",
    "df_pca = prop_crime.drop(['Property\\ncrime' ], axis=1)\n",
    "\n",
    "# Normalize the data so that all variables have a mean of 0 and standard deviation\n",
    "# of 1.\n",
    "X_pca = StandardScaler().fit_transform(df_pca)"
   ]
  },
  {
   "cell_type": "code",
   "execution_count": 134,
   "metadata": {},
   "outputs": [
    {
     "name": "stdout",
     "output_type": "stream",
     "text": [
      "The percentage of total variance in the dataset explained by each component from Sklearn PCA.\n",
      " [0.608 0.153 0.109 0.082 0.033 0.01  0.005 0.    0.    0.    0.   ]\n"
     ]
    }
   ],
   "source": [
    "sklearn_pca = PCA(n_components = len(df_pca.columns) )\n",
    "Y_sklearn = sklearn_pca.fit_transform(X_pca)\n",
    "\n",
    "print(\n",
    "    'The percentage of total variance in the dataset explained by each',\n",
    "    'component from Sklearn PCA.\\n',\n",
    "    np.round(sklearn_pca.explained_variance_ratio_,3)\n",
    ")"
   ]
  },
  {
   "cell_type": "markdown",
   "metadata": {},
   "source": [
    "### The first 3 components explain 87%(=61+15+11) of the variation of the initial features!\n",
    "\n",
    "Below we'll see which one should be kept or not."
   ]
  },
  {
   "cell_type": "code",
   "execution_count": 135,
   "metadata": {},
   "outputs": [
    {
     "data": {
      "text/plain": [
       "array([6.71240462e+00, 1.68404672e+00, 1.20397408e+00, 9.02131880e-01,\n",
       "       3.64387605e-01, 1.09121167e-01, 5.23851477e-02, 3.61875740e-03,\n",
       "       5.05190030e-32, 2.24987785e-32, 9.40647900e-33])"
      ]
     },
     "execution_count": 135,
     "metadata": {},
     "output_type": "execute_result"
    }
   ],
   "source": [
    "# What are the numbers of the eigenvalues?\n",
    "pca = PCA()\n",
    "eigenvalues = sklearn_pca.explained_variance_\n",
    "eigenvalues"
   ]
  },
  {
   "cell_type": "markdown",
   "metadata": {},
   "source": [
    "Upon visual inspection, the analyst will keep all the components whose eigenvalue falls above the point where the slope of the line changes the most drastically, also called the \"elbow\":"
   ]
  },
  {
   "cell_type": "code",
   "execution_count": 136,
   "metadata": {},
   "outputs": [
    {
     "data": {
      "image/png": "[encoded data removed]",
      "text/plain": [
       "<matplotlib.figure.Figure at 0x1974c22bc18>"
      ]
     },
     "metadata": {},
     "output_type": "display_data"
    }
   ],
   "source": [
    "plt.plot(eigenvalues)\n",
    "plt.show()"
   ]
  },
  {
   "cell_type": "markdown",
   "metadata": {},
   "source": [
    "* We should keep the first 3 components because they are greater than 1 and both are where the elbow has the slope with the biggest dramatic change. "
   ]
  },
  {
   "cell_type": "code",
   "execution_count": 221,
   "metadata": {
    "scrolled": true
   },
   "outputs": [
    {
     "data": {
      "text/html": [
       "<div>\n",
       "<style scoped>\n",
       "    .dataframe tbody tr th:only-of-type {\n",
       "        vertical-align: middle;\n",
       "    }\n",
       "\n",
       "    .dataframe tbody tr th {\n",
       "        vertical-align: top;\n",
       "    }\n",
       "\n",
       "    .dataframe thead th {\n",
       "        text-align: right;\n",
       "    }\n",
       "</style>\n",
       "<table border=\"1\" class=\"dataframe\">\n",
       "  <thead>\n",
       "    <tr style=\"text-align: right;\">\n",
       "      <th></th>\n",
       "      <th>principal_component_1</th>\n",
       "      <th>principal_component_2</th>\n",
       "      <th>principal_component_3</th>\n",
       "    </tr>\n",
       "  </thead>\n",
       "  <tbody>\n",
       "    <tr>\n",
       "      <th>0</th>\n",
       "      <td>19.693899</td>\n",
       "      <td>11.488816</td>\n",
       "      <td>4.108164</td>\n",
       "    </tr>\n",
       "    <tr>\n",
       "      <th>1</th>\n",
       "      <td>7.033386</td>\n",
       "      <td>-0.548467</td>\n",
       "      <td>-1.044295</td>\n",
       "    </tr>\n",
       "    <tr>\n",
       "      <th>2</th>\n",
       "      <td>13.355427</td>\n",
       "      <td>5.992658</td>\n",
       "      <td>1.463562</td>\n",
       "    </tr>\n",
       "    <tr>\n",
       "      <th>3</th>\n",
       "      <td>5.574381</td>\n",
       "      <td>0.403527</td>\n",
       "      <td>2.629377</td>\n",
       "    </tr>\n",
       "    <tr>\n",
       "      <th>4</th>\n",
       "      <td>4.835542</td>\n",
       "      <td>-1.841025</td>\n",
       "      <td>-1.982030</td>\n",
       "    </tr>\n",
       "    <tr>\n",
       "      <th>5</th>\n",
       "      <td>3.837635</td>\n",
       "      <td>-0.961253</td>\n",
       "      <td>1.899934</td>\n",
       "    </tr>\n",
       "    <tr>\n",
       "      <th>6</th>\n",
       "      <td>4.350131</td>\n",
       "      <td>-0.289852</td>\n",
       "      <td>2.070165</td>\n",
       "    </tr>\n",
       "    <tr>\n",
       "      <th>7</th>\n",
       "      <td>5.656495</td>\n",
       "      <td>0.623093</td>\n",
       "      <td>2.708415</td>\n",
       "    </tr>\n",
       "    <tr>\n",
       "      <th>8</th>\n",
       "      <td>3.254767</td>\n",
       "      <td>1.315629</td>\n",
       "      <td>0.872811</td>\n",
       "    </tr>\n",
       "    <tr>\n",
       "      <th>9</th>\n",
       "      <td>8.367411</td>\n",
       "      <td>2.055122</td>\n",
       "      <td>-0.625560</td>\n",
       "    </tr>\n",
       "    <tr>\n",
       "      <th>10</th>\n",
       "      <td>10.536537</td>\n",
       "      <td>3.951064</td>\n",
       "      <td>0.377629</td>\n",
       "    </tr>\n",
       "    <tr>\n",
       "      <th>11</th>\n",
       "      <td>8.303346</td>\n",
       "      <td>1.601495</td>\n",
       "      <td>-0.485886</td>\n",
       "    </tr>\n",
       "    <tr>\n",
       "      <th>12</th>\n",
       "      <td>5.307216</td>\n",
       "      <td>-1.082373</td>\n",
       "      <td>-1.726193</td>\n",
       "    </tr>\n",
       "    <tr>\n",
       "      <th>13</th>\n",
       "      <td>4.888061</td>\n",
       "      <td>-1.613157</td>\n",
       "      <td>-1.882425</td>\n",
       "    </tr>\n",
       "    <tr>\n",
       "      <th>14</th>\n",
       "      <td>6.727858</td>\n",
       "      <td>0.627246</td>\n",
       "      <td>-1.261293</td>\n",
       "    </tr>\n",
       "    <tr>\n",
       "      <th>15</th>\n",
       "      <td>5.184238</td>\n",
       "      <td>-1.214676</td>\n",
       "      <td>-1.721241</td>\n",
       "    </tr>\n",
       "    <tr>\n",
       "      <th>16</th>\n",
       "      <td>2.965235</td>\n",
       "      <td>-1.217274</td>\n",
       "      <td>1.584219</td>\n",
       "    </tr>\n",
       "    <tr>\n",
       "      <th>17</th>\n",
       "      <td>7.883421</td>\n",
       "      <td>1.577732</td>\n",
       "      <td>-0.652312</td>\n",
       "    </tr>\n",
       "    <tr>\n",
       "      <th>18</th>\n",
       "      <td>10.366538</td>\n",
       "      <td>3.996865</td>\n",
       "      <td>0.328580</td>\n",
       "    </tr>\n",
       "    <tr>\n",
       "      <th>19</th>\n",
       "      <td>7.485998</td>\n",
       "      <td>1.015159</td>\n",
       "      <td>-0.760313</td>\n",
       "    </tr>\n",
       "    <tr>\n",
       "      <th>20</th>\n",
       "      <td>4.490592</td>\n",
       "      <td>-1.829019</td>\n",
       "      <td>-2.007594</td>\n",
       "    </tr>\n",
       "    <tr>\n",
       "      <th>21</th>\n",
       "      <td>4.317342</td>\n",
       "      <td>-1.887018</td>\n",
       "      <td>-2.088794</td>\n",
       "    </tr>\n",
       "    <tr>\n",
       "      <th>22</th>\n",
       "      <td>3.935098</td>\n",
       "      <td>-2.184728</td>\n",
       "      <td>-2.281790</td>\n",
       "    </tr>\n",
       "    <tr>\n",
       "      <th>23</th>\n",
       "      <td>4.592894</td>\n",
       "      <td>-1.770832</td>\n",
       "      <td>-1.953877</td>\n",
       "    </tr>\n",
       "    <tr>\n",
       "      <th>24</th>\n",
       "      <td>0.701353</td>\n",
       "      <td>-0.647206</td>\n",
       "      <td>1.501482</td>\n",
       "    </tr>\n",
       "    <tr>\n",
       "      <th>25</th>\n",
       "      <td>3.263683</td>\n",
       "      <td>-0.737269</td>\n",
       "      <td>1.665849</td>\n",
       "    </tr>\n",
       "    <tr>\n",
       "      <th>26</th>\n",
       "      <td>1.907937</td>\n",
       "      <td>-1.913754</td>\n",
       "      <td>1.111239</td>\n",
       "    </tr>\n",
       "    <tr>\n",
       "      <th>27</th>\n",
       "      <td>2.186986</td>\n",
       "      <td>-1.606854</td>\n",
       "      <td>1.220166</td>\n",
       "    </tr>\n",
       "    <tr>\n",
       "      <th>28</th>\n",
       "      <td>3.966625</td>\n",
       "      <td>-2.103437</td>\n",
       "      <td>-2.224076</td>\n",
       "    </tr>\n",
       "    <tr>\n",
       "      <th>29</th>\n",
       "      <td>-0.635434</td>\n",
       "      <td>1.103692</td>\n",
       "      <td>0.119902</td>\n",
       "    </tr>\n",
       "    <tr>\n",
       "      <th>...</th>\n",
       "      <td>...</td>\n",
       "      <td>...</td>\n",
       "      <td>...</td>\n",
       "    </tr>\n",
       "    <tr>\n",
       "      <th>314</th>\n",
       "      <td>-1.614594</td>\n",
       "      <td>0.682556</td>\n",
       "      <td>-0.242126</td>\n",
       "    </tr>\n",
       "    <tr>\n",
       "      <th>315</th>\n",
       "      <td>-1.688341</td>\n",
       "      <td>0.620575</td>\n",
       "      <td>-0.274586</td>\n",
       "    </tr>\n",
       "    <tr>\n",
       "      <th>316</th>\n",
       "      <td>-1.668568</td>\n",
       "      <td>0.638052</td>\n",
       "      <td>-0.264810</td>\n",
       "    </tr>\n",
       "    <tr>\n",
       "      <th>317</th>\n",
       "      <td>-1.689497</td>\n",
       "      <td>0.620320</td>\n",
       "      <td>-0.274956</td>\n",
       "    </tr>\n",
       "    <tr>\n",
       "      <th>318</th>\n",
       "      <td>-1.666230</td>\n",
       "      <td>0.632802</td>\n",
       "      <td>-0.263551</td>\n",
       "    </tr>\n",
       "    <tr>\n",
       "      <th>319</th>\n",
       "      <td>-1.688250</td>\n",
       "      <td>0.622464</td>\n",
       "      <td>-0.274152</td>\n",
       "    </tr>\n",
       "    <tr>\n",
       "      <th>320</th>\n",
       "      <td>-1.692736</td>\n",
       "      <td>0.619604</td>\n",
       "      <td>-0.275992</td>\n",
       "    </tr>\n",
       "    <tr>\n",
       "      <th>321</th>\n",
       "      <td>-1.670020</td>\n",
       "      <td>0.639170</td>\n",
       "      <td>-0.266527</td>\n",
       "    </tr>\n",
       "    <tr>\n",
       "      <th>322</th>\n",
       "      <td>-1.676399</td>\n",
       "      <td>0.632986</td>\n",
       "      <td>-0.269144</td>\n",
       "    </tr>\n",
       "    <tr>\n",
       "      <th>323</th>\n",
       "      <td>-1.679158</td>\n",
       "      <td>0.629185</td>\n",
       "      <td>-0.269305</td>\n",
       "    </tr>\n",
       "    <tr>\n",
       "      <th>324</th>\n",
       "      <td>-1.682643</td>\n",
       "      <td>0.627467</td>\n",
       "      <td>-0.270931</td>\n",
       "    </tr>\n",
       "    <tr>\n",
       "      <th>325</th>\n",
       "      <td>-1.662850</td>\n",
       "      <td>0.648352</td>\n",
       "      <td>-0.262360</td>\n",
       "    </tr>\n",
       "    <tr>\n",
       "      <th>326</th>\n",
       "      <td>-1.684622</td>\n",
       "      <td>0.629038</td>\n",
       "      <td>-0.272924</td>\n",
       "    </tr>\n",
       "    <tr>\n",
       "      <th>327</th>\n",
       "      <td>-1.695591</td>\n",
       "      <td>0.618974</td>\n",
       "      <td>-0.276904</td>\n",
       "    </tr>\n",
       "    <tr>\n",
       "      <th>328</th>\n",
       "      <td>-1.660012</td>\n",
       "      <td>0.651887</td>\n",
       "      <td>-0.262959</td>\n",
       "    </tr>\n",
       "    <tr>\n",
       "      <th>329</th>\n",
       "      <td>-1.689724</td>\n",
       "      <td>0.622639</td>\n",
       "      <td>-0.273749</td>\n",
       "    </tr>\n",
       "    <tr>\n",
       "      <th>330</th>\n",
       "      <td>-1.688772</td>\n",
       "      <td>0.625640</td>\n",
       "      <td>-0.273146</td>\n",
       "    </tr>\n",
       "    <tr>\n",
       "      <th>331</th>\n",
       "      <td>-1.643039</td>\n",
       "      <td>0.652271</td>\n",
       "      <td>-0.250805</td>\n",
       "    </tr>\n",
       "    <tr>\n",
       "      <th>332</th>\n",
       "      <td>-1.697929</td>\n",
       "      <td>0.618695</td>\n",
       "      <td>-0.277524</td>\n",
       "    </tr>\n",
       "    <tr>\n",
       "      <th>333</th>\n",
       "      <td>-1.685456</td>\n",
       "      <td>0.632592</td>\n",
       "      <td>-0.272381</td>\n",
       "    </tr>\n",
       "    <tr>\n",
       "      <th>334</th>\n",
       "      <td>-1.692654</td>\n",
       "      <td>0.623151</td>\n",
       "      <td>-0.274665</td>\n",
       "    </tr>\n",
       "    <tr>\n",
       "      <th>335</th>\n",
       "      <td>-1.697692</td>\n",
       "      <td>0.619458</td>\n",
       "      <td>-0.277064</td>\n",
       "    </tr>\n",
       "    <tr>\n",
       "      <th>336</th>\n",
       "      <td>-1.648310</td>\n",
       "      <td>0.660112</td>\n",
       "      <td>-0.253067</td>\n",
       "    </tr>\n",
       "    <tr>\n",
       "      <th>337</th>\n",
       "      <td>-1.702631</td>\n",
       "      <td>0.617420</td>\n",
       "      <td>-0.279155</td>\n",
       "    </tr>\n",
       "    <tr>\n",
       "      <th>338</th>\n",
       "      <td>-1.620087</td>\n",
       "      <td>0.702906</td>\n",
       "      <td>-0.246852</td>\n",
       "    </tr>\n",
       "    <tr>\n",
       "      <th>339</th>\n",
       "      <td>-1.703034</td>\n",
       "      <td>0.617805</td>\n",
       "      <td>-0.279028</td>\n",
       "    </tr>\n",
       "    <tr>\n",
       "      <th>340</th>\n",
       "      <td>-1.704855</td>\n",
       "      <td>0.617403</td>\n",
       "      <td>-0.279610</td>\n",
       "    </tr>\n",
       "    <tr>\n",
       "      <th>341</th>\n",
       "      <td>-1.697103</td>\n",
       "      <td>0.622642</td>\n",
       "      <td>-0.275831</td>\n",
       "    </tr>\n",
       "    <tr>\n",
       "      <th>342</th>\n",
       "      <td>-1.707132</td>\n",
       "      <td>0.616426</td>\n",
       "      <td>-0.280594</td>\n",
       "    </tr>\n",
       "    <tr>\n",
       "      <th>343</th>\n",
       "      <td>-1.704881</td>\n",
       "      <td>0.618108</td>\n",
       "      <td>-0.279235</td>\n",
       "    </tr>\n",
       "  </tbody>\n",
       "</table>\n",
       "<p>344 rows × 3 columns</p>\n",
       "</div>"
      ],
      "text/plain": [
       "     principal_component_1  principal_component_2  principal_component_3\n",
       "0                19.693899              11.488816               4.108164\n",
       "1                 7.033386              -0.548467              -1.044295\n",
       "2                13.355427               5.992658               1.463562\n",
       "3                 5.574381               0.403527               2.629377\n",
       "4                 4.835542              -1.841025              -1.982030\n",
       "5                 3.837635              -0.961253               1.899934\n",
       "6                 4.350131              -0.289852               2.070165\n",
       "7                 5.656495               0.623093               2.708415\n",
       "8                 3.254767               1.315629               0.872811\n",
       "9                 8.367411               2.055122              -0.625560\n",
       "10               10.536537               3.951064               0.377629\n",
       "11                8.303346               1.601495              -0.485886\n",
       "12                5.307216              -1.082373              -1.726193\n",
       "13                4.888061              -1.613157              -1.882425\n",
       "14                6.727858               0.627246              -1.261293\n",
       "15                5.184238              -1.214676              -1.721241\n",
       "16                2.965235              -1.217274               1.584219\n",
       "17                7.883421               1.577732              -0.652312\n",
       "18               10.366538               3.996865               0.328580\n",
       "19                7.485998               1.015159              -0.760313\n",
       "20                4.490592              -1.829019              -2.007594\n",
       "21                4.317342              -1.887018              -2.088794\n",
       "22                3.935098              -2.184728              -2.281790\n",
       "23                4.592894              -1.770832              -1.953877\n",
       "24                0.701353              -0.647206               1.501482\n",
       "25                3.263683              -0.737269               1.665849\n",
       "26                1.907937              -1.913754               1.111239\n",
       "27                2.186986              -1.606854               1.220166\n",
       "28                3.966625              -2.103437              -2.224076\n",
       "29               -0.635434               1.103692               0.119902\n",
       "..                     ...                    ...                    ...\n",
       "314              -1.614594               0.682556              -0.242126\n",
       "315              -1.688341               0.620575              -0.274586\n",
       "316              -1.668568               0.638052              -0.264810\n",
       "317              -1.689497               0.620320              -0.274956\n",
       "318              -1.666230               0.632802              -0.263551\n",
       "319              -1.688250               0.622464              -0.274152\n",
       "320              -1.692736               0.619604              -0.275992\n",
       "321              -1.670020               0.639170              -0.266527\n",
       "322              -1.676399               0.632986              -0.269144\n",
       "323              -1.679158               0.629185              -0.269305\n",
       "324              -1.682643               0.627467              -0.270931\n",
       "325              -1.662850               0.648352              -0.262360\n",
       "326              -1.684622               0.629038              -0.272924\n",
       "327              -1.695591               0.618974              -0.276904\n",
       "328              -1.660012               0.651887              -0.262959\n",
       "329              -1.689724               0.622639              -0.273749\n",
       "330              -1.688772               0.625640              -0.273146\n",
       "331              -1.643039               0.652271              -0.250805\n",
       "332              -1.697929               0.618695              -0.277524\n",
       "333              -1.685456               0.632592              -0.272381\n",
       "334              -1.692654               0.623151              -0.274665\n",
       "335              -1.697692               0.619458              -0.277064\n",
       "336              -1.648310               0.660112              -0.253067\n",
       "337              -1.702631               0.617420              -0.279155\n",
       "338              -1.620087               0.702906              -0.246852\n",
       "339              -1.703034               0.617805              -0.279028\n",
       "340              -1.704855               0.617403              -0.279610\n",
       "341              -1.697103               0.622642              -0.275831\n",
       "342              -1.707132               0.616426              -0.280594\n",
       "343              -1.704881               0.618108              -0.279235\n",
       "\n",
       "[344 rows x 3 columns]"
      ]
     },
     "execution_count": 221,
     "metadata": {},
     "output_type": "execute_result"
    }
   ],
   "source": [
    "principalDf = pd.DataFrame(data = Y_sklearn[:,0:3]\n",
    "             , columns = ['principal_component_1', 'principal_component_2','principal_component_3'])\n",
    "principalDf#.head()"
   ]
  },
  {
   "cell_type": "markdown",
   "metadata": {},
   "source": [
    "Before concatenating with 'Property crime' we should reset the index for the data to remain in the correct order. Otherwise b/c the concat is performed by matching the index, 'Property crime' would be shuffeled."
   ]
  },
  {
   "cell_type": "code",
   "execution_count": 222,
   "metadata": {},
   "outputs": [],
   "source": [
    "prop_crime3=prop_crime['Property\\ncrime'].reset_index(drop=True)"
   ]
  },
  {
   "cell_type": "code",
   "execution_count": 223,
   "metadata": {},
   "outputs": [],
   "source": [
    "principalDf = pd.concat((principalDf , prop_crime3),axis=1)"
   ]
  },
  {
   "cell_type": "code",
   "execution_count": 224,
   "metadata": {},
   "outputs": [
    {
     "data": {
      "text/plain": [
       "310    6473\n",
       "7      2118\n",
       "3      4090\n",
       "126    2303\n",
       "267     567\n",
       "Name: Property\\ncrime, dtype: int64"
      ]
     },
     "execution_count": 224,
     "metadata": {},
     "output_type": "execute_result"
    }
   ],
   "source": [
    "prop_crime['Property\\ncrime'].head()"
   ]
  },
  {
   "cell_type": "code",
   "execution_count": 186,
   "metadata": {
    "scrolled": true
   },
   "outputs": [
    {
     "data": {
      "text/html": [
       "<div>\n",
       "<style scoped>\n",
       "    .dataframe tbody tr th:only-of-type {\n",
       "        vertical-align: middle;\n",
       "    }\n",
       "\n",
       "    .dataframe tbody tr th {\n",
       "        vertical-align: top;\n",
       "    }\n",
       "\n",
       "    .dataframe thead th {\n",
       "        text-align: right;\n",
       "    }\n",
       "</style>\n",
       "<table border=\"1\" class=\"dataframe\">\n",
       "  <thead>\n",
       "    <tr style=\"text-align: right;\">\n",
       "      <th></th>\n",
       "      <th>principal_component_1</th>\n",
       "      <th>principal_component_2</th>\n",
       "      <th>principal_component_3</th>\n",
       "      <th>Property\n",
       "crime</th>\n",
       "    </tr>\n",
       "  </thead>\n",
       "  <tbody>\n",
       "    <tr>\n",
       "      <th>0</th>\n",
       "      <td>19.693899</td>\n",
       "      <td>11.488816</td>\n",
       "      <td>4.108164</td>\n",
       "      <td>6473</td>\n",
       "    </tr>\n",
       "    <tr>\n",
       "      <th>1</th>\n",
       "      <td>7.033386</td>\n",
       "      <td>-0.548467</td>\n",
       "      <td>-1.044295</td>\n",
       "      <td>2118</td>\n",
       "    </tr>\n",
       "    <tr>\n",
       "      <th>2</th>\n",
       "      <td>13.355427</td>\n",
       "      <td>5.992658</td>\n",
       "      <td>1.463562</td>\n",
       "      <td>4090</td>\n",
       "    </tr>\n",
       "    <tr>\n",
       "      <th>3</th>\n",
       "      <td>5.574381</td>\n",
       "      <td>0.403527</td>\n",
       "      <td>2.629377</td>\n",
       "      <td>2303</td>\n",
       "    </tr>\n",
       "    <tr>\n",
       "      <th>4</th>\n",
       "      <td>4.835542</td>\n",
       "      <td>-1.841025</td>\n",
       "      <td>-1.982030</td>\n",
       "      <td>567</td>\n",
       "    </tr>\n",
       "  </tbody>\n",
       "</table>\n",
       "</div>"
      ],
      "text/plain": [
       "   principal_component_1  principal_component_2  principal_component_3  \\\n",
       "0              19.693899              11.488816               4.108164   \n",
       "1               7.033386              -0.548467              -1.044295   \n",
       "2              13.355427               5.992658               1.463562   \n",
       "3               5.574381               0.403527               2.629377   \n",
       "4               4.835542              -1.841025              -1.982030   \n",
       "\n",
       "   Property\\ncrime  \n",
       "0             6473  \n",
       "1             2118  \n",
       "2             4090  \n",
       "3             2303  \n",
       "4              567  "
      ]
     },
     "execution_count": 186,
     "metadata": {},
     "output_type": "execute_result"
    }
   ],
   "source": [
    "principalDf.head()"
   ]
  },
  {
   "cell_type": "code",
   "execution_count": 187,
   "metadata": {},
   "outputs": [
    {
     "data": {
      "text/plain": [
       "Index(['principal_component_1', 'principal_component_2',\n",
       "       'principal_component_3'],\n",
       "      dtype='object')"
      ]
     },
     "execution_count": 187,
     "metadata": {},
     "output_type": "execute_result"
    }
   ],
   "source": [
    "X_pca_col = principalDf.columns.drop(['Property\\ncrime' ])\n",
    "X_pca_col"
   ]
  },
  {
   "cell_type": "code",
   "execution_count": 188,
   "metadata": {},
   "outputs": [],
   "source": [
    "principalDf = principalDf.fillna(0)\n",
    "\n",
    "Y_pca2 = principalDf['Property\\ncrime'].values.reshape(-1, 1)\n",
    "X_pca2 = principalDf[X_pca_col]"
   ]
  },
  {
   "cell_type": "code",
   "execution_count": 189,
   "metadata": {},
   "outputs": [
    {
     "name": "stdout",
     "output_type": "stream",
     "text": [
      "\n",
      "Coefficients: \n",
      " [[210.67506598 137.23050656 102.61735579]]\n",
      "\n",
      "Intercept: \n",
      " [316.70348837]\n",
      "\n",
      "R-squared:\n",
      "0.941811058691623\n"
     ]
    }
   ],
   "source": [
    "# Instantiate and fit our model using the initial y_ols.\n",
    "regr2 = linear_model.LinearRegression()\n",
    "\n",
    "regr2.fit(X_pca2, Y_pca2)\n",
    "\n",
    "# Inspect the results.\n",
    "print('\\nCoefficients: \\n', regr2.coef_)\n",
    "print('\\nIntercept: \\n', regr2.intercept_)\n",
    "print('\\nR-squared:')\n",
    "print(regr2.score(X_pca2, Y_pca2))"
   ]
  },
  {
   "cell_type": "code",
   "execution_count": 173,
   "metadata": {},
   "outputs": [],
   "source": [
    "#y_ols"
   ]
  },
  {
   "cell_type": "markdown",
   "metadata": {},
   "source": [
    "### The result is a bit lower than the initial one, which had more concern of overfitting."
   ]
  },
  {
   "cell_type": "code",
   "execution_count": 174,
   "metadata": {},
   "outputs": [
    {
     "data": {
      "image/png": "[encoded data removed]",
      "text/plain": [
       "<matplotlib.figure.Figure at 0x1974c9561d0>"
      ]
     },
     "metadata": {},
     "output_type": "display_data"
    }
   ],
   "source": [
    "# Extract predicted values.\n",
    "predicted = regr2.predict(X_pca2).ravel()\n",
    "actual = prop_crime['Property\\ncrime']\n",
    "\n",
    "# Calculate the error, also called the residual.\n",
    "residual = actual - predicted\n",
    "\n",
    "# This looks a bit concerning.\n",
    "plt.hist(residual)\n",
    "plt.title('Residual counts')\n",
    "plt.xlabel('Residual')\n",
    "plt.ylabel('Count')\n",
    "plt.show()"
   ]
  },
  {
   "cell_type": "code",
   "execution_count": 175,
   "metadata": {},
   "outputs": [
    {
     "data": {
      "image/png": "[encoded data removed]",
      "text/plain": [
       "<matplotlib.figure.Figure at 0x1974c9737b8>"
      ]
     },
     "metadata": {},
     "output_type": "display_data"
    }
   ],
   "source": [
    "plt.scatter(predicted, residual)\n",
    "plt.xlabel('Predicted')\n",
    "plt.ylabel('Residual')\n",
    "plt.axhline(y=0)\n",
    "plt.title('Residual vs. Predicted')\n",
    "plt.show()\n",
    "\n",
    "# ?"
   ]
  },
  {
   "cell_type": "markdown",
   "metadata": {},
   "source": [
    "## Evaluating Linear regression models"
   ]
  },
  {
   "cell_type": "code",
   "execution_count": 194,
   "metadata": {},
   "outputs": [],
   "source": [
    "principalDf['Property_crime'] = principalDf['Property\\ncrime']"
   ]
  },
  {
   "cell_type": "code",
   "execution_count": 195,
   "metadata": {},
   "outputs": [
    {
     "data": {
      "text/plain": [
       "Index(['principal_component_1', 'principal_component_2',\n",
       "       'principal_component_3', 'Property\\ncrime', 'Property_crime'],\n",
       "      dtype='object')"
      ]
     },
     "execution_count": 195,
     "metadata": {},
     "output_type": "execute_result"
    }
   ],
   "source": [
    "principalDf.columns"
   ]
  },
  {
   "cell_type": "code",
   "execution_count": 180,
   "metadata": {},
   "outputs": [],
   "source": [
    "import statsmodels.formula.api as smf\n",
    "from statsmodels.sandbox.regression.predstd import wls_prediction_std\n"
   ]
  },
  {
   "cell_type": "code",
   "execution_count": 196,
   "metadata": {},
   "outputs": [],
   "source": [
    "# Write out the model formula.\n",
    "# Your dependent variable on the right, independent variables on the left\n",
    "# Use a ~ to represent an '=' from the functional form\n",
    "#linear_formula = '\\'Property\\ncrime\\' ~ \\'principal component 1\\'+ \\'principal component 2\\'+  \\'principal component 3\\''\n",
    "linear_formula = 'Property_crime ~ principal_component_1+ principal_component_2+  principal_component_3'\n",
    "\n",
    "# Fit the model to our data using the formula.\n",
    "lm = smf.ols(formula=linear_formula, data=principalDf).fit()"
   ]
  },
  {
   "cell_type": "markdown",
   "metadata": {},
   "source": [
    "Let's look at the coefficients of our model."
   ]
  },
  {
   "cell_type": "code",
   "execution_count": 197,
   "metadata": {},
   "outputs": [
    {
     "data": {
      "text/plain": [
       "Intercept                316.703488\n",
       "principal_component_1    210.675066\n",
       "principal_component_2    137.230507\n",
       "principal_component_3    102.617356\n",
       "dtype: float64"
      ]
     },
     "execution_count": 197,
     "metadata": {},
     "output_type": "execute_result"
    }
   ],
   "source": [
    "lm.params"
   ]
  },
  {
   "cell_type": "markdown",
   "metadata": {},
   "source": [
    "And at the p-values as a significance test for each of the coefficients."
   ]
  },
  {
   "cell_type": "code",
   "execution_count": 198,
   "metadata": {},
   "outputs": [
    {
     "data": {
      "text/plain": [
       "Intercept                2.838389e-131\n",
       "principal_component_1    1.954380e-202\n",
       "principal_component_2     1.289465e-69\n",
       "principal_component_3     1.485059e-36\n",
       "dtype: float64"
      ]
     },
     "execution_count": 198,
     "metadata": {},
     "output_type": "execute_result"
    }
   ],
   "source": [
    "lm.pvalues"
   ]
  },
  {
   "cell_type": "markdown",
   "metadata": {},
   "source": [
    "Finally, here's our $R^2$:"
   ]
  },
  {
   "cell_type": "code",
   "execution_count": 199,
   "metadata": {},
   "outputs": [
    {
     "data": {
      "text/plain": [
       "0.941811058691623"
      ]
     },
     "execution_count": 199,
     "metadata": {},
     "output_type": "execute_result"
    }
   ],
   "source": [
    "lm.rsquared"
   ]
  },
  {
   "cell_type": "markdown",
   "metadata": {},
   "source": [
    "## Dimensionality Reduction in Linear Regression"
   ]
  },
  {
   "cell_type": "code",
   "execution_count": 230,
   "metadata": {},
   "outputs": [],
   "source": [
    "from sklearn.cross_decomposition import PLSRegression\n",
    "\n",
    "X_pca_col = prop_crime.columns.drop(['Property\\ncrime' ])\n",
    "X_pca_col\n",
    "\n",
    "Y_pca2 = prop_crime['Property\\ncrime'].values.reshape(-1, 1)\n",
    "X_pca2 = prop_crime[X_pca_col]"
   ]
  },
  {
   "cell_type": "code",
   "execution_count": 231,
   "metadata": {},
   "outputs": [
    {
     "name": "stdout",
     "output_type": "stream",
     "text": [
      "R-squared regression: 0.999872576556937\n",
      "R-squared PLSR: 0.9772827032888864\n"
     ]
    },
    {
     "data": {
      "image/png": "[encoded data removed]",
      "text/plain": [
       "<matplotlib.figure.Figure at 0x1974ba641d0>"
      ]
     },
     "metadata": {},
     "output_type": "display_data"
    }
   ],
   "source": [
    "# Fit a linear model with all 10 features.\n",
    "regr3 = linear_model.LinearRegression()\n",
    "regr3.fit(X_pca2, Y_pca2)\n",
    "\n",
    "# Save predicted values.\n",
    "Y_pred = regr3.predict(X_pca2)\n",
    "print('R-squared regression:', regr3.score(X_pca2, Y_pca2))\n",
    "\n",
    "# Fit a linear model using Partial Least Squares Regression.\n",
    "# Reduce feature space to 3 dimensions.\n",
    "pls1 = PLSRegression(n_components=3)\n",
    "\n",
    "# Reduce X to R(X) and regress on y.\n",
    "pls1.fit(X_pca2, Y_pca2)\n",
    "\n",
    "# Save predicted values.\n",
    "Y_PLS_pred = pls1.predict(X_pca2)\n",
    "print('R-squared PLSR:', pls1.score(X_pca2, Y_pca2))\n",
    "\n",
    "# Compare the predictions of the two models\n",
    "plt.scatter(Y_pred,Y_PLS_pred) \n",
    "plt.xlabel('Predicted by original 10 features')\n",
    "plt.ylabel('Predicted by 3 features')\n",
    "plt.title('Comparing LR and PLSR predictions')\n",
    "plt.show()"
   ]
  },
  {
   "cell_type": "code",
   "execution_count": null,
   "metadata": {},
   "outputs": [],
   "source": []
  },
  {
   "cell_type": "code",
   "execution_count": null,
   "metadata": {},
   "outputs": [],
   "source": []
  },
  {
   "cell_type": "markdown",
   "metadata": {},
   "source": [
    "## KNN regression after PCA:"
   ]
  },
  {
   "cell_type": "code",
   "execution_count": null,
   "metadata": {},
   "outputs": [],
   "source": [
    "X_pca_col = principalDf.columns.drop(['Property\\ncrime' ])\n",
    "X_pca_col"
   ]
  },
  {
   "cell_type": "code",
   "execution_count": null,
   "metadata": {},
   "outputs": [],
   "source": [
    "Y_pca2 = principalDf['Property\\ncrime'].values.reshape(-1, 1)\n",
    "X_pca2 = "
   ]
  },
  {
   "cell_type": "code",
   "execution_count": 162,
   "metadata": {},
   "outputs": [
    {
     "name": "stdout",
     "output_type": "stream",
     "text": [
      "(275, 3) (275, 1)\n",
      "(69, 3) (69, 1)\n"
     ]
    }
   ],
   "source": [
    "\n",
    "# Prepare the data:\n",
    "X = principalDf[X_pca_col]\n",
    "y = principalDf['Property\\ncrime'].values.reshape(-1, 1)\n",
    "\n",
    "#---------------------\n",
    "\n",
    "\n",
    "# split into train and test\n",
    "X_train, X_test, y_train, y_test = train_test_split(X, y, test_size=0.2, random_state=20)\n",
    "\n",
    "print (X_train.shape, y_train.shape)\n",
    "print (X_test.shape, y_test.shape)\n",
    "#---------------------\n",
    "from scipy.stats import zscore\n",
    "\n",
    "X_train = X_train.apply(zscore)\n",
    "X_test = X_test.apply(zscore)\n",
    "\n",
    "#---------------------\n",
    "\n",
    "# Build our model.\n",
    "knn_pca = neighbors.KNeighborsRegressor(n_neighbors=10 , weights='distance' )\n",
    "#---------------------\n",
    "# fitting the model\n",
    "knn_pca.fit(X_train, y_train)\n",
    "\n",
    "# predict the response\n",
    "y_pred =  knn_pca.predict(X_test)\n",
    "#---------------------\n",
    "\n",
    "\n",
    "\n"
   ]
  },
  {
   "cell_type": "code",
   "execution_count": 163,
   "metadata": {},
   "outputs": [
    {
     "data": {
      "text/plain": [
       "array([[4.25395993e+02],\n",
       "       [6.59050411e+00],\n",
       "       [4.74458827e+02],\n",
       "       [8.96934995e+02],\n",
       "       [6.99259459e-01]])"
      ]
     },
     "execution_count": 163,
     "metadata": {},
     "output_type": "execute_result"
    }
   ],
   "source": [
    "y_pred[0:5]\n",
    "#---------------------"
   ]
  },
  {
   "cell_type": "code",
   "execution_count": 164,
   "metadata": {},
   "outputs": [
    {
     "data": {
      "text/plain": [
       "Text(0,0.5,'Predictions')"
      ]
     },
     "execution_count": 164,
     "metadata": {},
     "output_type": "execute_result"
    },
    {
     "data": {
      "image/png": "[encoded data removed]",
      "text/plain": [
       "<matplotlib.figure.Figure at 0x1974c8f1d30>"
      ]
     },
     "metadata": {},
     "output_type": "display_data"
    }
   ],
   "source": [
    "## The line / model\n",
    "plt.scatter(y_test, y_pred)\n",
    "plt.xlabel('True Values')\n",
    "plt.ylabel('Predictions')"
   ]
  },
  {
   "cell_type": "code",
   "execution_count": 165,
   "metadata": {},
   "outputs": [
    {
     "data": {
      "text/plain": [
       "array([0.64348501, 0.94314462, 0.8467737 , 0.84925275, 0.75608594,\n",
       "       0.71828424, 0.96939768, 0.9004064 , 0.73147003, 0.92906331])"
      ]
     },
     "execution_count": 165,
     "metadata": {},
     "output_type": "execute_result"
    }
   ],
   "source": [
    "# CROSS VALIDATION:\n",
    "from sklearn.model_selection import cross_val_score\n",
    "cross_val_score(knn_pca, X_train , y_train , cv=10)\n",
    "\n"
   ]
  },
  {
   "cell_type": "code",
   "execution_count": 167,
   "metadata": {},
   "outputs": [
    {
     "name": "stdout",
     "output_type": "stream",
     "text": [
      "Weighted Accuracy: 0.83 (+/- 0.21)\n"
     ]
    }
   ],
   "source": [
    "score_w = cross_val_score(knn_pca, X_train, y_train , cv=10)\n",
    "print(\"Weighted Accuracy: %0.2f (+/- %0.2f)\" % (score_w.mean(), score_w.std() * 2))\n"
   ]
  },
  {
   "cell_type": "markdown",
   "metadata": {},
   "source": [
    "### The Knn after PCA gives the same result as the KNN without it. \n",
    "\n",
    "Linear regression gives a higher percentage after PCA ?"
   ]
  }
 ],
 "metadata": {
  "anaconda-cloud": {},
  "kernelspec": {
   "display_name": "Python [conda root]",
   "language": "python",
   "name": "conda-root-py"
  },
  "language_info": {
   "codemirror_mode": {
    "name": "ipython",
    "version": 3
   },
   "file_extension": ".py",
   "mimetype": "text/x-python",
   "name": "python",
   "nbconvert_exporter": "python",
   "pygments_lexer": "ipython3",
   "version": "3.5.4"
  },
  "latex_envs": {
   "LaTeX_envs_menu_present": false,
   "autocomplete": true,
   "bibliofile": "biblio.bib",
   "cite_by": "apalike",
   "current_citInitial": 1,
   "eqLabelWithNumbers": true,
   "eqNumInitial": 1,
   "hotkeys": {
    "equation": "Ctrl-E",
    "itemize": "Ctrl-I"
   },
   "labels_anchors": false,
   "latex_user_defs": false,
   "report_style_numbering": false,
   "user_envs_cfg": false
  }
 },
 "nbformat": 4,
 "nbformat_minor": 2
}
