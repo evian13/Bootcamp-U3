{
 "cells": [
  {
   "cell_type": "markdown",
   "metadata": {},
   "source": [
    "Now that you've learned about random forests and decision trees let's do an exercise in accuracy. You know that random forests are basically a collection of decision trees. But how do the accuracies of the two models compare?\n",
    "\n",
    "So here's what you should do. Pick a dataset. It could be one you've worked with before or it could be a new one. Then build the best decision tree you can.\n",
    "\n",
    "Now try to match that with the simplest random forest you can. For our purposes measure simplicity with runtime. Compare that to the runtime of the decision tree. This is imperfect but just go with it.\n",
    "\n",
    "Hopefully out of this you'll see the power of random forests, but also their potential costs. Remember, in the real world you won't necessarily be dealing with thousands of rows. It could be millions, billions, or even more."
   ]
  },
  {
   "cell_type": "code",
   "execution_count": 1,
   "metadata": {},
   "outputs": [],
   "source": [
    "import numpy as np\n",
    "import pandas as pd\n",
    "import matplotlib.pyplot as plt\n",
    "%matplotlib inline"
   ]
  },
  {
   "cell_type": "code",
   "execution_count": 60,
   "metadata": {},
   "outputs": [],
   "source": [
    "# We import the data from csv file:\n",
    "df = pd.read_csv('think capstone1_slim.csv' ,encoding ='latin1')\n"
   ]
  },
  {
   "cell_type": "code",
   "execution_count": 61,
   "metadata": {},
   "outputs": [
    {
     "data": {
      "text/html": [
       "<div>\n",
       "<style scoped>\n",
       "    .dataframe tbody tr th:only-of-type {\n",
       "        vertical-align: middle;\n",
       "    }\n",
       "\n",
       "    .dataframe tbody tr th {\n",
       "        vertical-align: top;\n",
       "    }\n",
       "\n",
       "    .dataframe thead th {\n",
       "        text-align: right;\n",
       "    }\n",
       "</style>\n",
       "<table border=\"1\" class=\"dataframe\">\n",
       "  <thead>\n",
       "    <tr style=\"text-align: right;\">\n",
       "      <th></th>\n",
       "      <th>YYYY_MM</th>\n",
       "      <th>IdProduct</th>\n",
       "      <th>Product_Name</th>\n",
       "      <th>Manufacturer_Name</th>\n",
       "      <th>Product Classification</th>\n",
       "      <th>IdLocation</th>\n",
       "      <th>Drugstore_Name</th>\n",
       "      <th>Total_Sales</th>\n",
       "      <th>No_of_transactions</th>\n",
       "      <th>No_of_medical_prescriptions</th>\n",
       "      <th>Units_Sold</th>\n",
       "      <th>Net_Profit</th>\n",
       "      <th>row_num_sales</th>\n",
       "      <th>row_num_profit</th>\n",
       "    </tr>\n",
       "  </thead>\n",
       "  <tbody>\n",
       "    <tr>\n",
       "      <th>0</th>\n",
       "      <td>2015-1</td>\n",
       "      <td>20177</td>\n",
       "      <td>Nut Seringa Ject 10 Ml Cu Ac</td>\n",
       "      <td>MINUT</td>\n",
       "      <td>_DispozitivMedicalMultiplu</td>\n",
       "      <td>3</td>\n",
       "      <td>Stad</td>\n",
       "      <td>45.73</td>\n",
       "      <td>15</td>\n",
       "      <td>0</td>\n",
       "      <td>86.0</td>\n",
       "      <td>18.07</td>\n",
       "      <td>2</td>\n",
       "      <td>3</td>\n",
       "    </tr>\n",
       "    <tr>\n",
       "      <th>1</th>\n",
       "      <td>2015-1</td>\n",
       "      <td>2130</td>\n",
       "      <td>Panthen Unguent 50 Mg /G X 100 G</td>\n",
       "      <td>BAYER SCHERING</td>\n",
       "      <td>Cosmetice</td>\n",
       "      <td>3</td>\n",
       "      <td>Stad</td>\n",
       "      <td>265.55</td>\n",
       "      <td>4</td>\n",
       "      <td>0</td>\n",
       "      <td>5.0</td>\n",
       "      <td>46.66</td>\n",
       "      <td>1</td>\n",
       "      <td>1</td>\n",
       "    </tr>\n",
       "    <tr>\n",
       "      <th>2</th>\n",
       "      <td>2015-1</td>\n",
       "      <td>18</td>\n",
       "      <td>Oderma Abc Derm Gel Spumant X 200 Ml</td>\n",
       "      <td>BIODERMA</td>\n",
       "      <td>Cosmetice</td>\n",
       "      <td>3</td>\n",
       "      <td>Stad</td>\n",
       "      <td>37.42</td>\n",
       "      <td>1</td>\n",
       "      <td>0</td>\n",
       "      <td>1.0</td>\n",
       "      <td>9.45</td>\n",
       "      <td>14</td>\n",
       "      <td>9</td>\n",
       "    </tr>\n",
       "    <tr>\n",
       "      <th>3</th>\n",
       "      <td>2015-1</td>\n",
       "      <td>20697</td>\n",
       "      <td>Ltene Tratament Pt Unghii</td>\n",
       "      <td>FOLTENE</td>\n",
       "      <td>Cosmetice</td>\n",
       "      <td>3</td>\n",
       "      <td>Stad</td>\n",
       "      <td>48.90</td>\n",
       "      <td>1</td>\n",
       "      <td>0</td>\n",
       "      <td>1.0</td>\n",
       "      <td>4.38</td>\n",
       "      <td>8</td>\n",
       "      <td>33</td>\n",
       "    </tr>\n",
       "    <tr>\n",
       "      <th>4</th>\n",
       "      <td>2015-1</td>\n",
       "      <td>25030</td>\n",
       "      <td>Nsiprod Tensiometru Pentru Brat</td>\n",
       "      <td>PANSIPROD</td>\n",
       "      <td>Dispozitive Medicale</td>\n",
       "      <td>3</td>\n",
       "      <td>Stad</td>\n",
       "      <td>408.16</td>\n",
       "      <td>2</td>\n",
       "      <td>0</td>\n",
       "      <td>2.0</td>\n",
       "      <td>96.13</td>\n",
       "      <td>1</td>\n",
       "      <td>2</td>\n",
       "    </tr>\n",
       "  </tbody>\n",
       "</table>\n",
       "</div>"
      ],
      "text/plain": [
       "  YYYY_MM  IdProduct                          Product_Name Manufacturer_Name  \\\n",
       "0  2015-1      20177          Nut Seringa Ject 10 Ml Cu Ac             MINUT   \n",
       "1  2015-1       2130      Panthen Unguent 50 Mg /G X 100 G    BAYER SCHERING   \n",
       "2  2015-1         18  Oderma Abc Derm Gel Spumant X 200 Ml          BIODERMA   \n",
       "3  2015-1      20697             Ltene Tratament Pt Unghii           FOLTENE   \n",
       "4  2015-1      25030       Nsiprod Tensiometru Pentru Brat         PANSIPROD   \n",
       "\n",
       "       Product Classification  IdLocation Drugstore_Name  Total_Sales  \\\n",
       "0  _DispozitivMedicalMultiplu           3           Stad        45.73   \n",
       "1                   Cosmetice           3           Stad       265.55   \n",
       "2                   Cosmetice           3           Stad        37.42   \n",
       "3                   Cosmetice           3           Stad        48.90   \n",
       "4        Dispozitive Medicale           3           Stad       408.16   \n",
       "\n",
       "   No_of_transactions  No_of_medical_prescriptions  Units_Sold  Net_Profit  \\\n",
       "0                  15                            0        86.0       18.07   \n",
       "1                   4                            0         5.0       46.66   \n",
       "2                   1                            0         1.0        9.45   \n",
       "3                   1                            0         1.0        4.38   \n",
       "4                   2                            0         2.0       96.13   \n",
       "\n",
       "   row_num_sales  row_num_profit  \n",
       "0              2               3  \n",
       "1              1               1  \n",
       "2             14               9  \n",
       "3              8              33  \n",
       "4              1               2  "
      ]
     },
     "execution_count": 61,
     "metadata": {},
     "output_type": "execute_result"
    }
   ],
   "source": [
    "# Get a feel for the data:\n",
    "df.head()"
   ]
  },
  {
   "cell_type": "code",
   "execution_count": 62,
   "metadata": {},
   "outputs": [],
   "source": [
    "df=df.drop(['IdProduct','row_num_sales','row_num_profit','IdLocation','No_of_transactions'] , axis=1)"
   ]
  },
  {
   "cell_type": "code",
   "execution_count": 63,
   "metadata": {},
   "outputs": [
    {
     "name": "stdout",
     "output_type": "stream",
     "text": [
      "<class 'pandas.core.frame.DataFrame'>\n",
      "RangeIndex: 1686 entries, 0 to 1685\n",
      "Data columns (total 9 columns):\n",
      "YYYY_MM                        1686 non-null object\n",
      "Product_Name                   1686 non-null object\n",
      "Manufacturer_Name              1686 non-null object\n",
      "Product Classification         1686 non-null object\n",
      "Drugstore_Name                 1686 non-null object\n",
      "Total_Sales                    1686 non-null float64\n",
      "No_of_medical_prescriptions    1686 non-null int64\n",
      "Units_Sold                     1686 non-null float64\n",
      "Net_Profit                     1686 non-null float64\n",
      "dtypes: float64(3), int64(1), object(5)\n",
      "memory usage: 118.6+ KB\n",
      "None\n"
     ]
    }
   ],
   "source": [
    "# What kind of data is in the dataframe?\n",
    "print(df.info())"
   ]
  },
  {
   "cell_type": "code",
   "execution_count": 64,
   "metadata": {},
   "outputs": [
    {
     "name": "stdout",
     "output_type": "stream",
     "text": [
      "Column name: YYYY_MM  \t\t/ Unique values: 3\n",
      "Column name: Product_Name  \t\t/ Unique values: 488\n",
      "Column name: Manufacturer_Name  \t\t/ Unique values: 132\n",
      "Column name: Product Classification  \t\t/ Unique values: 12\n",
      "Column name: Drugstore_Name  \t\t/ Unique values: 5\n"
     ]
    }
   ],
   "source": [
    "categorical = df.select_dtypes(include=['object'])\n",
    "for i in categorical:\n",
    "    column = categorical[i]\n",
    "    print('Column name:',i ,' \\t\\t/ Unique values:', column.nunique())"
   ]
  },
  {
   "cell_type": "code",
   "execution_count": 9,
   "metadata": {
    "scrolled": true
   },
   "outputs": [],
   "source": [
    "# Instead of using this `pd.get_dummies(df)` with decission trees/random forest algorithms,\n",
    "# I'll be better swithcing to 'Label Encoding'.\n",
    "# Label encoding is simply converting each value in a column to a number. "
   ]
  },
  {
   "cell_type": "code",
   "execution_count": 65,
   "metadata": {},
   "outputs": [],
   "source": [
    "pd.options.mode.chained_assignment = None  # default='warn'\n",
    "# The SettingWithCopyWarning was created to flag potentially confusing \"chained\" assignments, such as the following,\n",
    "# which don't always work as expected, particularly when the first selection returns a copy. \n",
    "\n",
    "# or: You can set the is_copy flag to False, which will effectively turn off the check, *for that object``\n",
    "# dfa.is_copy = False"
   ]
  },
  {
   "cell_type": "code",
   "execution_count": 66,
   "metadata": {
    "scrolled": true
   },
   "outputs": [
    {
     "data": {
      "text/html": [
       "<div>\n",
       "<style scoped>\n",
       "    .dataframe tbody tr th:only-of-type {\n",
       "        vertical-align: middle;\n",
       "    }\n",
       "\n",
       "    .dataframe tbody tr th {\n",
       "        vertical-align: top;\n",
       "    }\n",
       "\n",
       "    .dataframe thead th {\n",
       "        text-align: right;\n",
       "    }\n",
       "</style>\n",
       "<table border=\"1\" class=\"dataframe\">\n",
       "  <thead>\n",
       "    <tr style=\"text-align: right;\">\n",
       "      <th></th>\n",
       "      <th>YYYY_MM</th>\n",
       "      <th>Product_Name</th>\n",
       "      <th>Manufacturer_Name</th>\n",
       "      <th>Product Classification</th>\n",
       "      <th>Drugstore_Name</th>\n",
       "    </tr>\n",
       "  </thead>\n",
       "  <tbody>\n",
       "    <tr>\n",
       "      <th>0</th>\n",
       "      <td>2015-1</td>\n",
       "      <td>Nut Seringa Ject 10 Ml Cu Ac</td>\n",
       "      <td>MINUT</td>\n",
       "      <td>_DispozitivMedicalMultiplu</td>\n",
       "      <td>Stad</td>\n",
       "    </tr>\n",
       "    <tr>\n",
       "      <th>1</th>\n",
       "      <td>2015-1</td>\n",
       "      <td>Panthen Unguent 50 Mg /G X 100 G</td>\n",
       "      <td>BAYER SCHERING</td>\n",
       "      <td>Cosmetice</td>\n",
       "      <td>Stad</td>\n",
       "    </tr>\n",
       "    <tr>\n",
       "      <th>2</th>\n",
       "      <td>2015-1</td>\n",
       "      <td>Oderma Abc Derm Gel Spumant X 200 Ml</td>\n",
       "      <td>BIODERMA</td>\n",
       "      <td>Cosmetice</td>\n",
       "      <td>Stad</td>\n",
       "    </tr>\n",
       "    <tr>\n",
       "      <th>3</th>\n",
       "      <td>2015-1</td>\n",
       "      <td>Ltene Tratament Pt Unghii</td>\n",
       "      <td>FOLTENE</td>\n",
       "      <td>Cosmetice</td>\n",
       "      <td>Stad</td>\n",
       "    </tr>\n",
       "    <tr>\n",
       "      <th>4</th>\n",
       "      <td>2015-1</td>\n",
       "      <td>Nsiprod Tensiometru Pentru Brat</td>\n",
       "      <td>PANSIPROD</td>\n",
       "      <td>Dispozitive Medicale</td>\n",
       "      <td>Stad</td>\n",
       "    </tr>\n",
       "  </tbody>\n",
       "</table>\n",
       "</div>"
      ],
      "text/plain": [
       "  YYYY_MM                          Product_Name Manufacturer_Name  \\\n",
       "0  2015-1          Nut Seringa Ject 10 Ml Cu Ac             MINUT   \n",
       "1  2015-1      Panthen Unguent 50 Mg /G X 100 G    BAYER SCHERING   \n",
       "2  2015-1  Oderma Abc Derm Gel Spumant X 200 Ml          BIODERMA   \n",
       "3  2015-1             Ltene Tratament Pt Unghii           FOLTENE   \n",
       "4  2015-1       Nsiprod Tensiometru Pentru Brat         PANSIPROD   \n",
       "\n",
       "       Product Classification Drugstore_Name  \n",
       "0  _DispozitivMedicalMultiplu           Stad  \n",
       "1                   Cosmetice           Stad  \n",
       "2                   Cosmetice           Stad  \n",
       "3                   Cosmetice           Stad  \n",
       "4        Dispozitive Medicale           Stad  "
      ]
     },
     "execution_count": 66,
     "metadata": {},
     "output_type": "execute_result"
    }
   ],
   "source": [
    "categorical.head()"
   ]
  },
  {
   "cell_type": "code",
   "execution_count": 47,
   "metadata": {},
   "outputs": [],
   "source": [
    "# Here I tried to automatically create numerical columns from categorical ones, but no success in two hours:\n",
    "\n",
    "#for i in categorical:\n",
    "#    #for j in range(len(categorical.columns)):\n",
    "#    categorical[i] = categorical[i].astype('category').cat.codes\n",
    "#    #categorical.concat\n",
    "#categorical \n",
    "#\n",
    "#or\n",
    "#\n",
    "#for i, df in enumerate(categorical, 1):\n",
    "#    df.columns = [col_name+'_{}'.format(i) for col_name in df.columns]"
   ]
  },
  {
   "cell_type": "code",
   "execution_count": 67,
   "metadata": {
    "scrolled": true
   },
   "outputs": [],
   "source": [
    "# Change columns data types to 'category'. Couldn't do it automatically(see above):\n",
    "categorical['YYYY_MM'] = categorical['YYYY_MM'].astype('category')\n",
    "categorical['Product_Name'] = categorical['Product_Name'].astype('category')\n",
    "categorical['Manufacturer_Name'] = categorical['Manufacturer_Name'].astype('category')\n",
    "categorical['Product Classification'] = categorical['Product Classification'].astype('category')\n",
    "categorical['Drugstore_Name'] = categorical['Drugstore_Name'].astype('category')"
   ]
  },
  {
   "cell_type": "code",
   "execution_count": 68,
   "metadata": {},
   "outputs": [
    {
     "data": {
      "text/plain": [
       "YYYY_MM                   category\n",
       "Product_Name              category\n",
       "Manufacturer_Name         category\n",
       "Product Classification    category\n",
       "Drugstore_Name            category\n",
       "dtype: object"
      ]
     },
     "execution_count": 68,
     "metadata": {},
     "output_type": "execute_result"
    }
   ],
   "source": [
    "categorical.dtypes"
   ]
  },
  {
   "cell_type": "code",
   "execution_count": 70,
   "metadata": {},
   "outputs": [
    {
     "data": {
      "text/html": [
       "<div>\n",
       "<style scoped>\n",
       "    .dataframe tbody tr th:only-of-type {\n",
       "        vertical-align: middle;\n",
       "    }\n",
       "\n",
       "    .dataframe tbody tr th {\n",
       "        vertical-align: top;\n",
       "    }\n",
       "\n",
       "    .dataframe thead th {\n",
       "        text-align: right;\n",
       "    }\n",
       "</style>\n",
       "<table border=\"1\" class=\"dataframe\">\n",
       "  <thead>\n",
       "    <tr style=\"text-align: right;\">\n",
       "      <th></th>\n",
       "      <th>YYYY_MM</th>\n",
       "      <th>Product_Name</th>\n",
       "      <th>Manufacturer_Name</th>\n",
       "      <th>Product Classification</th>\n",
       "      <th>Drugstore_Name</th>\n",
       "    </tr>\n",
       "  </thead>\n",
       "  <tbody>\n",
       "    <tr>\n",
       "      <th>0</th>\n",
       "      <td>2015-1</td>\n",
       "      <td>Nut Seringa Ject 10 Ml Cu Ac</td>\n",
       "      <td>MINUT</td>\n",
       "      <td>_DispozitivMedicalMultiplu</td>\n",
       "      <td>Stad</td>\n",
       "    </tr>\n",
       "    <tr>\n",
       "      <th>1</th>\n",
       "      <td>2015-1</td>\n",
       "      <td>Panthen Unguent 50 Mg /G X 100 G</td>\n",
       "      <td>BAYER SCHERING</td>\n",
       "      <td>Cosmetice</td>\n",
       "      <td>Stad</td>\n",
       "    </tr>\n",
       "    <tr>\n",
       "      <th>2</th>\n",
       "      <td>2015-1</td>\n",
       "      <td>Oderma Abc Derm Gel Spumant X 200 Ml</td>\n",
       "      <td>BIODERMA</td>\n",
       "      <td>Cosmetice</td>\n",
       "      <td>Stad</td>\n",
       "    </tr>\n",
       "    <tr>\n",
       "      <th>3</th>\n",
       "      <td>2015-1</td>\n",
       "      <td>Ltene Tratament Pt Unghii</td>\n",
       "      <td>FOLTENE</td>\n",
       "      <td>Cosmetice</td>\n",
       "      <td>Stad</td>\n",
       "    </tr>\n",
       "    <tr>\n",
       "      <th>4</th>\n",
       "      <td>2015-1</td>\n",
       "      <td>Nsiprod Tensiometru Pentru Brat</td>\n",
       "      <td>PANSIPROD</td>\n",
       "      <td>Dispozitive Medicale</td>\n",
       "      <td>Stad</td>\n",
       "    </tr>\n",
       "  </tbody>\n",
       "</table>\n",
       "</div>"
      ],
      "text/plain": [
       "  YYYY_MM                          Product_Name Manufacturer_Name  \\\n",
       "0  2015-1          Nut Seringa Ject 10 Ml Cu Ac             MINUT   \n",
       "1  2015-1      Panthen Unguent 50 Mg /G X 100 G    BAYER SCHERING   \n",
       "2  2015-1  Oderma Abc Derm Gel Spumant X 200 Ml          BIODERMA   \n",
       "3  2015-1             Ltene Tratament Pt Unghii           FOLTENE   \n",
       "4  2015-1       Nsiprod Tensiometru Pentru Brat         PANSIPROD   \n",
       "\n",
       "       Product Classification Drugstore_Name  \n",
       "0  _DispozitivMedicalMultiplu           Stad  \n",
       "1                   Cosmetice           Stad  \n",
       "2                   Cosmetice           Stad  \n",
       "3                   Cosmetice           Stad  \n",
       "4        Dispozitive Medicale           Stad  "
      ]
     },
     "execution_count": 70,
     "metadata": {},
     "output_type": "execute_result"
    }
   ],
   "source": [
    "categorical.head()"
   ]
  },
  {
   "cell_type": "code",
   "execution_count": 76,
   "metadata": {},
   "outputs": [],
   "source": [
    "categorical[\"YYYY_MM_cat\"] = categorical[\"YYYY_MM\"].cat.codes\n",
    "categorical[\"Product_Name_cat\"] = categorical[\"Product_Name\"].cat.codes\n",
    "categorical[\"Manufacturer_Name_cat\"] = categorical[\"Manufacturer_Name\"].cat.codes\n",
    "categorical[\"Product_Classification_cat\"] = categorical[\"Product Classification\"].cat.codes\n",
    "categorical[\"Drugstore_Name_cat\"] = categorical[\"Drugstore_Name\"].cat.codes\n"
   ]
  },
  {
   "cell_type": "code",
   "execution_count": 78,
   "metadata": {
    "scrolled": false
   },
   "outputs": [
    {
     "data": {
      "text/html": [
       "<div>\n",
       "<style scoped>\n",
       "    .dataframe tbody tr th:only-of-type {\n",
       "        vertical-align: middle;\n",
       "    }\n",
       "\n",
       "    .dataframe tbody tr th {\n",
       "        vertical-align: top;\n",
       "    }\n",
       "\n",
       "    .dataframe thead th {\n",
       "        text-align: right;\n",
       "    }\n",
       "</style>\n",
       "<table border=\"1\" class=\"dataframe\">\n",
       "  <thead>\n",
       "    <tr style=\"text-align: right;\">\n",
       "      <th></th>\n",
       "      <th>YYYY_MM</th>\n",
       "      <th>Product_Name</th>\n",
       "      <th>Manufacturer_Name</th>\n",
       "      <th>Product Classification</th>\n",
       "      <th>Drugstore_Name</th>\n",
       "      <th>YYYY_MM_cat</th>\n",
       "      <th>Product_Name_cat</th>\n",
       "      <th>Manufacturer_Name_cat</th>\n",
       "      <th>Product_Classification_cat</th>\n",
       "      <th>Drugstore_Name_cat</th>\n",
       "    </tr>\n",
       "  </thead>\n",
       "  <tbody>\n",
       "    <tr>\n",
       "      <th>0</th>\n",
       "      <td>2015-1</td>\n",
       "      <td>Nut Seringa Ject 10 Ml Cu Ac</td>\n",
       "      <td>MINUT</td>\n",
       "      <td>_DispozitivMedicalMultiplu</td>\n",
       "      <td>Stad</td>\n",
       "      <td>0</td>\n",
       "      <td>270</td>\n",
       "      <td>80</td>\n",
       "      <td>11</td>\n",
       "      <td>4</td>\n",
       "    </tr>\n",
       "    <tr>\n",
       "      <th>1</th>\n",
       "      <td>2015-1</td>\n",
       "      <td>Panthen Unguent 50 Mg /G X 100 G</td>\n",
       "      <td>BAYER SCHERING</td>\n",
       "      <td>Cosmetice</td>\n",
       "      <td>Stad</td>\n",
       "      <td>0</td>\n",
       "      <td>344</td>\n",
       "      <td>18</td>\n",
       "      <td>2</td>\n",
       "      <td>4</td>\n",
       "    </tr>\n",
       "    <tr>\n",
       "      <th>2</th>\n",
       "      <td>2015-1</td>\n",
       "      <td>Oderma Abc Derm Gel Spumant X 200 Ml</td>\n",
       "      <td>BIODERMA</td>\n",
       "      <td>Cosmetice</td>\n",
       "      <td>Stad</td>\n",
       "      <td>0</td>\n",
       "      <td>297</td>\n",
       "      <td>23</td>\n",
       "      <td>2</td>\n",
       "      <td>4</td>\n",
       "    </tr>\n",
       "    <tr>\n",
       "      <th>3</th>\n",
       "      <td>2015-1</td>\n",
       "      <td>Ltene Tratament Pt Unghii</td>\n",
       "      <td>FOLTENE</td>\n",
       "      <td>Cosmetice</td>\n",
       "      <td>Stad</td>\n",
       "      <td>0</td>\n",
       "      <td>196</td>\n",
       "      <td>55</td>\n",
       "      <td>2</td>\n",
       "      <td>4</td>\n",
       "    </tr>\n",
       "    <tr>\n",
       "      <th>4</th>\n",
       "      <td>2015-1</td>\n",
       "      <td>Nsiprod Tensiometru Pentru Brat</td>\n",
       "      <td>PANSIPROD</td>\n",
       "      <td>Dispozitive Medicale</td>\n",
       "      <td>Stad</td>\n",
       "      <td>0</td>\n",
       "      <td>241</td>\n",
       "      <td>89</td>\n",
       "      <td>3</td>\n",
       "      <td>4</td>\n",
       "    </tr>\n",
       "  </tbody>\n",
       "</table>\n",
       "</div>"
      ],
      "text/plain": [
       "  YYYY_MM                          Product_Name Manufacturer_Name  \\\n",
       "0  2015-1          Nut Seringa Ject 10 Ml Cu Ac             MINUT   \n",
       "1  2015-1      Panthen Unguent 50 Mg /G X 100 G    BAYER SCHERING   \n",
       "2  2015-1  Oderma Abc Derm Gel Spumant X 200 Ml          BIODERMA   \n",
       "3  2015-1             Ltene Tratament Pt Unghii           FOLTENE   \n",
       "4  2015-1       Nsiprod Tensiometru Pentru Brat         PANSIPROD   \n",
       "\n",
       "       Product Classification Drugstore_Name  YYYY_MM_cat  Product_Name_cat  \\\n",
       "0  _DispozitivMedicalMultiplu           Stad            0               270   \n",
       "1                   Cosmetice           Stad            0               344   \n",
       "2                   Cosmetice           Stad            0               297   \n",
       "3                   Cosmetice           Stad            0               196   \n",
       "4        Dispozitive Medicale           Stad            0               241   \n",
       "\n",
       "   Manufacturer_Name_cat  Product_Classification_cat  Drugstore_Name_cat  \n",
       "0                     80                          11                   4  \n",
       "1                     18                           2                   4  \n",
       "2                     23                           2                   4  \n",
       "3                     55                           2                   4  \n",
       "4                     89                           3                   4  "
      ]
     },
     "execution_count": 78,
     "metadata": {},
     "output_type": "execute_result"
    }
   ],
   "source": [
    "categorical.head()"
   ]
  },
  {
   "cell_type": "code",
   "execution_count": 85,
   "metadata": {
    "scrolled": true
   },
   "outputs": [
    {
     "data": {
      "text/html": [
       "<div>\n",
       "<style scoped>\n",
       "    .dataframe tbody tr th:only-of-type {\n",
       "        vertical-align: middle;\n",
       "    }\n",
       "\n",
       "    .dataframe tbody tr th {\n",
       "        vertical-align: top;\n",
       "    }\n",
       "\n",
       "    .dataframe thead th {\n",
       "        text-align: right;\n",
       "    }\n",
       "</style>\n",
       "<table border=\"1\" class=\"dataframe\">\n",
       "  <thead>\n",
       "    <tr style=\"text-align: right;\">\n",
       "      <th></th>\n",
       "      <th>YYYY_MM_cat</th>\n",
       "      <th>Product_Name_cat</th>\n",
       "      <th>Manufacturer_Name_cat</th>\n",
       "      <th>Product_Classification_cat</th>\n",
       "      <th>Drugstore_Name_cat</th>\n",
       "    </tr>\n",
       "  </thead>\n",
       "  <tbody>\n",
       "    <tr>\n",
       "      <th>0</th>\n",
       "      <td>0</td>\n",
       "      <td>270</td>\n",
       "      <td>80</td>\n",
       "      <td>11</td>\n",
       "      <td>4</td>\n",
       "    </tr>\n",
       "    <tr>\n",
       "      <th>1</th>\n",
       "      <td>0</td>\n",
       "      <td>344</td>\n",
       "      <td>18</td>\n",
       "      <td>2</td>\n",
       "      <td>4</td>\n",
       "    </tr>\n",
       "    <tr>\n",
       "      <th>2</th>\n",
       "      <td>0</td>\n",
       "      <td>297</td>\n",
       "      <td>23</td>\n",
       "      <td>2</td>\n",
       "      <td>4</td>\n",
       "    </tr>\n",
       "    <tr>\n",
       "      <th>3</th>\n",
       "      <td>0</td>\n",
       "      <td>196</td>\n",
       "      <td>55</td>\n",
       "      <td>2</td>\n",
       "      <td>4</td>\n",
       "    </tr>\n",
       "    <tr>\n",
       "      <th>4</th>\n",
       "      <td>0</td>\n",
       "      <td>241</td>\n",
       "      <td>89</td>\n",
       "      <td>3</td>\n",
       "      <td>4</td>\n",
       "    </tr>\n",
       "  </tbody>\n",
       "</table>\n",
       "</div>"
      ],
      "text/plain": [
       "   YYYY_MM_cat  Product_Name_cat  Manufacturer_Name_cat  \\\n",
       "0            0               270                     80   \n",
       "1            0               344                     18   \n",
       "2            0               297                     23   \n",
       "3            0               196                     55   \n",
       "4            0               241                     89   \n",
       "\n",
       "   Product_Classification_cat  Drugstore_Name_cat  \n",
       "0                          11                   4  \n",
       "1                           2                   4  \n",
       "2                           2                   4  \n",
       "3                           2                   4  \n",
       "4                           3                   4  "
      ]
     },
     "execution_count": 85,
     "metadata": {},
     "output_type": "execute_result"
    }
   ],
   "source": [
    "categorical_cat = categorical.iloc[:,5:].copy()\n",
    "categorical_cat.head()"
   ]
  },
  {
   "cell_type": "code",
   "execution_count": 92,
   "metadata": {},
   "outputs": [],
   "source": [
    "# Extract the other numerical columns from the original data frame:\n",
    "df_vals = df.iloc[:,5:].copy()"
   ]
  },
  {
   "cell_type": "code",
   "execution_count": 97,
   "metadata": {
    "scrolled": true
   },
   "outputs": [
    {
     "data": {
      "text/html": [
       "<div>\n",
       "<style scoped>\n",
       "    .dataframe tbody tr th:only-of-type {\n",
       "        vertical-align: middle;\n",
       "    }\n",
       "\n",
       "    .dataframe tbody tr th {\n",
       "        vertical-align: top;\n",
       "    }\n",
       "\n",
       "    .dataframe thead th {\n",
       "        text-align: right;\n",
       "    }\n",
       "</style>\n",
       "<table border=\"1\" class=\"dataframe\">\n",
       "  <thead>\n",
       "    <tr style=\"text-align: right;\">\n",
       "      <th></th>\n",
       "      <th>Total_Sales</th>\n",
       "      <th>No_of_medical_prescriptions</th>\n",
       "      <th>Units_Sold</th>\n",
       "      <th>Net_Profit</th>\n",
       "      <th>YYYY_MM_cat</th>\n",
       "      <th>Product_Name_cat</th>\n",
       "      <th>Manufacturer_Name_cat</th>\n",
       "      <th>Product_Classification_cat</th>\n",
       "      <th>Drugstore_Name_cat</th>\n",
       "    </tr>\n",
       "  </thead>\n",
       "  <tbody>\n",
       "    <tr>\n",
       "      <th>0</th>\n",
       "      <td>45.73</td>\n",
       "      <td>0</td>\n",
       "      <td>86.0</td>\n",
       "      <td>18.07</td>\n",
       "      <td>0</td>\n",
       "      <td>270</td>\n",
       "      <td>80</td>\n",
       "      <td>11</td>\n",
       "      <td>4</td>\n",
       "    </tr>\n",
       "    <tr>\n",
       "      <th>1</th>\n",
       "      <td>265.55</td>\n",
       "      <td>0</td>\n",
       "      <td>5.0</td>\n",
       "      <td>46.66</td>\n",
       "      <td>0</td>\n",
       "      <td>344</td>\n",
       "      <td>18</td>\n",
       "      <td>2</td>\n",
       "      <td>4</td>\n",
       "    </tr>\n",
       "    <tr>\n",
       "      <th>2</th>\n",
       "      <td>37.42</td>\n",
       "      <td>0</td>\n",
       "      <td>1.0</td>\n",
       "      <td>9.45</td>\n",
       "      <td>0</td>\n",
       "      <td>297</td>\n",
       "      <td>23</td>\n",
       "      <td>2</td>\n",
       "      <td>4</td>\n",
       "    </tr>\n",
       "    <tr>\n",
       "      <th>3</th>\n",
       "      <td>48.90</td>\n",
       "      <td>0</td>\n",
       "      <td>1.0</td>\n",
       "      <td>4.38</td>\n",
       "      <td>0</td>\n",
       "      <td>196</td>\n",
       "      <td>55</td>\n",
       "      <td>2</td>\n",
       "      <td>4</td>\n",
       "    </tr>\n",
       "    <tr>\n",
       "      <th>4</th>\n",
       "      <td>408.16</td>\n",
       "      <td>0</td>\n",
       "      <td>2.0</td>\n",
       "      <td>96.13</td>\n",
       "      <td>0</td>\n",
       "      <td>241</td>\n",
       "      <td>89</td>\n",
       "      <td>3</td>\n",
       "      <td>4</td>\n",
       "    </tr>\n",
       "  </tbody>\n",
       "</table>\n",
       "</div>"
      ],
      "text/plain": [
       "   Total_Sales  No_of_medical_prescriptions  Units_Sold  Net_Profit  \\\n",
       "0        45.73                            0        86.0       18.07   \n",
       "1       265.55                            0         5.0       46.66   \n",
       "2        37.42                            0         1.0        9.45   \n",
       "3        48.90                            0         1.0        4.38   \n",
       "4       408.16                            0         2.0       96.13   \n",
       "\n",
       "   YYYY_MM_cat  Product_Name_cat  Manufacturer_Name_cat  \\\n",
       "0            0               270                     80   \n",
       "1            0               344                     18   \n",
       "2            0               297                     23   \n",
       "3            0               196                     55   \n",
       "4            0               241                     89   \n",
       "\n",
       "   Product_Classification_cat  Drugstore_Name_cat  \n",
       "0                          11                   4  \n",
       "1                           2                   4  \n",
       "2                           2                   4  \n",
       "3                           2                   4  \n",
       "4                           3                   4  "
      ]
     },
     "execution_count": 97,
     "metadata": {},
     "output_type": "execute_result"
    }
   ],
   "source": [
    "df_new = pd.concat([df_vals,categorical_cat], axis = 1 , ignore_index=False )\n",
    "df_new.head()"
   ]
  },
  {
   "cell_type": "code",
   "execution_count": null,
   "metadata": {},
   "outputs": [],
   "source": []
  },
  {
   "cell_type": "markdown",
   "metadata": {},
   "source": [
    "# Decision Tree:"
   ]
  },
  {
   "cell_type": "code",
   "execution_count": 99,
   "metadata": {},
   "outputs": [],
   "source": [
    "# This is the model we'll be using.\n",
    "from sklearn import tree"
   ]
  },
  {
   "cell_type": "code",
   "execution_count": 98,
   "metadata": {},
   "outputs": [],
   "source": [
    "X = df_new.drop('Net_Profit', axis=1)\n",
    "Y = df_new['Net_Profit']\n",
    "X = pd.get_dummies(X)\n",
    "X = X.dropna(axis=1)"
   ]
  },
  {
   "cell_type": "code",
   "execution_count": 100,
   "metadata": {},
   "outputs": [
    {
     "name": "stdout",
     "output_type": "stream",
     "text": [
      "(1348, 8) (1348,)\n",
      "(338, 8) (338,)\n"
     ]
    }
   ],
   "source": [
    "from sklearn.model_selection import train_test_split\n",
    "\n",
    "# split into train and test\n",
    "X_train, X_test, y_train, y_test = train_test_split(X, Y, test_size=0.2, random_state=20)\n",
    "\n",
    "print (X_train.shape, y_train.shape)\n",
    "print (X_test.shape, y_test.shape)\n"
   ]
  },
  {
   "cell_type": "code",
   "execution_count": 101,
   "metadata": {},
   "outputs": [
    {
     "name": "stdout",
     "output_type": "stream",
     "text": [
      "--- 0.007019996643066406 seconds ---\n"
     ]
    }
   ],
   "source": [
    "from sklearn.tree import DecisionTreeRegressor\n",
    "import numpy as np\n",
    "\n",
    "import time\n",
    "start_time = time.time()\n",
    "\n",
    "regressor = DecisionTreeRegressor()\n",
    "regressor.fit( X_train , y_train )\n",
    "\n",
    "print(\"--- %s seconds ---\" % (time.time() - start_time))"
   ]
  },
  {
   "cell_type": "code",
   "execution_count": 104,
   "metadata": {},
   "outputs": [
    {
     "data": {
      "text/plain": [
       "0.8532726946712592"
      ]
     },
     "execution_count": 104,
     "metadata": {},
     "output_type": "execute_result"
    }
   ],
   "source": [
    "# Calculate the coefficient of determination R2.\n",
    "# It provides a measure of how well future samples are likely to be predicted by the model:\n",
    "R2_val = regressor.score(X_test,y_test)\n",
    "R2_val"
   ]
  },
  {
   "cell_type": "markdown",
   "metadata": {},
   "source": [
    "### To make predictions on the test set, use the predict method:"
   ]
  },
  {
   "cell_type": "code",
   "execution_count": 105,
   "metadata": {
    "scrolled": false
   },
   "outputs": [],
   "source": [
    "y_pred = regressor.predict(X_test) \n"
   ]
  },
  {
   "cell_type": "code",
   "execution_count": 110,
   "metadata": {
    "scrolled": true
   },
   "outputs": [
    {
     "data": {
      "text/html": [
       "<div>\n",
       "<style scoped>\n",
       "    .dataframe tbody tr th:only-of-type {\n",
       "        vertical-align: middle;\n",
       "    }\n",
       "\n",
       "    .dataframe tbody tr th {\n",
       "        vertical-align: top;\n",
       "    }\n",
       "\n",
       "    .dataframe thead th {\n",
       "        text-align: right;\n",
       "    }\n",
       "</style>\n",
       "<table border=\"1\" class=\"dataframe\">\n",
       "  <thead>\n",
       "    <tr style=\"text-align: right;\">\n",
       "      <th></th>\n",
       "      <th>Actual</th>\n",
       "      <th>Predicted</th>\n",
       "    </tr>\n",
       "  </thead>\n",
       "  <tbody>\n",
       "    <tr>\n",
       "      <th>1566</th>\n",
       "      <td>555.20</td>\n",
       "      <td>445.74</td>\n",
       "    </tr>\n",
       "    <tr>\n",
       "      <th>1569</th>\n",
       "      <td>203.11</td>\n",
       "      <td>175.52</td>\n",
       "    </tr>\n",
       "    <tr>\n",
       "      <th>799</th>\n",
       "      <td>765.17</td>\n",
       "      <td>921.52</td>\n",
       "    </tr>\n",
       "    <tr>\n",
       "      <th>1040</th>\n",
       "      <td>744.33</td>\n",
       "      <td>736.18</td>\n",
       "    </tr>\n",
       "    <tr>\n",
       "      <th>307</th>\n",
       "      <td>79.39</td>\n",
       "      <td>70.71</td>\n",
       "    </tr>\n",
       "  </tbody>\n",
       "</table>\n",
       "</div>"
      ],
      "text/plain": [
       "      Actual  Predicted\n",
       "1566  555.20     445.74\n",
       "1569  203.11     175.52\n",
       "799   765.17     921.52\n",
       "1040  744.33     736.18\n",
       "307    79.39      70.71"
      ]
     },
     "execution_count": 110,
     "metadata": {},
     "output_type": "execute_result"
    }
   ],
   "source": [
    "# Now let's compare some of our predicted values with the actual values and see how accurate we were:\n",
    "df_compare=pd.DataFrame({'Actual':y_test, 'Predicted':y_pred})  \n",
    "df_compare.head()"
   ]
  },
  {
   "cell_type": "markdown",
   "metadata": {},
   "source": [
    "### Evaluating the Algorithm\n",
    "To evaluate performance of the regression algorithm, the commonly used metrics are \n",
    "- mean absolute error, \n",
    "- mean squared error, and \n",
    "- root mean squared error. "
   ]
  },
  {
   "cell_type": "code",
   "execution_count": 109,
   "metadata": {},
   "outputs": [],
   "source": [
    "?metrics.mean_absolute_error(y_test, y_pred)"
   ]
  },
  {
   "cell_type": "code",
   "execution_count": 107,
   "metadata": {
    "scrolled": true
   },
   "outputs": [
    {
     "name": "stdout",
     "output_type": "stream",
     "text": [
      "Mean Absolute Error: 50.03076923076924\n",
      "Mean Squared Error: 9798.550217159762\n",
      "Root Mean Squared Error: 98.9876265861535\n"
     ]
    }
   ],
   "source": [
    "from sklearn import metrics  \n",
    "print('Mean Absolute Error:', metrics.mean_absolute_error(y_test, y_pred))  \n",
    "print('Mean Squared Error:', metrics.mean_squared_error(y_test, y_pred))  \n",
    "print('Root Mean Squared Error:', np.sqrt(metrics.mean_squared_error(y_test, y_pred))) "
   ]
  },
  {
   "cell_type": "code",
   "execution_count": 108,
   "metadata": {},
   "outputs": [
    {
     "name": "stdout",
     "output_type": "stream",
     "text": [
      "Accuracy: 117.96 %.\n"
     ]
    }
   ],
   "source": [
    "# Calculate the absolute errors\n",
    "errors = abs(y_pred - y_test)\n",
    "\n",
    "# Calculate mean absolute percentage error (MAPE)\n",
    "mape = 100 * (errors / y_test)\n",
    "# Calculate and display accuracy\n",
    "accuracy = 100 - np.mean(mape)\n",
    "print('Accuracy:', round(accuracy, 2), '%.')"
   ]
  },
  {
   "cell_type": "markdown",
   "metadata": {},
   "source": [
    "### Overfitting ...?"
   ]
  },
  {
   "cell_type": "markdown",
   "metadata": {},
   "source": [
    "### Cross validation for Decision Tree:"
   ]
  },
  {
   "cell_type": "code",
   "execution_count": 111,
   "metadata": {},
   "outputs": [
    {
     "name": "stdout",
     "output_type": "stream",
     "text": [
      "[0.79480488 0.84541995 0.93577088 0.89879038 0.63119802 0.89535974\n",
      " 0.84290285 0.87340537 0.73077428 0.85909725]\n"
     ]
    }
   ],
   "source": [
    "from sklearn.model_selection import cross_val_score\n",
    "\n",
    "print(cross_val_score(regressor, X, Y, cv=10))"
   ]
  },
  {
   "cell_type": "code",
   "execution_count": null,
   "metadata": {},
   "outputs": [],
   "source": []
  },
  {
   "cell_type": "code",
   "execution_count": null,
   "metadata": {},
   "outputs": [],
   "source": []
  },
  {
   "cell_type": "code",
   "execution_count": null,
   "metadata": {},
   "outputs": [],
   "source": []
  },
  {
   "cell_type": "markdown",
   "metadata": {},
   "source": [
    "### Random Forest"
   ]
  },
  {
   "cell_type": "code",
   "execution_count": null,
   "metadata": {
    "collapsed": true
   },
   "outputs": [],
   "source": []
  },
  {
   "cell_type": "code",
   "execution_count": 113,
   "metadata": {},
   "outputs": [],
   "source": [
    "X = df_new.drop('Net_Profit', axis=1)\n",
    "Y = df_new['Net_Profit']\n",
    "X = pd.get_dummies(X)\n",
    "X = X.dropna(axis=1)"
   ]
  },
  {
   "cell_type": "code",
   "execution_count": 114,
   "metadata": {},
   "outputs": [
    {
     "name": "stdout",
     "output_type": "stream",
     "text": [
      "(1348, 8) (1348,)\n",
      "(338, 8) (338,)\n"
     ]
    }
   ],
   "source": [
    "from sklearn.model_selection import train_test_split\n",
    "\n",
    "# split into train and test\n",
    "X_train, X_test, y_train, y_test = train_test_split(X, Y, test_size=0.2, random_state=20)\n",
    "\n",
    "print (X_train.shape, y_train.shape)\n",
    "print (X_test.shape, y_test.shape)\n"
   ]
  },
  {
   "cell_type": "code",
   "execution_count": 170,
   "metadata": {},
   "outputs": [
    {
     "name": "stdout",
     "output_type": "stream",
     "text": [
      "--- 3.5257418155670166 seconds ---\n"
     ]
    }
   ],
   "source": [
    "# Import the model we are using\n",
    "from sklearn.ensemble import RandomForestRegressor\n",
    "\n",
    "import time\n",
    "start_time = time.time()\n",
    "\n",
    "# Instantiate model with 1000 decision trees\n",
    "rf = RandomForestRegressor(n_estimators = 1000, random_state = 42)\n",
    "\n",
    "# Train the model on training data\n",
    "rf.fit(X_train, y_train);\n",
    "\n",
    "print(\"--- %s seconds ---\" % (time.time() - start_time))"
   ]
  },
  {
   "cell_type": "code",
   "execution_count": 171,
   "metadata": {},
   "outputs": [
    {
     "data": {
      "text/plain": [
       "Index(['Total_Sales', 'No_of_medical_prescriptions', 'Units_Sold',\n",
       "       'YYYY_MM_cat', 'Product_Name_cat', 'Manufacturer_Name_cat',\n",
       "       'Product_Classification_cat', 'Drugstore_Name_cat'],\n",
       "      dtype='object')"
      ]
     },
     "execution_count": 171,
     "metadata": {},
     "output_type": "execute_result"
    }
   ],
   "source": [
    "col_names = X.columns\n",
    "col_names"
   ]
  },
  {
   "cell_type": "code",
   "execution_count": 173,
   "metadata": {},
   "outputs": [
    {
     "name": "stdout",
     "output_type": "stream",
     "text": [
      "Features sorted by their score:\n"
     ]
    },
    {
     "data": {
      "text/plain": [
       "[('YYYY_MM_cat', 0.0036),\n",
       " ('Units_Sold', 0.1169),\n",
       " ('Total_Sales', 0.6682),\n",
       " ('Product_Name_cat', 0.0494),\n",
       " ('Product_Classification_cat', 0.0219),\n",
       " ('No_of_medical_prescriptions', 0.0524),\n",
       " ('Manufacturer_Name_cat', 0.0781),\n",
       " ('Drugstore_Name_cat', 0.0095)]"
      ]
     },
     "execution_count": 173,
     "metadata": {},
     "output_type": "execute_result"
    }
   ],
   "source": [
    "print (\"Features sorted by their score:\")\n",
    "feat_importance = sorted(zip(col_names,map(lambda x: round(x, 4), rf.feature_importances_)), \n",
    "             reverse=True)\n",
    "\n",
    "feat_importance[0:10]"
   ]
  },
  {
   "cell_type": "code",
   "execution_count": 179,
   "metadata": {},
   "outputs": [
    {
     "data": {
      "text/html": [
       "<div>\n",
       "<style scoped>\n",
       "    .dataframe tbody tr th:only-of-type {\n",
       "        vertical-align: middle;\n",
       "    }\n",
       "\n",
       "    .dataframe tbody tr th {\n",
       "        vertical-align: top;\n",
       "    }\n",
       "\n",
       "    .dataframe thead th {\n",
       "        text-align: right;\n",
       "    }\n",
       "</style>\n",
       "<table border=\"1\" class=\"dataframe\">\n",
       "  <thead>\n",
       "    <tr style=\"text-align: right;\">\n",
       "      <th></th>\n",
       "      <th>importance</th>\n",
       "    </tr>\n",
       "    <tr>\n",
       "      <th>feature</th>\n",
       "      <th></th>\n",
       "    </tr>\n",
       "  </thead>\n",
       "  <tbody>\n",
       "    <tr>\n",
       "      <th>Total_Sales</th>\n",
       "      <td>0.6682</td>\n",
       "    </tr>\n",
       "    <tr>\n",
       "      <th>Units_Sold</th>\n",
       "      <td>0.1169</td>\n",
       "    </tr>\n",
       "    <tr>\n",
       "      <th>Manufacturer_Name_cat</th>\n",
       "      <td>0.0781</td>\n",
       "    </tr>\n",
       "    <tr>\n",
       "      <th>No_of_medical_prescriptions</th>\n",
       "      <td>0.0524</td>\n",
       "    </tr>\n",
       "    <tr>\n",
       "      <th>Product_Name_cat</th>\n",
       "      <td>0.0494</td>\n",
       "    </tr>\n",
       "    <tr>\n",
       "      <th>Product_Classification_cat</th>\n",
       "      <td>0.0219</td>\n",
       "    </tr>\n",
       "    <tr>\n",
       "      <th>Drugstore_Name_cat</th>\n",
       "      <td>0.0095</td>\n",
       "    </tr>\n",
       "    <tr>\n",
       "      <th>YYYY_MM_cat</th>\n",
       "      <td>0.0036</td>\n",
       "    </tr>\n",
       "  </tbody>\n",
       "</table>\n",
       "</div>"
      ],
      "text/plain": [
       "                             importance\n",
       "feature                                \n",
       "Total_Sales                      0.6682\n",
       "Units_Sold                       0.1169\n",
       "Manufacturer_Name_cat            0.0781\n",
       "No_of_medical_prescriptions      0.0524\n",
       "Product_Name_cat                 0.0494\n",
       "Product_Classification_cat       0.0219\n",
       "Drugstore_Name_cat               0.0095\n",
       "YYYY_MM_cat                      0.0036"
      ]
     },
     "execution_count": 179,
     "metadata": {},
     "output_type": "execute_result"
    }
   ],
   "source": [
    "feat_importance_df = pd.DataFrame(feat_importance, columns=['feature','importance'])\n",
    "feat_importance_df = feat_importance_df.sort_values('importance',ascending=False).set_index('feature')\n",
    "feat_importance_df"
   ]
  },
  {
   "cell_type": "code",
   "execution_count": 181,
   "metadata": {},
   "outputs": [
    {
     "data": {
      "image/png": "[encoded data removed]",
      "text/plain": [
       "<matplotlib.figure.Figure at 0x19d2bf6d0b8>"
      ]
     },
     "metadata": {},
     "output_type": "display_data"
    }
   ],
   "source": [
    "feat_importance_df.plot.bar()\n",
    "plt.show()"
   ]
  },
  {
   "cell_type": "markdown",
   "metadata": {},
   "source": [
    "### Make Predictions on the Test Set\n",
    "We compare the predictions to the known answers. When performing regression, we need to make sure to use the absolute error because we expect some of our answers to be low and some to be high. We are interested in how far away our average prediction is from the actual value so we take the absolute value"
   ]
  },
  {
   "cell_type": "code",
   "execution_count": 118,
   "metadata": {},
   "outputs": [
    {
     "name": "stdout",
     "output_type": "stream",
     "text": [
      "Mean Absolute Error: 39.45 Net_Profit\n"
     ]
    }
   ],
   "source": [
    "# Use the forest's predict method on the test data\n",
    "predictions = rf.predict(X_test)\n",
    "# Calculate the absolute errors\n",
    "errors = abs(predictions - y_test)\n",
    "# Print out the mean absolute error (mae)\n",
    "print('Mean Absolute Error:', round(np.mean(errors), 2 ), 'Net_Profit')"
   ]
  },
  {
   "cell_type": "code",
   "execution_count": 119,
   "metadata": {},
   "outputs": [
    {
     "data": {
      "text/plain": [
       "0.9159727618869723"
      ]
     },
     "execution_count": 119,
     "metadata": {},
     "output_type": "execute_result"
    }
   ],
   "source": [
    "# R2:\n",
    "rf.score(X_test , y_test)"
   ]
  },
  {
   "cell_type": "code",
   "execution_count": 120,
   "metadata": {
    "scrolled": true
   },
   "outputs": [
    {
     "data": {
      "text/html": [
       "<div>\n",
       "<style scoped>\n",
       "    .dataframe tbody tr th:only-of-type {\n",
       "        vertical-align: middle;\n",
       "    }\n",
       "\n",
       "    .dataframe tbody tr th {\n",
       "        vertical-align: top;\n",
       "    }\n",
       "\n",
       "    .dataframe thead th {\n",
       "        text-align: right;\n",
       "    }\n",
       "</style>\n",
       "<table border=\"1\" class=\"dataframe\">\n",
       "  <thead>\n",
       "    <tr style=\"text-align: right;\">\n",
       "      <th></th>\n",
       "      <th>Actual</th>\n",
       "      <th>Predicted</th>\n",
       "    </tr>\n",
       "  </thead>\n",
       "  <tbody>\n",
       "    <tr>\n",
       "      <th>1566</th>\n",
       "      <td>555.20</td>\n",
       "      <td>534.66929</td>\n",
       "    </tr>\n",
       "    <tr>\n",
       "      <th>1569</th>\n",
       "      <td>203.11</td>\n",
       "      <td>250.31308</td>\n",
       "    </tr>\n",
       "    <tr>\n",
       "      <th>799</th>\n",
       "      <td>765.17</td>\n",
       "      <td>696.79268</td>\n",
       "    </tr>\n",
       "    <tr>\n",
       "      <th>1040</th>\n",
       "      <td>744.33</td>\n",
       "      <td>636.84603</td>\n",
       "    </tr>\n",
       "    <tr>\n",
       "      <th>307</th>\n",
       "      <td>79.39</td>\n",
       "      <td>83.70818</td>\n",
       "    </tr>\n",
       "    <tr>\n",
       "      <th>975</th>\n",
       "      <td>1485.84</td>\n",
       "      <td>1211.47305</td>\n",
       "    </tr>\n",
       "    <tr>\n",
       "      <th>996</th>\n",
       "      <td>32.04</td>\n",
       "      <td>15.38007</td>\n",
       "    </tr>\n",
       "    <tr>\n",
       "      <th>544</th>\n",
       "      <td>276.66</td>\n",
       "      <td>297.76105</td>\n",
       "    </tr>\n",
       "    <tr>\n",
       "      <th>460</th>\n",
       "      <td>95.54</td>\n",
       "      <td>206.84434</td>\n",
       "    </tr>\n",
       "    <tr>\n",
       "      <th>1155</th>\n",
       "      <td>10.74</td>\n",
       "      <td>11.16494</td>\n",
       "    </tr>\n",
       "    <tr>\n",
       "      <th>391</th>\n",
       "      <td>5.29</td>\n",
       "      <td>-5.21962</td>\n",
       "    </tr>\n",
       "    <tr>\n",
       "      <th>1435</th>\n",
       "      <td>144.77</td>\n",
       "      <td>152.27657</td>\n",
       "    </tr>\n",
       "    <tr>\n",
       "      <th>482</th>\n",
       "      <td>704.13</td>\n",
       "      <td>571.29341</td>\n",
       "    </tr>\n",
       "    <tr>\n",
       "      <th>798</th>\n",
       "      <td>123.32</td>\n",
       "      <td>114.22915</td>\n",
       "    </tr>\n",
       "    <tr>\n",
       "      <th>128</th>\n",
       "      <td>240.94</td>\n",
       "      <td>261.40523</td>\n",
       "    </tr>\n",
       "    <tr>\n",
       "      <th>739</th>\n",
       "      <td>4.61</td>\n",
       "      <td>4.12177</td>\n",
       "    </tr>\n",
       "    <tr>\n",
       "      <th>1403</th>\n",
       "      <td>429.08</td>\n",
       "      <td>325.10653</td>\n",
       "    </tr>\n",
       "    <tr>\n",
       "      <th>1380</th>\n",
       "      <td>98.01</td>\n",
       "      <td>288.73071</td>\n",
       "    </tr>\n",
       "    <tr>\n",
       "      <th>1390</th>\n",
       "      <td>398.52</td>\n",
       "      <td>302.23453</td>\n",
       "    </tr>\n",
       "    <tr>\n",
       "      <th>487</th>\n",
       "      <td>72.99</td>\n",
       "      <td>133.66729</td>\n",
       "    </tr>\n",
       "    <tr>\n",
       "      <th>1417</th>\n",
       "      <td>184.19</td>\n",
       "      <td>204.50146</td>\n",
       "    </tr>\n",
       "    <tr>\n",
       "      <th>163</th>\n",
       "      <td>105.80</td>\n",
       "      <td>121.54400</td>\n",
       "    </tr>\n",
       "    <tr>\n",
       "      <th>1459</th>\n",
       "      <td>238.03</td>\n",
       "      <td>199.41748</td>\n",
       "    </tr>\n",
       "    <tr>\n",
       "      <th>993</th>\n",
       "      <td>279.14</td>\n",
       "      <td>274.76433</td>\n",
       "    </tr>\n",
       "    <tr>\n",
       "      <th>1044</th>\n",
       "      <td>3.86</td>\n",
       "      <td>4.47707</td>\n",
       "    </tr>\n",
       "    <tr>\n",
       "      <th>1194</th>\n",
       "      <td>397.25</td>\n",
       "      <td>560.07246</td>\n",
       "    </tr>\n",
       "    <tr>\n",
       "      <th>1502</th>\n",
       "      <td>409.50</td>\n",
       "      <td>546.79835</td>\n",
       "    </tr>\n",
       "    <tr>\n",
       "      <th>53</th>\n",
       "      <td>3.63</td>\n",
       "      <td>5.45505</td>\n",
       "    </tr>\n",
       "    <tr>\n",
       "      <th>1338</th>\n",
       "      <td>22.33</td>\n",
       "      <td>10.28316</td>\n",
       "    </tr>\n",
       "    <tr>\n",
       "      <th>9</th>\n",
       "      <td>34.51</td>\n",
       "      <td>27.15749</td>\n",
       "    </tr>\n",
       "    <tr>\n",
       "      <th>...</th>\n",
       "      <td>...</td>\n",
       "      <td>...</td>\n",
       "    </tr>\n",
       "    <tr>\n",
       "      <th>675</th>\n",
       "      <td>16.98</td>\n",
       "      <td>18.31090</td>\n",
       "    </tr>\n",
       "    <tr>\n",
       "      <th>269</th>\n",
       "      <td>129.16</td>\n",
       "      <td>119.83800</td>\n",
       "    </tr>\n",
       "    <tr>\n",
       "      <th>514</th>\n",
       "      <td>15.87</td>\n",
       "      <td>11.94764</td>\n",
       "    </tr>\n",
       "    <tr>\n",
       "      <th>1438</th>\n",
       "      <td>2.67</td>\n",
       "      <td>2.91819</td>\n",
       "    </tr>\n",
       "    <tr>\n",
       "      <th>321</th>\n",
       "      <td>7.44</td>\n",
       "      <td>5.58486</td>\n",
       "    </tr>\n",
       "    <tr>\n",
       "      <th>459</th>\n",
       "      <td>136.79</td>\n",
       "      <td>158.24559</td>\n",
       "    </tr>\n",
       "    <tr>\n",
       "      <th>427</th>\n",
       "      <td>44.46</td>\n",
       "      <td>37.12044</td>\n",
       "    </tr>\n",
       "    <tr>\n",
       "      <th>1050</th>\n",
       "      <td>146.24</td>\n",
       "      <td>137.73906</td>\n",
       "    </tr>\n",
       "    <tr>\n",
       "      <th>730</th>\n",
       "      <td>456.83</td>\n",
       "      <td>727.78119</td>\n",
       "    </tr>\n",
       "    <tr>\n",
       "      <th>1640</th>\n",
       "      <td>243.98</td>\n",
       "      <td>210.56193</td>\n",
       "    </tr>\n",
       "    <tr>\n",
       "      <th>1391</th>\n",
       "      <td>9.71</td>\n",
       "      <td>428.47613</td>\n",
       "    </tr>\n",
       "    <tr>\n",
       "      <th>214</th>\n",
       "      <td>272.20</td>\n",
       "      <td>157.10050</td>\n",
       "    </tr>\n",
       "    <tr>\n",
       "      <th>1330</th>\n",
       "      <td>-1.82</td>\n",
       "      <td>10.20813</td>\n",
       "    </tr>\n",
       "    <tr>\n",
       "      <th>36</th>\n",
       "      <td>84.18</td>\n",
       "      <td>57.45114</td>\n",
       "    </tr>\n",
       "    <tr>\n",
       "      <th>1599</th>\n",
       "      <td>10.05</td>\n",
       "      <td>11.34372</td>\n",
       "    </tr>\n",
       "    <tr>\n",
       "      <th>647</th>\n",
       "      <td>18.08</td>\n",
       "      <td>22.22331</td>\n",
       "    </tr>\n",
       "    <tr>\n",
       "      <th>495</th>\n",
       "      <td>1059.64</td>\n",
       "      <td>798.34203</td>\n",
       "    </tr>\n",
       "    <tr>\n",
       "      <th>888</th>\n",
       "      <td>704.27</td>\n",
       "      <td>605.11700</td>\n",
       "    </tr>\n",
       "    <tr>\n",
       "      <th>803</th>\n",
       "      <td>37.73</td>\n",
       "      <td>34.23917</td>\n",
       "    </tr>\n",
       "    <tr>\n",
       "      <th>1073</th>\n",
       "      <td>46.40</td>\n",
       "      <td>162.38263</td>\n",
       "    </tr>\n",
       "    <tr>\n",
       "      <th>345</th>\n",
       "      <td>90.59</td>\n",
       "      <td>92.82741</td>\n",
       "    </tr>\n",
       "    <tr>\n",
       "      <th>412</th>\n",
       "      <td>23.50</td>\n",
       "      <td>13.49165</td>\n",
       "    </tr>\n",
       "    <tr>\n",
       "      <th>693</th>\n",
       "      <td>3.61</td>\n",
       "      <td>4.36142</td>\n",
       "    </tr>\n",
       "    <tr>\n",
       "      <th>41</th>\n",
       "      <td>75.41</td>\n",
       "      <td>121.65062</td>\n",
       "    </tr>\n",
       "    <tr>\n",
       "      <th>407</th>\n",
       "      <td>541.54</td>\n",
       "      <td>417.50855</td>\n",
       "    </tr>\n",
       "    <tr>\n",
       "      <th>54</th>\n",
       "      <td>14.87</td>\n",
       "      <td>14.02094</td>\n",
       "    </tr>\n",
       "    <tr>\n",
       "      <th>858</th>\n",
       "      <td>524.08</td>\n",
       "      <td>517.50852</td>\n",
       "    </tr>\n",
       "    <tr>\n",
       "      <th>287</th>\n",
       "      <td>289.53</td>\n",
       "      <td>213.00803</td>\n",
       "    </tr>\n",
       "    <tr>\n",
       "      <th>424</th>\n",
       "      <td>10.59</td>\n",
       "      <td>10.96177</td>\n",
       "    </tr>\n",
       "    <tr>\n",
       "      <th>789</th>\n",
       "      <td>2.34</td>\n",
       "      <td>1.32685</td>\n",
       "    </tr>\n",
       "  </tbody>\n",
       "</table>\n",
       "<p>338 rows × 2 columns</p>\n",
       "</div>"
      ],
      "text/plain": [
       "       Actual   Predicted\n",
       "1566   555.20   534.66929\n",
       "1569   203.11   250.31308\n",
       "799    765.17   696.79268\n",
       "1040   744.33   636.84603\n",
       "307     79.39    83.70818\n",
       "975   1485.84  1211.47305\n",
       "996     32.04    15.38007\n",
       "544    276.66   297.76105\n",
       "460     95.54   206.84434\n",
       "1155    10.74    11.16494\n",
       "391      5.29    -5.21962\n",
       "1435   144.77   152.27657\n",
       "482    704.13   571.29341\n",
       "798    123.32   114.22915\n",
       "128    240.94   261.40523\n",
       "739      4.61     4.12177\n",
       "1403   429.08   325.10653\n",
       "1380    98.01   288.73071\n",
       "1390   398.52   302.23453\n",
       "487     72.99   133.66729\n",
       "1417   184.19   204.50146\n",
       "163    105.80   121.54400\n",
       "1459   238.03   199.41748\n",
       "993    279.14   274.76433\n",
       "1044     3.86     4.47707\n",
       "1194   397.25   560.07246\n",
       "1502   409.50   546.79835\n",
       "53       3.63     5.45505\n",
       "1338    22.33    10.28316\n",
       "9       34.51    27.15749\n",
       "...       ...         ...\n",
       "675     16.98    18.31090\n",
       "269    129.16   119.83800\n",
       "514     15.87    11.94764\n",
       "1438     2.67     2.91819\n",
       "321      7.44     5.58486\n",
       "459    136.79   158.24559\n",
       "427     44.46    37.12044\n",
       "1050   146.24   137.73906\n",
       "730    456.83   727.78119\n",
       "1640   243.98   210.56193\n",
       "1391     9.71   428.47613\n",
       "214    272.20   157.10050\n",
       "1330    -1.82    10.20813\n",
       "36      84.18    57.45114\n",
       "1599    10.05    11.34372\n",
       "647     18.08    22.22331\n",
       "495   1059.64   798.34203\n",
       "888    704.27   605.11700\n",
       "803     37.73    34.23917\n",
       "1073    46.40   162.38263\n",
       "345     90.59    92.82741\n",
       "412     23.50    13.49165\n",
       "693      3.61     4.36142\n",
       "41      75.41   121.65062\n",
       "407    541.54   417.50855\n",
       "54      14.87    14.02094\n",
       "858    524.08   517.50852\n",
       "287    289.53   213.00803\n",
       "424     10.59    10.96177\n",
       "789      2.34     1.32685\n",
       "\n",
       "[338 rows x 2 columns]"
      ]
     },
     "execution_count": 120,
     "metadata": {},
     "output_type": "execute_result"
    }
   ],
   "source": [
    "# Now let's compare some of our predicted values with the actual values and see how accurate we were:\n",
    "df_compare=pd.DataFrame({'Actual':y_test, 'Predicted':predictions})  \n",
    "df_compare"
   ]
  },
  {
   "cell_type": "markdown",
   "metadata": {},
   "source": [
    "### Determine Performance Metrics\n",
    "To put our predictions in perspective, we can calculate an accuracy using the mean average percentage error subtracted from 100 %."
   ]
  },
  {
   "cell_type": "code",
   "execution_count": 144,
   "metadata": {},
   "outputs": [
    {
     "name": "stdout",
     "output_type": "stream",
     "text": [
      "Accuracy: 304.7 %.\n"
     ]
    }
   ],
   "source": [
    "# Calculate mean absolute percentage error (MAPE)\n",
    "mape = 100 * (errors / y_test)\n",
    "# Calculate and display accuracy\n",
    "accuracy = 100 - np.mean(mape)\n",
    "print('Accuracy:', round(accuracy, 2), '%.')"
   ]
  },
  {
   "cell_type": "markdown",
   "metadata": {},
   "source": [
    "### You said that Accuracy should not be used,  isn't it?"
   ]
  },
  {
   "cell_type": "code",
   "execution_count": null,
   "metadata": {},
   "outputs": [],
   "source": []
  },
  {
   "cell_type": "code",
   "execution_count": null,
   "metadata": {},
   "outputs": [],
   "source": []
  },
  {
   "cell_type": "markdown",
   "metadata": {
    "collapsed": true
   },
   "source": [
    "### Cross Validation"
   ]
  },
  {
   "cell_type": "code",
   "execution_count": 146,
   "metadata": {
    "scrolled": true
   },
   "outputs": [
    {
     "name": "stdout",
     "output_type": "stream",
     "text": [
      "[0.856 0.91  0.922 0.928 0.906 0.908 0.931 0.889 0.807 0.887]\n",
      "--- 0.38703107833862305 seconds ---\n"
     ]
    }
   ],
   "source": [
    "\n",
    "from sklearn.model_selection import cross_val_score\n",
    "\n",
    "import time\n",
    "start_time = time.time()\n",
    "\n",
    "rf_regr = RandomForestRegressor(random_state = 42)\n",
    "X = df_new.drop('Net_Profit', axis=1)\n",
    "Y = df_new['Net_Profit']\n",
    "X = pd.get_dummies(X)\n",
    "X = X.dropna(axis=1)\n",
    "\n",
    "print(cross_val_score(rf_regr, X, Y, cv=10))\n",
    "\n",
    "\n",
    "print(\"--- %s seconds ---\" % (time.time() - start_time))"
   ]
  },
  {
   "cell_type": "code",
   "execution_count": null,
   "metadata": {},
   "outputs": [],
   "source": []
  },
  {
   "cell_type": "code",
   "execution_count": null,
   "metadata": {},
   "outputs": [],
   "source": []
  },
  {
   "cell_type": "code",
   "execution_count": null,
   "metadata": {},
   "outputs": [],
   "source": []
  },
  {
   "cell_type": "markdown",
   "metadata": {},
   "source": [
    "# Hyperparameter Tuning:\n",
    "\n",
    "While model parameters are learned during training — such as the slope and intercept in a linear regression — hyperparameters must be set by the data scientist before training."
   ]
  },
  {
   "cell_type": "code",
   "execution_count": 140,
   "metadata": {},
   "outputs": [
    {
     "name": "stdout",
     "output_type": "stream",
     "text": [
      "Parameters currently in use:\n",
      "\n",
      "{'bootstrap': True,\n",
      " 'criterion': 'mse',\n",
      " 'max_depth': None,\n",
      " 'max_features': 'auto',\n",
      " 'max_leaf_nodes': None,\n",
      " 'min_impurity_decrease': 0.0,\n",
      " 'min_impurity_split': None,\n",
      " 'min_samples_leaf': 1,\n",
      " 'min_samples_split': 2,\n",
      " 'min_weight_fraction_leaf': 0.0,\n",
      " 'n_estimators': 10,\n",
      " 'n_jobs': 1,\n",
      " 'oob_score': False,\n",
      " 'random_state': 42,\n",
      " 'verbose': 0,\n",
      " 'warm_start': False}\n"
     ]
    }
   ],
   "source": [
    "from pprint import pprint\n",
    "# Look at parameters used by our current forest\n",
    "print('Parameters currently in use:\\n')\n",
    "pprint(rf_regr.get_params())"
   ]
  },
  {
   "cell_type": "markdown",
   "metadata": {},
   "source": [
    "In the case of a random forest, the most important hyperparameters include:\n",
    "\n",
    "- the number of trees in the forest (n_estimators) and \n",
    "- the number of features considered for splitting at each leaf node (max_features).\n",
    "\n",
    "(The parameters of a random forest are the variables and thresholds used to split each node learned during training)."
   ]
  },
  {
   "cell_type": "markdown",
   "metadata": {},
   "source": [
    "Hyperparameter tuning relies more on experimental results than theory, and thus the best method to determine the optimal settings is to try many different combinations evaluate the performance of each model. \n",
    "\n",
    "However, evaluating each model only on the training set can lead to one of the most fundamental problems in machine learning: <b>overfitting<b/>.\n",
    "    \n",
    "     the standard procedure for hyperparameter optimization accounts for overfitting through cross validation."
   ]
  },
  {
   "cell_type": "code",
   "execution_count": null,
   "metadata": {},
   "outputs": [],
   "source": []
  },
  {
   "cell_type": "code",
   "execution_count": null,
   "metadata": {},
   "outputs": [],
   "source": []
  },
  {
   "cell_type": "markdown",
   "metadata": {},
   "source": [
    "## SelectKbest\n",
    "\n",
    "SelectKBest selects the top $k$ features that have maximum relevance with the target variable (they explain most of the variance). "
   ]
  },
  {
   "cell_type": "code",
   "execution_count": 148,
   "metadata": {},
   "outputs": [],
   "source": [
    "from sklearn.feature_selection import SelectKBest\n",
    "from sklearn.feature_selection import f_regression"
   ]
  },
  {
   "cell_type": "code",
   "execution_count": 124,
   "metadata": {
    "scrolled": true
   },
   "outputs": [
    {
     "name": "stdout",
     "output_type": "stream",
     "text": [
      "[1.627e+03 9.076e+02 1.032e+00 2.468e-02 3.080e-02 1.741e+00 5.573e+01\n",
      " 7.871e+00]\n"
     ]
    }
   ],
   "source": [
    "# feature extraction\n",
    "kbest = SelectKBest(score_func=f_regression, k=5)\n",
    "\n",
    "#Fitting finds the internal parameters of a model that will be used to transform data. \n",
    "fit = kbest.fit(X, Y)\n",
    "\n",
    "# summarize scores\n",
    "np.set_printoptions(precision=3)\n",
    "print(fit.scores_[:10])"
   ]
  },
  {
   "cell_type": "code",
   "execution_count": 125,
   "metadata": {},
   "outputs": [
    {
     "name": "stdout",
     "output_type": "stream",
     "text": [
      "[[ 45.73   0.    80.    11.     4.  ]\n",
      " [265.55   0.    18.     2.     4.  ]\n",
      " [ 37.42   0.    23.     2.     4.  ]\n",
      " [ 48.9    0.    55.     2.     4.  ]\n",
      " [408.16   0.    89.     3.     4.  ]\n",
      " [ 41.94   0.    38.     3.     4.  ]]\n"
     ]
    }
   ],
   "source": [
    "#Transforming applies the parameters to data. You may fit a model to one set of data, and then \n",
    "#transform it on a completely different set.\n",
    "features = fit.transform(X)\n",
    "# summarize selected features\n",
    "print(features[0:6,:])"
   ]
  },
  {
   "cell_type": "code",
   "execution_count": 136,
   "metadata": {},
   "outputs": [],
   "source": [
    "# In one step ???:\n",
    "#selected_features = kbest.fit_transform(X, Y)"
   ]
  },
  {
   "cell_type": "code",
   "execution_count": null,
   "metadata": {},
   "outputs": [],
   "source": []
  },
  {
   "cell_type": "code",
   "execution_count": null,
   "metadata": {},
   "outputs": [],
   "source": []
  },
  {
   "cell_type": "markdown",
   "metadata": {},
   "source": [
    "### Parameter Tuning in Scikit Learn using GridSearchCV:\n",
    "- grid search cross validation"
   ]
  },
  {
   "cell_type": "code",
   "execution_count": 191,
   "metadata": {},
   "outputs": [],
   "source": [
    "import numpy as np\n",
    "from sklearn.grid_search import GridSearchCV\n",
    "\n",
    "import matplotlib.pyplot as plt\n",
    "\n",
    "from sklearn.linear_model import Ridge\n"
   ]
  },
  {
   "cell_type": "code",
   "execution_count": 123,
   "metadata": {},
   "outputs": [],
   "source": [
    "X = df.drop('Net_Profit', axis=1)\n",
    "Y = df['Net_Profit']\n",
    "X = pd.get_dummies(X)\n",
    "X = X.dropna(axis=1)"
   ]
  },
  {
   "cell_type": "code",
   "execution_count": 124,
   "metadata": {},
   "outputs": [],
   "source": [
    "# prepare a range of alpha values to test\n",
    "alphas = np.array([1,0.1,0.01,0.001,0.0001,0])"
   ]
  },
  {
   "cell_type": "code",
   "execution_count": 125,
   "metadata": {},
   "outputs": [],
   "source": [
    "# create and fit a ridge regression model, testing each alpha\n",
    "model = Ridge()"
   ]
  },
  {
   "cell_type": "markdown",
   "metadata": {},
   "source": [
    "By default, the GridSearchCV’s cross validation uses 3-fold KFold or StratifiedKFold depending on the situation.\n"
   ]
  },
  {
   "cell_type": "code",
   "execution_count": 192,
   "metadata": {},
   "outputs": [],
   "source": [
    "# Create a based model\n",
    "rf_estimator = RandomForestRegressor()\n",
    "\n",
    "param_grid = {\n",
    "    'bootstrap': [True],\n",
    "    'max_depth': [80, 90, 100, 110],\n",
    "    'max_features': [2, 3],\n",
    "    'min_samples_leaf': [3, 4, 5],\n",
    "    'min_samples_split': [8, 10, 12],\n",
    "    'n_estimators': [100, 200, 300, 1000]\n",
    "}"
   ]
  },
  {
   "cell_type": "code",
   "execution_count": 193,
   "metadata": {
    "scrolled": true
   },
   "outputs": [
    {
     "name": "stdout",
     "output_type": "stream",
     "text": [
      "Fitting 5 folds for each of 288 candidates, totalling 1440 fits\n"
     ]
    },
    {
     "name": "stderr",
     "output_type": "stream",
     "text": [
      "[Parallel(n_jobs=-1)]: Done  33 tasks      | elapsed:    6.0s\n",
      "[Parallel(n_jobs=-1)]: Done 154 tasks      | elapsed:   21.7s\n",
      "[Parallel(n_jobs=-1)]: Done 357 tasks      | elapsed:   52.7s\n",
      "[Parallel(n_jobs=-1)]: Done 640 tasks      | elapsed:  1.5min\n",
      "[Parallel(n_jobs=-1)]: Done 1005 tasks      | elapsed:  2.3min\n",
      "[Parallel(n_jobs=-1)]: Done 1440 out of 1440 | elapsed:  3.3min finished\n"
     ]
    },
    {
     "name": "stdout",
     "output_type": "stream",
     "text": [
      "GridSearchCV(cv=5, error_score='raise',\n",
      "       estimator=RandomForestRegressor(bootstrap=True, criterion='mse', max_depth=None,\n",
      "           max_features='auto', max_leaf_nodes=None,\n",
      "           min_impurity_decrease=0.0, min_impurity_split=None,\n",
      "           min_samples_leaf=1, min_samples_split=2,\n",
      "           min_weight_fraction_leaf=0.0, n_estimators=10, n_jobs=1,\n",
      "           oob_score=False, random_state=None, verbose=0, warm_start=False),\n",
      "       fit_params={}, iid=True, n_jobs=-1,\n",
      "       param_grid={'bootstrap': [True], 'max_depth': [80, 90, 100, 110], 'max_features': [2, 3], 'n_estimators': [100, 200, 300, 1000], 'min_samples_split': [8, 10, 12], 'min_samples_leaf': [3, 4, 5]},\n",
      "       pre_dispatch='2*n_jobs', refit=True, scoring=None, verbose=2)\n"
     ]
    }
   ],
   "source": [
    "grid = GridSearchCV(estimator = rf_estimator, param_grid = param_grid ,  n_jobs=-1, cv=5 ,verbose = 2)\n",
    "grid.fit( X, Y )\n",
    "print(grid)\n"
   ]
  },
  {
   "cell_type": "code",
   "execution_count": 194,
   "metadata": {},
   "outputs": [
    {
     "name": "stdout",
     "output_type": "stream",
     "text": [
      "best_score_:  0.8826089270750923\n"
     ]
    }
   ],
   "source": [
    "# summarize the results of the grid search\n",
    "print('best_score_: ',grid.best_score_)"
   ]
  },
  {
   "cell_type": "code",
   "execution_count": 195,
   "metadata": {},
   "outputs": [
    {
     "name": "stdout",
     "output_type": "stream",
     "text": [
      "best_estimator_:  RandomForestRegressor(bootstrap=True, criterion='mse', max_depth=80,\n",
      "           max_features=3, max_leaf_nodes=None, min_impurity_decrease=0.0,\n",
      "           min_impurity_split=None, min_samples_leaf=3,\n",
      "           min_samples_split=8, min_weight_fraction_leaf=0.0,\n",
      "           n_estimators=1000, n_jobs=1, oob_score=False, random_state=None,\n",
      "           verbose=0, warm_start=False)\n"
     ]
    }
   ],
   "source": [
    "print('best_estimator_: ',grid.best_estimator_)"
   ]
  },
  {
   "cell_type": "code",
   "execution_count": 197,
   "metadata": {},
   "outputs": [
    {
     "data": {
      "text/plain": [
       "{'bootstrap': True,\n",
       " 'max_depth': 80,\n",
       " 'max_features': 3,\n",
       " 'min_samples_leaf': 3,\n",
       " 'min_samples_split': 8,\n",
       " 'n_estimators': 1000}"
      ]
     },
     "execution_count": 197,
     "metadata": {},
     "output_type": "execute_result"
    }
   ],
   "source": [
    "grid.best_params_"
   ]
  },
  {
   "cell_type": "code",
   "execution_count": null,
   "metadata": {
    "collapsed": true
   },
   "outputs": [],
   "source": []
  },
  {
   "cell_type": "markdown",
   "metadata": {},
   "source": [
    "### Evaluation Function:"
   ]
  },
  {
   "cell_type": "code",
   "execution_count": 205,
   "metadata": {},
   "outputs": [],
   "source": [
    "def evaluate(model, test_features, test_labels):\n",
    "    predictions = model.predict(test_features)\n",
    "    errors = abs(predictions - test_labels)\n",
    "    mape = 100 * np.mean(errors / test_labels)\n",
    "    accuracy = 100 - mape\n",
    "    print('Model Performance')\n",
    "    print('Average Error: {:0.4f} '.format(np.mean(errors)))\n",
    "    print('Accuracy = {:0.2f}%'.format(accuracy))"
   ]
  },
  {
   "cell_type": "code",
   "execution_count": 206,
   "metadata": {},
   "outputs": [
    {
     "name": "stdout",
     "output_type": "stream",
     "text": [
      "Model Performance\n",
      "Average Error: 29.5719 \n",
      "Accuracy = 254.71%\n"
     ]
    }
   ],
   "source": [
    "best_grid = grid.best_estimator_\n",
    "evaluate(best_grid, X_test , y_test )"
   ]
  },
  {
   "cell_type": "code",
   "execution_count": null,
   "metadata": {},
   "outputs": [],
   "source": []
  }
 ],
 "metadata": {
  "anaconda-cloud": {},
  "kernelspec": {
   "display_name": "Python [default]",
   "language": "python",
   "name": "python3"
  },
  "language_info": {
   "codemirror_mode": {
    "name": "ipython",
    "version": 3
   },
   "file_extension": ".py",
   "mimetype": "text/x-python",
   "name": "python",
   "nbconvert_exporter": "python",
   "pygments_lexer": "ipython3",
   "version": "3.5.4"
  },
  "latex_envs": {
   "LaTeX_envs_menu_present": true,
   "autocomplete": true,
   "bibliofile": "biblio.bib",
   "cite_by": "apalike",
   "current_citInitial": 1,
   "eqLabelWithNumbers": true,
   "eqNumInitial": 1,
   "hotkeys": {
    "equation": "Ctrl-E",
    "itemize": "Ctrl-I"
   },
   "labels_anchors": false,
   "latex_user_defs": false,
   "report_style_numbering": false,
   "user_envs_cfg": false
  }
 },
 "nbformat": 4,
 "nbformat_minor": 2
}
